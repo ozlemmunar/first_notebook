{
 "cells": [
  {
   "cell_type": "markdown",
   "id": "303859c8",
   "metadata": {
    "id": "303859c8"
   },
   "source": [
    "# Hi All\n",
    "\n",
    "\n",
    " ## We are learning Python with Jupyter Notebook"
   ]
  },
  {
   "cell_type": "markdown",
   "id": "c3b130ae",
   "metadata": {},
   "source": [
    "Basic Python Introduction Studies"
   ]
  },
  {
   "cell_type": "markdown",
   "id": "ff854672",
   "metadata": {
    "id": "ff854672"
   },
   "source": [
    "## SECTION : INTRO"
   ]
  },
  {
   "cell_type": "code",
   "execution_count": null,
   "id": "1828d9fc",
   "metadata": {
    "colab": {
     "base_uri": "https://localhost:8080/"
    },
    "executionInfo": {
     "elapsed": 341,
     "status": "ok",
     "timestamp": 1664647982706,
     "user": {
      "displayName": "Caner Gündüz",
      "userId": "16817770704696690817"
     },
     "user_tz": -180
    },
    "id": "1828d9fc",
    "outputId": "7b3890d0-b5eb-4191-cd7b-61dffa15d70d"
   },
   "outputs": [
    {
     "data": {
      "text/plain": [
       "6"
      ]
     },
     "execution_count": 10,
     "metadata": {},
     "output_type": "execute_result"
    }
   ],
   "source": [
    "# The first code\n",
    "\n",
    "3+3 "
   ]
  },
  {
   "cell_type": "code",
   "execution_count": null,
   "id": "de78969d",
   "metadata": {
    "colab": {
     "base_uri": "https://localhost:8080/"
    },
    "executionInfo": {
     "elapsed": 5,
     "status": "ok",
     "timestamp": 1664647983983,
     "user": {
      "displayName": "Caner Gündüz",
      "userId": "16817770704696690817"
     },
     "user_tz": -180
    },
    "id": "de78969d",
    "outputId": "29fde8b7-635d-49f9-fde5-01351600b564"
   },
   "outputs": [
    {
     "data": {
      "text/plain": [
       "1.3333333333333333"
      ]
     },
     "execution_count": 11,
     "metadata": {},
     "output_type": "execute_result"
    }
   ],
   "source": [
    "# Step by step\n",
    "\n",
    "4/3"
   ]
  },
  {
   "cell_type": "code",
   "execution_count": null,
   "id": "721fb3c5",
   "metadata": {
    "colab": {
     "base_uri": "https://localhost:8080/"
    },
    "executionInfo": {
     "elapsed": 3,
     "status": "ok",
     "timestamp": 1664647984921,
     "user": {
      "displayName": "Caner Gündüz",
      "userId": "16817770704696690817"
     },
     "user_tz": -180
    },
    "id": "721fb3c5",
    "outputId": "791d340f-fdd9-4cf0-9531-792882d31914"
   },
   "outputs": [
    {
     "data": {
      "text/plain": [
       "3.2"
      ]
     },
     "execution_count": 12,
     "metadata": {},
     "output_type": "execute_result"
    }
   ],
   "source": [
    "# Value\n",
    "\n",
    "3.2"
   ]
  },
  {
   "cell_type": "code",
   "execution_count": null,
   "id": "899b2ee8",
   "metadata": {
    "colab": {
     "base_uri": "https://localhost:8080/",
     "height": 36
    },
    "executionInfo": {
     "elapsed": 258,
     "status": "ok",
     "timestamp": 1664648382853,
     "user": {
      "displayName": "Caner Gündüz",
      "userId": "16817770704696690817"
     },
     "user_tz": -180
    },
    "id": "899b2ee8",
    "outputId": "9d00f095-1ac5-4166-b840-963d6956af20"
   },
   "outputs": [
    {
     "data": {
      "application/vnd.google.colaboratory.intrinsic+json": {
       "type": "string"
      },
      "text/plain": [
       "'c'"
      ]
     },
     "execution_count": 42,
     "metadata": {},
     "output_type": "execute_result"
    }
   ],
   "source": [
    "# Invalid  Variable\n",
    "\n",
    "\"c\""
   ]
  },
  {
   "cell_type": "code",
   "execution_count": null,
   "id": "1bddbd77",
   "metadata": {
    "colab": {
     "base_uri": "https://localhost:8080/"
    },
    "executionInfo": {
     "elapsed": 3,
     "status": "ok",
     "timestamp": 1664647986777,
     "user": {
      "displayName": "Caner Gündüz",
      "userId": "16817770704696690817"
     },
     "user_tz": -180
    },
    "id": "1bddbd77",
    "outputId": "f9d1cec4-897e-46fb-a954-cd4215e51ba9"
   },
   "outputs": [
    {
     "data": {
      "text/plain": [
       "3"
      ]
     },
     "execution_count": 14,
     "metadata": {},
     "output_type": "execute_result"
    }
   ],
   "source": [
    "# Variable\n",
    "\n",
    "a=3\n",
    "\n",
    "a"
   ]
  },
  {
   "cell_type": "code",
   "execution_count": null,
   "id": "b401ee6b",
   "metadata": {
    "id": "b401ee6b"
   },
   "outputs": [],
   "source": [
    "a = 9\n",
    "\n",
    "b = 10"
   ]
  },
  {
   "cell_type": "code",
   "execution_count": null,
   "id": "6a9529d1",
   "metadata": {
    "colab": {
     "base_uri": "https://localhost:8080/"
    },
    "executionInfo": {
     "elapsed": 12,
     "status": "ok",
     "timestamp": 1664647989087,
     "user": {
      "displayName": "Caner Gündüz",
      "userId": "16817770704696690817"
     },
     "user_tz": -180
    },
    "id": "6a9529d1",
    "outputId": "b60720d1-cf88-4bc0-a44e-b63a76122eb8"
   },
   "outputs": [
    {
     "data": {
      "text/plain": [
       "90"
      ]
     },
     "execution_count": 16,
     "metadata": {},
     "output_type": "execute_result"
    }
   ],
   "source": [
    "a * b"
   ]
  },
  {
   "cell_type": "code",
   "execution_count": null,
   "id": "12a77d22",
   "metadata": {
    "colab": {
     "base_uri": "https://localhost:8080/"
    },
    "executionInfo": {
     "elapsed": 3,
     "status": "ok",
     "timestamp": 1664647990192,
     "user": {
      "displayName": "Caner Gündüz",
      "userId": "16817770704696690817"
     },
     "user_tz": -180
    },
    "id": "12a77d22",
    "outputId": "dcd92fda-45cd-49ca-b0ea-782aaeabe1fb"
   },
   "outputs": [
    {
     "data": {
      "text/plain": [
       "19"
      ]
     },
     "execution_count": 17,
     "metadata": {},
     "output_type": "execute_result"
    }
   ],
   "source": [
    "a + b"
   ]
  },
  {
   "cell_type": "code",
   "execution_count": null,
   "id": "54629551",
   "metadata": {
    "colab": {
     "base_uri": "https://localhost:8080/"
    },
    "executionInfo": {
     "elapsed": 285,
     "status": "ok",
     "timestamp": 1664647991666,
     "user": {
      "displayName": "Caner Gündüz",
      "userId": "16817770704696690817"
     },
     "user_tz": -180
    },
    "id": "54629551",
    "outputId": "245b806b-7e56-4b35-d862-344f58fa3cdb"
   },
   "outputs": [
    {
     "name": "stdout",
     "output_type": "stream",
     "text": [
      "Python\n"
     ]
    }
   ],
   "source": [
    "print(\"Python\")"
   ]
  },
  {
   "cell_type": "code",
   "execution_count": null,
   "id": "Xdqszn9vwJuT",
   "metadata": {
    "colab": {
     "base_uri": "https://localhost:8080/"
    },
    "executionInfo": {
     "elapsed": 5,
     "status": "ok",
     "timestamp": 1664647998443,
     "user": {
      "displayName": "Caner Gündüz",
      "userId": "16817770704696690817"
     },
     "user_tz": -180
    },
    "id": "Xdqszn9vwJuT",
    "outputId": "fdaa7d92-bffe-44bf-a40d-46fdce564278"
   },
   "outputs": [
    {
     "name": "stdout",
     "output_type": "stream",
     "text": [
      "9\n"
     ]
    }
   ],
   "source": [
    "print(a)"
   ]
  },
  {
   "cell_type": "code",
   "execution_count": null,
   "id": "e6dc1db0",
   "metadata": {
    "colab": {
     "base_uri": "https://localhost:8080/"
    },
    "executionInfo": {
     "elapsed": 314,
     "status": "ok",
     "timestamp": 1664648030226,
     "user": {
      "displayName": "Caner Gündüz",
      "userId": "16817770704696690817"
     },
     "user_tz": -180
    },
    "id": "e6dc1db0",
    "outputId": "48925948-da93-4369-a026-5941bcc9736b"
   },
   "outputs": [
    {
     "name": "stdout",
     "output_type": "stream",
     "text": [
      "En sevdigim sayi :  3\n"
     ]
    }
   ],
   "source": [
    "print(\"En sevdigim sayi : \",3)"
   ]
  },
  {
   "cell_type": "code",
   "execution_count": null,
   "id": "5e0f07c0",
   "metadata": {
    "colab": {
     "base_uri": "https://localhost:8080/"
    },
    "executionInfo": {
     "elapsed": 4872,
     "status": "ok",
     "timestamp": 1664648048533,
     "user": {
      "displayName": "Caner Gündüz",
      "userId": "16817770704696690817"
     },
     "user_tz": -180
    },
    "id": "5e0f07c0",
    "outputId": "b9612123-a92f-45b8-f69c-0578c429bcc5"
   },
   "outputs": [
    {
     "name": "stdout",
     "output_type": "stream",
     "text": [
      "7\n"
     ]
    }
   ],
   "source": [
    "a = input()"
   ]
  },
  {
   "cell_type": "code",
   "execution_count": null,
   "id": "6ed40e5b",
   "metadata": {
    "colab": {
     "base_uri": "https://localhost:8080/",
     "height": 36
    },
    "executionInfo": {
     "elapsed": 358,
     "status": "ok",
     "timestamp": 1664648056603,
     "user": {
      "displayName": "Caner Gündüz",
      "userId": "16817770704696690817"
     },
     "user_tz": -180
    },
    "id": "6ed40e5b",
    "outputId": "1cc300cb-567c-480b-fcac-9d26275a074d"
   },
   "outputs": [
    {
     "data": {
      "application/vnd.google.colaboratory.intrinsic+json": {
       "type": "string"
      },
      "text/plain": [
       "'7'"
      ]
     },
     "execution_count": 23,
     "metadata": {},
     "output_type": "execute_result"
    }
   ],
   "source": [
    "a"
   ]
  },
  {
   "cell_type": "code",
   "execution_count": null,
   "id": "fd783d45",
   "metadata": {
    "colab": {
     "base_uri": "https://localhost:8080/"
    },
    "executionInfo": {
     "elapsed": 2483,
     "status": "ok",
     "timestamp": 1664648063578,
     "user": {
      "displayName": "Caner Gündüz",
      "userId": "16817770704696690817"
     },
     "user_tz": -180
    },
    "id": "fd783d45",
    "outputId": "f6bfce43-11d8-4382-992e-5c0bd185c319"
   },
   "outputs": [
    {
     "name": "stdout",
     "output_type": "stream",
     "text": [
      "5\n",
      "5\n"
     ]
    }
   ],
   "source": [
    "# Read Data\n",
    "\n",
    "a = input()\n",
    "\n",
    "print(a)"
   ]
  },
  {
   "cell_type": "code",
   "execution_count": 1,
   "id": "ce9b4fdd",
   "metadata": {
    "colab": {
     "base_uri": "https://localhost:8080/",
     "height": 260
    },
    "executionInfo": {
     "elapsed": 2294,
     "status": "error",
     "timestamp": 1664648114064,
     "user": {
      "displayName": "Caner Gündüz",
      "userId": "16817770704696690817"
     },
     "user_tz": -180
    },
    "id": "ce9b4fdd",
    "outputId": "a78d87d4-8870-4252-e224-d8499c27003d"
   },
   "outputs": [
    {
     "name": "stdout",
     "output_type": "stream",
     "text": [
      "5\n",
      "20\n",
      "100\n"
     ]
    }
   ],
   "source": [
    "### Read Data for Calculation\n",
    "\n",
    "a = int(input())\n",
    "b = int(input())\n",
    "\n",
    "\n",
    "print(a*b)"
   ]
  },
  {
   "cell_type": "code",
   "execution_count": null,
   "id": "60396b49",
   "metadata": {
    "colab": {
     "base_uri": "https://localhost:8080/"
    },
    "executionInfo": {
     "elapsed": 4438,
     "status": "ok",
     "timestamp": 1664648146475,
     "user": {
      "displayName": "Caner Gündüz",
      "userId": "16817770704696690817"
     },
     "user_tz": -180
    },
    "id": "60396b49",
    "outputId": "c29b5de7-22be-4fd4-aad3-b379fd2d5477"
   },
   "outputs": [
    {
     "name": "stdout",
     "output_type": "stream",
     "text": [
      "2\n",
      "4\n",
      "6\n"
     ]
    }
   ],
   "source": [
    "### Read Data for Calculation\n",
    "\n",
    "a = (input())\n",
    "b = (input())\n",
    "\n",
    "a=int(a)\n",
    "b=int(b)\n",
    "\n",
    "print(a+b)"
   ]
  },
  {
   "cell_type": "code",
   "execution_count": null,
   "id": "005e6ed8",
   "metadata": {
    "colab": {
     "base_uri": "https://localhost:8080/"
    },
    "executionInfo": {
     "elapsed": 258,
     "status": "ok",
     "timestamp": 1664648218921,
     "user": {
      "displayName": "Caner Gündüz",
      "userId": "16817770704696690817"
     },
     "user_tz": -180
    },
    "id": "005e6ed8",
    "outputId": "8229db3d-e15f-42da-dc32-b8dd25174e99"
   },
   "outputs": [
    {
     "data": {
      "text/plain": [
       "str"
      ]
     },
     "execution_count": 28,
     "metadata": {},
     "output_type": "execute_result"
    }
   ],
   "source": [
    "# Methods \n",
    "\n",
    "type(\"merhaba\")"
   ]
  },
  {
   "cell_type": "code",
   "execution_count": 3,
   "id": "5a4535fc",
   "metadata": {
    "colab": {
     "base_uri": "https://localhost:8080/",
     "height": 133
    },
    "executionInfo": {
     "elapsed": 16,
     "status": "error",
     "timestamp": 1664912802284,
     "user": {
      "displayName": "minel tuğçe Dunar",
      "userId": "05695089098120505049"
     },
     "user_tz": -180
    },
    "id": "5a4535fc",
    "outputId": "09c743a2-6590-4088-cb6a-8a1e30ffbaa5"
   },
   "outputs": [
    {
     "data": {
      "text/plain": [
       "str"
      ]
     },
     "execution_count": 3,
     "metadata": {},
     "output_type": "execute_result"
    }
   ],
   "source": [
    "type('2323')"
   ]
  },
  {
   "cell_type": "code",
   "execution_count": 4,
   "id": "XPxxEA9MxXcB",
   "metadata": {
    "id": "XPxxEA9MxXcB"
   },
   "outputs": [],
   "source": [
    "a=3"
   ]
  },
  {
   "cell_type": "code",
   "execution_count": 5,
   "id": "9335e40d",
   "metadata": {
    "colab": {
     "base_uri": "https://localhost:8080/"
    },
    "executionInfo": {
     "elapsed": 258,
     "status": "ok",
     "timestamp": 1664648364744,
     "user": {
      "displayName": "Caner Gündüz",
      "userId": "16817770704696690817"
     },
     "user_tz": -180
    },
    "id": "9335e40d",
    "outputId": "069a4505-8e0c-40ae-dccd-91a69bae9eeb"
   },
   "outputs": [
    {
     "data": {
      "text/plain": [
       "int"
      ]
     },
     "execution_count": 5,
     "metadata": {},
     "output_type": "execute_result"
    }
   ],
   "source": [
    "type(a)"
   ]
  },
  {
   "cell_type": "code",
   "execution_count": null,
   "id": "SOBf5KJNxYt7",
   "metadata": {
    "id": "SOBf5KJNxYt7"
   },
   "outputs": [],
   "source": [
    "a='elma'"
   ]
  },
  {
   "cell_type": "code",
   "execution_count": null,
   "id": "xEbdUlupxaaC",
   "metadata": {
    "colab": {
     "base_uri": "https://localhost:8080/"
    },
    "executionInfo": {
     "elapsed": 274,
     "status": "ok",
     "timestamp": 1664648335862,
     "user": {
      "displayName": "Caner Gündüz",
      "userId": "16817770704696690817"
     },
     "user_tz": -180
    },
    "id": "xEbdUlupxaaC",
    "outputId": "4fdea6d3-af94-42c7-d2a3-91a87d4feb87"
   },
   "outputs": [
    {
     "data": {
      "text/plain": [
       "str"
      ]
     },
     "execution_count": 38,
     "metadata": {},
     "output_type": "execute_result"
    }
   ],
   "source": [
    "type(a)"
   ]
  },
  {
   "cell_type": "code",
   "execution_count": null,
   "id": "fe3b0d89",
   "metadata": {
    "id": "fe3b0d89",
    "outputId": "7c2cbc8d-534e-4c9b-99a0-8a2209886603"
   },
   "outputs": [
    {
     "data": {
      "text/plain": [
       "int"
      ]
     },
     "execution_count": 258,
     "metadata": {},
     "output_type": "execute_result"
    }
   ],
   "source": [
    "type(b)"
   ]
  },
  {
   "cell_type": "code",
   "execution_count": null,
   "id": "CJO8VS3dxqCQ",
   "metadata": {
    "id": "CJO8VS3dxqCQ"
   },
   "outputs": [],
   "source": [
    "c=4/3"
   ]
  },
  {
   "cell_type": "code",
   "execution_count": null,
   "id": "87f005b4",
   "metadata": {
    "colab": {
     "base_uri": "https://localhost:8080/"
    },
    "executionInfo": {
     "elapsed": 309,
     "status": "ok",
     "timestamp": 1664648396147,
     "user": {
      "displayName": "Caner Gündüz",
      "userId": "16817770704696690817"
     },
     "user_tz": -180
    },
    "id": "87f005b4",
    "outputId": "901f9234-5d73-4200-f5b2-8ca8ab978fdd"
   },
   "outputs": [
    {
     "data": {
      "text/plain": [
       "float"
      ]
     },
     "execution_count": 44,
     "metadata": {},
     "output_type": "execute_result"
    }
   ],
   "source": [
    "type(c)"
   ]
  },
  {
   "cell_type": "code",
   "execution_count": null,
   "id": "4862df5a",
   "metadata": {
    "colab": {
     "base_uri": "https://localhost:8080/"
    },
    "executionInfo": {
     "elapsed": 264,
     "status": "ok",
     "timestamp": 1664648406645,
     "user": {
      "displayName": "Caner Gündüz",
      "userId": "16817770704696690817"
     },
     "user_tz": -180
    },
    "id": "4862df5a",
    "outputId": "15294108-658a-4d70-bc49-c921434bba58"
   },
   "outputs": [
    {
     "data": {
      "text/plain": [
       "float"
      ]
     },
     "execution_count": 45,
     "metadata": {},
     "output_type": "execute_result"
    }
   ],
   "source": [
    "c= 3.4\n",
    "type(c)"
   ]
  },
  {
   "cell_type": "code",
   "execution_count": null,
   "id": "c9cfb202",
   "metadata": {
    "id": "c9cfb202"
   },
   "outputs": [],
   "source": [
    "info = \"Assignments Operations\""
   ]
  },
  {
   "cell_type": "code",
   "execution_count": null,
   "id": "d69caf6a",
   "metadata": {
    "colab": {
     "base_uri": "https://localhost:8080/"
    },
    "executionInfo": {
     "elapsed": 255,
     "status": "ok",
     "timestamp": 1664648411569,
     "user": {
      "displayName": "Caner Gündüz",
      "userId": "16817770704696690817"
     },
     "user_tz": -180
    },
    "id": "d69caf6a",
    "outputId": "66c7e282-f6b6-4020-8f8f-95bc6d9d8afd"
   },
   "outputs": [
    {
     "data": {
      "text/plain": [
       "str"
      ]
     },
     "execution_count": 47,
     "metadata": {},
     "output_type": "execute_result"
    }
   ],
   "source": [
    "type(info)"
   ]
  },
  {
   "cell_type": "code",
   "execution_count": null,
   "id": "6899857c",
   "metadata": {
    "colab": {
     "base_uri": "https://localhost:8080/"
    },
    "executionInfo": {
     "elapsed": 248,
     "status": "ok",
     "timestamp": 1664648440183,
     "user": {
      "displayName": "Caner Gündüz",
      "userId": "16817770704696690817"
     },
     "user_tz": -180
    },
    "id": "6899857c",
    "outputId": "caaa8d29-a110-4162-effe-af8a36e05373"
   },
   "outputs": [
    {
     "data": {
      "text/plain": [
       "4"
      ]
     },
     "execution_count": 48,
     "metadata": {},
     "output_type": "execute_result"
    }
   ],
   "source": [
    "info.count(\"s\")"
   ]
  },
  {
   "cell_type": "code",
   "execution_count": null,
   "id": "50ada5ff",
   "metadata": {
    "colab": {
     "base_uri": "https://localhost:8080/",
     "height": 36
    },
    "executionInfo": {
     "elapsed": 297,
     "status": "ok",
     "timestamp": 1664648464192,
     "user": {
      "displayName": "Caner Gündüz",
      "userId": "16817770704696690817"
     },
     "user_tz": -180
    },
    "id": "50ada5ff",
    "outputId": "02fc9e18-5f64-4792-f510-548a0abc0c32"
   },
   "outputs": [
    {
     "data": {
      "application/vnd.google.colaboratory.intrinsic+json": {
       "type": "string"
      },
      "text/plain": [
       "'ASSIGNMENTS OPERATIONS'"
      ]
     },
     "execution_count": 49,
     "metadata": {},
     "output_type": "execute_result"
    }
   ],
   "source": [
    "info.upper()"
   ]
  },
  {
   "cell_type": "code",
   "execution_count": null,
   "id": "abf9c6b8",
   "metadata": {
    "colab": {
     "base_uri": "https://localhost:8080/",
     "height": 36
    },
    "executionInfo": {
     "elapsed": 379,
     "status": "ok",
     "timestamp": 1664648470026,
     "user": {
      "displayName": "Caner Gündüz",
      "userId": "16817770704696690817"
     },
     "user_tz": -180
    },
    "id": "abf9c6b8",
    "outputId": "23a54cd0-2443-4c80-ba88-af9eed07f2f1"
   },
   "outputs": [
    {
     "data": {
      "application/vnd.google.colaboratory.intrinsic+json": {
       "type": "string"
      },
      "text/plain": [
       "'assignments operations'"
      ]
     },
     "execution_count": 50,
     "metadata": {},
     "output_type": "execute_result"
    }
   ],
   "source": [
    "info.lower()"
   ]
  },
  {
   "cell_type": "code",
   "execution_count": null,
   "id": "9e559cc8",
   "metadata": {
    "colab": {
     "base_uri": "https://localhost:8080/",
     "height": 36
    },
    "executionInfo": {
     "elapsed": 392,
     "status": "ok",
     "timestamp": 1664648521632,
     "user": {
      "displayName": "Caner Gündüz",
      "userId": "16817770704696690817"
     },
     "user_tz": -180
    },
    "id": "9e559cc8",
    "outputId": "af136410-d849-4e09-c12e-990bd163d4fc"
   },
   "outputs": [
    {
     "data": {
      "application/vnd.google.colaboratory.intrinsic+json": {
       "type": "string"
      },
      "text/plain": [
       "'Assignments????Operations'"
      ]
     },
     "execution_count": 57,
     "metadata": {},
     "output_type": "execute_result"
    }
   ],
   "source": [
    "info.replace(\" \", \"????\")"
   ]
  },
  {
   "cell_type": "code",
   "execution_count": null,
   "id": "ptwzTE34yFwx",
   "metadata": {
    "colab": {
     "base_uri": "https://localhost:8080/",
     "height": 36
    },
    "executionInfo": {
     "elapsed": 256,
     "status": "ok",
     "timestamp": 1664648536177,
     "user": {
      "displayName": "Caner Gündüz",
      "userId": "16817770704696690817"
     },
     "user_tz": -180
    },
    "id": "ptwzTE34yFwx",
    "outputId": "b607954f-7fc7-4dd6-e574-9d718907b577"
   },
   "outputs": [
    {
     "data": {
      "application/vnd.google.colaboratory.intrinsic+json": {
       "type": "string"
      },
      "text/plain": [
       "'Assignments Operations'"
      ]
     },
     "execution_count": 58,
     "metadata": {},
     "output_type": "execute_result"
    }
   ],
   "source": [
    "info"
   ]
  },
  {
   "cell_type": "code",
   "execution_count": null,
   "id": "b8fd0c0b",
   "metadata": {
    "id": "b8fd0c0b"
   },
   "outputs": [],
   "source": [
    "info = info.replace(\" \", \"=\")"
   ]
  },
  {
   "cell_type": "code",
   "execution_count": null,
   "id": "4f03136c",
   "metadata": {
    "colab": {
     "base_uri": "https://localhost:8080/",
     "height": 36
    },
    "executionInfo": {
     "elapsed": 260,
     "status": "ok",
     "timestamp": 1664648598344,
     "user": {
      "displayName": "Caner Gündüz",
      "userId": "16817770704696690817"
     },
     "user_tz": -180
    },
    "id": "4f03136c",
    "outputId": "cfe90a4e-c11b-4580-9fcc-77d69b573709"
   },
   "outputs": [
    {
     "data": {
      "application/vnd.google.colaboratory.intrinsic+json": {
       "type": "string"
      },
      "text/plain": [
       "'ASSIGNMENTS=OPERATIONS'"
      ]
     },
     "execution_count": 60,
     "metadata": {},
     "output_type": "execute_result"
    }
   ],
   "source": [
    "info.upper()"
   ]
  },
  {
   "cell_type": "code",
   "execution_count": null,
   "id": "c5c92087",
   "metadata": {
    "colab": {
     "base_uri": "https://localhost:8080/",
     "height": 36
    },
    "executionInfo": {
     "elapsed": 275,
     "status": "ok",
     "timestamp": 1664648622375,
     "user": {
      "displayName": "Caner Gündüz",
      "userId": "16817770704696690817"
     },
     "user_tz": -180
    },
    "id": "c5c92087",
    "outputId": "170d0d1a-2734-4b2e-ba34-af135b2b9c53"
   },
   "outputs": [
    {
     "data": {
      "application/vnd.google.colaboratory.intrinsic+json": {
       "type": "string"
      },
      "text/plain": [
       "'Assignments:Operations'"
      ]
     },
     "execution_count": 61,
     "metadata": {},
     "output_type": "execute_result"
    }
   ],
   "source": [
    "info.replace(\"=\", \":\")"
   ]
  },
  {
   "cell_type": "code",
   "execution_count": null,
   "id": "0921230e",
   "metadata": {
    "id": "0921230e"
   },
   "outputs": [],
   "source": [
    "info = info.upper()"
   ]
  },
  {
   "cell_type": "code",
   "execution_count": null,
   "id": "da2774c0",
   "metadata": {
    "colab": {
     "base_uri": "https://localhost:8080/",
     "height": 36
    },
    "executionInfo": {
     "elapsed": 285,
     "status": "ok",
     "timestamp": 1664648627775,
     "user": {
      "displayName": "Caner Gündüz",
      "userId": "16817770704696690817"
     },
     "user_tz": -180
    },
    "id": "da2774c0",
    "outputId": "310f33e8-cc74-49bf-dd54-a9d9432a7b6b"
   },
   "outputs": [
    {
     "data": {
      "application/vnd.google.colaboratory.intrinsic+json": {
       "type": "string"
      },
      "text/plain": [
       "'ASSIGNMENTS=OPERATIONS'"
      ]
     },
     "execution_count": 63,
     "metadata": {},
     "output_type": "execute_result"
    }
   ],
   "source": [
    "info.replace(\" \", \"=\")"
   ]
  },
  {
   "cell_type": "code",
   "execution_count": null,
   "id": "1e6a04d3",
   "metadata": {
    "colab": {
     "base_uri": "https://localhost:8080/",
     "height": 36
    },
    "executionInfo": {
     "elapsed": 268,
     "status": "ok",
     "timestamp": 1664648676431,
     "user": {
      "displayName": "Caner Gündüz",
      "userId": "16817770704696690817"
     },
     "user_tz": -180
    },
    "id": "1e6a04d3",
    "outputId": "39de6529-97d1-4ab8-c8f3-641b5d8d3bfd"
   },
   "outputs": [
    {
     "data": {
      "application/vnd.google.colaboratory.intrinsic+json": {
       "type": "string"
      },
      "text/plain": [
       "'ASSIGNMENTS=OPERATIONS'"
      ]
     },
     "execution_count": 66,
     "metadata": {},
     "output_type": "execute_result"
    }
   ],
   "source": [
    "info.upper().replace(\" \", \"=\")"
   ]
  },
  {
   "cell_type": "code",
   "execution_count": null,
   "id": "60db7ed5",
   "metadata": {
    "colab": {
     "base_uri": "https://localhost:8080/"
    },
    "executionInfo": {
     "elapsed": 259,
     "status": "ok",
     "timestamp": 1664648691810,
     "user": {
      "displayName": "Caner Gündüz",
      "userId": "16817770704696690817"
     },
     "user_tz": -180
    },
    "id": "60db7ed5",
    "outputId": "770a9a0f-25c3-4776-a826-1bc043281bd9"
   },
   "outputs": [
    {
     "data": {
      "text/plain": [
       "True"
      ]
     },
     "execution_count": 67,
     "metadata": {},
     "output_type": "execute_result"
    }
   ],
   "source": [
    "\"ASD\".isupper()"
   ]
  },
  {
   "cell_type": "code",
   "execution_count": null,
   "id": "NcGA2jAay3Q9",
   "metadata": {
    "colab": {
     "base_uri": "https://localhost:8080/"
    },
    "executionInfo": {
     "elapsed": 268,
     "status": "ok",
     "timestamp": 1664648716356,
     "user": {
      "displayName": "Caner Gündüz",
      "userId": "16817770704696690817"
     },
     "user_tz": -180
    },
    "id": "NcGA2jAay3Q9",
    "outputId": "5e8e164d-7cd8-460f-c775-3f81dc54c7dd"
   },
   "outputs": [
    {
     "data": {
      "text/plain": [
       "False"
      ]
     },
     "execution_count": 68,
     "metadata": {},
     "output_type": "execute_result"
    }
   ],
   "source": [
    "\"AsD\".isupper()"
   ]
  },
  {
   "cell_type": "code",
   "execution_count": null,
   "id": "b5c0edc7",
   "metadata": {
    "id": "b5c0edc7",
    "outputId": "3b45d05b-4d7a-429f-97d0-34fb48071f10"
   },
   "outputs": [
    {
     "data": {
      "text/plain": [
       "2"
      ]
     },
     "execution_count": 278,
     "metadata": {},
     "output_type": "execute_result"
    }
   ],
   "source": [
    "\"YESIL\".isupper()+\"AÇIK\".isupper()"
   ]
  },
  {
   "cell_type": "code",
   "execution_count": null,
   "id": "dbdc3cfc",
   "metadata": {
    "id": "dbdc3cfc"
   },
   "outputs": [],
   "source": [
    "# Assignments Operations"
   ]
  },
  {
   "cell_type": "code",
   "execution_count": null,
   "id": "793e578a",
   "metadata": {
    "colab": {
     "base_uri": "https://localhost:8080/",
     "height": 36
    },
    "executionInfo": {
     "elapsed": 277,
     "status": "ok",
     "timestamp": 1664648816760,
     "user": {
      "displayName": "Caner Gündüz",
      "userId": "16817770704696690817"
     },
     "user_tz": -180
    },
    "id": "793e578a",
    "outputId": "a1a80529-a21b-4d7d-de36-b05ca531c5c9"
   },
   "outputs": [
    {
     "data": {
      "application/vnd.google.colaboratory.intrinsic+json": {
       "type": "string"
      },
      "text/plain": [
       "'Assignments Operations'"
      ]
     },
     "execution_count": 69,
     "metadata": {},
     "output_type": "execute_result"
    }
   ],
   "source": [
    "info = \"Assignments Operations\"\n",
    "info"
   ]
  },
  {
   "cell_type": "code",
   "execution_count": null,
   "id": "aa9fda3e",
   "metadata": {
    "id": "aa9fda3e",
    "outputId": "50098861-0de2-47b3-c7df-56327bc770d3"
   },
   "outputs": [
    {
     "data": {
      "text/plain": [
       "'ASSIGNMENTS OPERATIONS'"
      ]
     },
     "execution_count": 35,
     "metadata": {},
     "output_type": "execute_result"
    }
   ],
   "source": [
    "info.upper()"
   ]
  },
  {
   "cell_type": "code",
   "execution_count": null,
   "id": "195dbf11",
   "metadata": {
    "id": "195dbf11",
    "outputId": "11b15f02-49b9-43b6-bcb3-0c09600a01a3"
   },
   "outputs": [
    {
     "data": {
      "text/plain": [
       "'assignments operations'"
      ]
     },
     "execution_count": 36,
     "metadata": {},
     "output_type": "execute_result"
    }
   ],
   "source": [
    "info.lower()"
   ]
  },
  {
   "cell_type": "code",
   "execution_count": null,
   "id": "7837831d",
   "metadata": {
    "id": "7837831d",
    "outputId": "bbfd7f8e-68a7-4742-b986-44849c5eb93d"
   },
   "outputs": [
    {
     "data": {
      "text/plain": [
       "'Assignments=Operations'"
      ]
     },
     "execution_count": 37,
     "metadata": {},
     "output_type": "execute_result"
    }
   ],
   "source": [
    "info.replace(\" \", \"=\")"
   ]
  },
  {
   "cell_type": "code",
   "execution_count": null,
   "id": "5cec70b1",
   "metadata": {
    "colab": {
     "base_uri": "https://localhost:8080/"
    },
    "executionInfo": {
     "elapsed": 292,
     "status": "ok",
     "timestamp": 1664648827066,
     "user": {
      "displayName": "Caner Gündüz",
      "userId": "16817770704696690817"
     },
     "user_tz": -180
    },
    "id": "5cec70b1",
    "outputId": "f9d7db9b-bf1f-4709-c515-d8913716396c"
   },
   "outputs": [
    {
     "data": {
      "text/plain": [
       "False"
      ]
     },
     "execution_count": 70,
     "metadata": {},
     "output_type": "execute_result"
    }
   ],
   "source": [
    "\"ASs\".isupper()"
   ]
  },
  {
   "cell_type": "code",
   "execution_count": null,
   "id": "d5d511ea",
   "metadata": {
    "colab": {
     "base_uri": "https://localhost:8080/"
    },
    "executionInfo": {
     "elapsed": 271,
     "status": "ok",
     "timestamp": 1664648831354,
     "user": {
      "displayName": "Caner Gündüz",
      "userId": "16817770704696690817"
     },
     "user_tz": -180
    },
    "id": "d5d511ea",
    "outputId": "980df06f-973c-4187-ff3b-4e26ecb3a95b"
   },
   "outputs": [
    {
     "data": {
      "text/plain": [
       "False"
      ]
     },
     "execution_count": 71,
     "metadata": {},
     "output_type": "execute_result"
    }
   ],
   "source": [
    "info.isupper()"
   ]
  },
  {
   "cell_type": "markdown",
   "id": "2bdc1ea3",
   "metadata": {
    "id": "2bdc1ea3"
   },
   "source": [
    "## SECTION : DATA TYPES"
   ]
  },
  {
   "cell_type": "code",
   "execution_count": null,
   "id": "f65ba204",
   "metadata": {
    "id": "f65ba204",
    "outputId": "4cd98c22-098a-43e7-aeed-cc6b588bab82"
   },
   "outputs": [
    {
     "data": {
      "text/plain": [
       "int"
      ]
     },
     "execution_count": 279,
     "metadata": {},
     "output_type": "execute_result"
    }
   ],
   "source": [
    "# Data Types & Integer\n",
    "\n",
    "x = 18\n",
    "type(x)"
   ]
  },
  {
   "cell_type": "code",
   "execution_count": null,
   "id": "4ca6aba1",
   "metadata": {
    "id": "4ca6aba1",
    "outputId": "6ad9b978-b009-492b-d157-b9116ee42204"
   },
   "outputs": [
    {
     "data": {
      "text/plain": [
       "float"
      ]
     },
     "execution_count": 42,
     "metadata": {},
     "output_type": "execute_result"
    }
   ],
   "source": [
    "# Data Types & Integer\n",
    "\n",
    "y = 4.2\n",
    "type(y)"
   ]
  },
  {
   "cell_type": "code",
   "execution_count": null,
   "id": "36f47122",
   "metadata": {
    "id": "36f47122",
    "outputId": "7ba94931-aea5-4669-854a-a4c41949f75b"
   },
   "outputs": [
    {
     "data": {
      "text/plain": [
       "str"
      ]
     },
     "execution_count": 43,
     "metadata": {},
     "output_type": "execute_result"
    }
   ],
   "source": [
    "# Data Types & String\n",
    "\n",
    "a = \"Hello World\"\n",
    "type(a)"
   ]
  },
  {
   "cell_type": "markdown",
   "id": "58ee4a51",
   "metadata": {
    "id": "58ee4a51"
   },
   "source": [
    "### LIST"
   ]
  },
  {
   "cell_type": "code",
   "execution_count": null,
   "id": "d3c46c87",
   "metadata": {
    "id": "d3c46c87"
   },
   "outputs": [],
   "source": [
    "my_list = [3,3,4, 'a',True]"
   ]
  },
  {
   "cell_type": "code",
   "execution_count": null,
   "id": "aa270697",
   "metadata": {
    "colab": {
     "base_uri": "https://localhost:8080/"
    },
    "executionInfo": {
     "elapsed": 4,
     "status": "ok",
     "timestamp": 1664648958633,
     "user": {
      "displayName": "Caner Gündüz",
      "userId": "16817770704696690817"
     },
     "user_tz": -180
    },
    "id": "aa270697",
    "outputId": "9414194f-ee85-40f3-b03e-3588a425bb9b"
   },
   "outputs": [
    {
     "data": {
      "text/plain": [
       "[3, 3, 4, 'a', True]"
      ]
     },
     "execution_count": 73,
     "metadata": {},
     "output_type": "execute_result"
    }
   ],
   "source": [
    "my_list"
   ]
  },
  {
   "cell_type": "code",
   "execution_count": null,
   "id": "0dc311ed",
   "metadata": {
    "colab": {
     "base_uri": "https://localhost:8080/"
    },
    "executionInfo": {
     "elapsed": 3,
     "status": "ok",
     "timestamp": 1664648959644,
     "user": {
      "displayName": "Caner Gündüz",
      "userId": "16817770704696690817"
     },
     "user_tz": -180
    },
    "id": "0dc311ed",
    "outputId": "0f67c93b-2ec4-4986-c989-ff76075cc3a4"
   },
   "outputs": [
    {
     "data": {
      "text/plain": [
       "5"
      ]
     },
     "execution_count": 74,
     "metadata": {},
     "output_type": "execute_result"
    }
   ],
   "source": [
    "len(my_list)"
   ]
  },
  {
   "cell_type": "code",
   "execution_count": null,
   "id": "4227d230",
   "metadata": {
    "id": "4227d230"
   },
   "outputs": [],
   "source": [
    "#[3, 3, 4, 'a', True]\n",
    "#[0, 1, 2,  3,   4]"
   ]
  },
  {
   "cell_type": "code",
   "execution_count": null,
   "id": "72600099",
   "metadata": {
    "colab": {
     "base_uri": "https://localhost:8080/"
    },
    "executionInfo": {
     "elapsed": 249,
     "status": "ok",
     "timestamp": 1664648961718,
     "user": {
      "displayName": "Caner Gündüz",
      "userId": "16817770704696690817"
     },
     "user_tz": -180
    },
    "id": "72600099",
    "outputId": "4da3b856-8d8f-4e17-ee90-3ae8b10dcf9f"
   },
   "outputs": [
    {
     "data": {
      "text/plain": [
       "4"
      ]
     },
     "execution_count": 75,
     "metadata": {},
     "output_type": "execute_result"
    }
   ],
   "source": [
    "my_list[2]  #2. indeks... 0,1,2,3..."
   ]
  },
  {
   "cell_type": "code",
   "execution_count": null,
   "id": "28385efe",
   "metadata": {
    "colab": {
     "base_uri": "https://localhost:8080/",
     "height": 36
    },
    "executionInfo": {
     "elapsed": 271,
     "status": "ok",
     "timestamp": 1664648963075,
     "user": {
      "displayName": "Caner Gündüz",
      "userId": "16817770704696690817"
     },
     "user_tz": -180
    },
    "id": "28385efe",
    "outputId": "ede48f0b-9a4f-484d-cf33-bc12fdb64b05"
   },
   "outputs": [
    {
     "data": {
      "application/vnd.google.colaboratory.intrinsic+json": {
       "type": "string"
      },
      "text/plain": [
       "'a'"
      ]
     },
     "execution_count": 76,
     "metadata": {},
     "output_type": "execute_result"
    }
   ],
   "source": [
    "my_list[3]"
   ]
  },
  {
   "cell_type": "code",
   "execution_count": null,
   "id": "imdphpMcz2ps",
   "metadata": {
    "colab": {
     "base_uri": "https://localhost:8080/",
     "height": 36
    },
    "executionInfo": {
     "elapsed": 327,
     "status": "ok",
     "timestamp": 1664648971751,
     "user": {
      "displayName": "Caner Gündüz",
      "userId": "16817770704696690817"
     },
     "user_tz": -180
    },
    "id": "imdphpMcz2ps",
    "outputId": "14c5ceef-6d8b-48fa-81d2-825879292486"
   },
   "outputs": [
    {
     "data": {
      "application/vnd.google.colaboratory.intrinsic+json": {
       "type": "string"
      },
      "text/plain": [
       "'a'"
      ]
     },
     "execution_count": 77,
     "metadata": {},
     "output_type": "execute_result"
    }
   ],
   "source": [
    "my_list[-2]"
   ]
  },
  {
   "cell_type": "code",
   "execution_count": null,
   "id": "5eb5e3ae",
   "metadata": {
    "colab": {
     "base_uri": "https://localhost:8080/"
    },
    "executionInfo": {
     "elapsed": 250,
     "status": "ok",
     "timestamp": 1664649019413,
     "user": {
      "displayName": "Caner Gündüz",
      "userId": "16817770704696690817"
     },
     "user_tz": -180
    },
    "id": "5eb5e3ae",
    "outputId": "13071ac3-50a6-4b41-fd4a-1e616345df25"
   },
   "outputs": [
    {
     "data": {
      "text/plain": [
       "[4, 'a']"
      ]
     },
     "execution_count": 78,
     "metadata": {},
     "output_type": "execute_result"
    }
   ],
   "source": [
    "my_list[2:4] "
   ]
  },
  {
   "cell_type": "code",
   "execution_count": null,
   "id": "da06b5df",
   "metadata": {
    "id": "da06b5df"
   },
   "outputs": [],
   "source": [
    "my_list[3]='miuul'"
   ]
  },
  {
   "cell_type": "code",
   "execution_count": null,
   "id": "81b90d8d",
   "metadata": {
    "colab": {
     "base_uri": "https://localhost:8080/"
    },
    "executionInfo": {
     "elapsed": 402,
     "status": "ok",
     "timestamp": 1664649088154,
     "user": {
      "displayName": "Caner Gündüz",
      "userId": "16817770704696690817"
     },
     "user_tz": -180
    },
    "id": "81b90d8d",
    "outputId": "b2e403d3-361e-4c94-b48a-9ed6b14cfb9c"
   },
   "outputs": [
    {
     "data": {
      "text/plain": [
       "[3, 3, 4, 'miuul', True]"
      ]
     },
     "execution_count": 81,
     "metadata": {},
     "output_type": "execute_result"
    }
   ],
   "source": [
    "my_list"
   ]
  },
  {
   "cell_type": "markdown",
   "id": "bf56132b",
   "metadata": {
    "id": "bf56132b"
   },
   "source": [
    "### TUPLE"
   ]
  },
  {
   "cell_type": "code",
   "execution_count": 8,
   "id": "4d59a3ec",
   "metadata": {
    "id": "4d59a3ec"
   },
   "outputs": [],
   "source": [
    "my_tuple =(3,3,4,'a')"
   ]
  },
  {
   "cell_type": "code",
   "execution_count": 9,
   "id": "26938bbc",
   "metadata": {
    "colab": {
     "base_uri": "https://localhost:8080/"
    },
    "executionInfo": {
     "elapsed": 259,
     "status": "ok",
     "timestamp": 1664649195408,
     "user": {
      "displayName": "Caner Gündüz",
      "userId": "16817770704696690817"
     },
     "user_tz": -180
    },
    "id": "26938bbc",
    "outputId": "6ae3440e-4837-451d-e37a-6883f9e68cce"
   },
   "outputs": [
    {
     "data": {
      "text/plain": [
       "(3, 3, 4, 'a')"
      ]
     },
     "execution_count": 9,
     "metadata": {},
     "output_type": "execute_result"
    }
   ],
   "source": [
    "my_tuple"
   ]
  },
  {
   "cell_type": "code",
   "execution_count": 10,
   "id": "1db3d00b",
   "metadata": {
    "colab": {
     "base_uri": "https://localhost:8080/"
    },
    "executionInfo": {
     "elapsed": 254,
     "status": "ok",
     "timestamp": 1664649207056,
     "user": {
      "displayName": "Caner Gündüz",
      "userId": "16817770704696690817"
     },
     "user_tz": -180
    },
    "id": "1db3d00b",
    "outputId": "2b0781aa-7590-4695-d16f-25c5672b6e8c"
   },
   "outputs": [
    {
     "data": {
      "text/plain": [
       "4"
      ]
     },
     "execution_count": 10,
     "metadata": {},
     "output_type": "execute_result"
    }
   ],
   "source": [
    "my_tuple[2]"
   ]
  },
  {
   "cell_type": "code",
   "execution_count": null,
   "id": "b2a43616",
   "metadata": {
    "id": "b2a43616"
   },
   "outputs": [],
   "source": [
    "my_tuple_list = list(my_tuple)"
   ]
  },
  {
   "cell_type": "code",
   "execution_count": null,
   "id": "5a32414d",
   "metadata": {
    "colab": {
     "base_uri": "https://localhost:8080/"
    },
    "executionInfo": {
     "elapsed": 256,
     "status": "ok",
     "timestamp": 1664649252159,
     "user": {
      "displayName": "Caner Gündüz",
      "userId": "16817770704696690817"
     },
     "user_tz": -180
    },
    "id": "5a32414d",
    "outputId": "68986566-1d4f-49e0-bd31-c3dbd14a2d29"
   },
   "outputs": [
    {
     "data": {
      "text/plain": [
       "list"
      ]
     },
     "execution_count": 90,
     "metadata": {},
     "output_type": "execute_result"
    }
   ],
   "source": [
    "type(my_tuple_list)"
   ]
  },
  {
   "cell_type": "markdown",
   "id": "2027a1ec",
   "metadata": {
    "id": "2027a1ec"
   },
   "source": [
    "### SET"
   ]
  },
  {
   "cell_type": "code",
   "execution_count": null,
   "id": "59c68b56",
   "metadata": {
    "id": "59c68b56"
   },
   "outputs": [],
   "source": [
    "my_set ={3,3,4,'a'}"
   ]
  },
  {
   "cell_type": "code",
   "execution_count": null,
   "id": "7008d56a",
   "metadata": {
    "colab": {
     "base_uri": "https://localhost:8080/"
    },
    "executionInfo": {
     "elapsed": 265,
     "status": "ok",
     "timestamp": 1664649290657,
     "user": {
      "displayName": "Caner Gündüz",
      "userId": "16817770704696690817"
     },
     "user_tz": -180
    },
    "id": "7008d56a",
    "outputId": "5b7dcd58-e60b-4fd8-8c19-8879ea1db667"
   },
   "outputs": [
    {
     "data": {
      "text/plain": [
       "{3, 4, 'a'}"
      ]
     },
     "execution_count": 96,
     "metadata": {},
     "output_type": "execute_result"
    }
   ],
   "source": [
    "my_set"
   ]
  },
  {
   "cell_type": "code",
   "execution_count": null,
   "id": "adc46ec2",
   "metadata": {
    "id": "adc46ec2"
   },
   "outputs": [],
   "source": [
    "y = {5,3}"
   ]
  },
  {
   "cell_type": "code",
   "execution_count": null,
   "id": "e5a8b590",
   "metadata": {
    "colab": {
     "base_uri": "https://localhost:8080/"
    },
    "executionInfo": {
     "elapsed": 250,
     "status": "ok",
     "timestamp": 1664649299089,
     "user": {
      "displayName": "Caner Gündüz",
      "userId": "16817770704696690817"
     },
     "user_tz": -180
    },
    "id": "e5a8b590",
    "outputId": "2f711c39-849a-42b0-c04f-bf241bde108b"
   },
   "outputs": [
    {
     "data": {
      "text/plain": [
       "False"
      ]
     },
     "execution_count": 98,
     "metadata": {},
     "output_type": "execute_result"
    }
   ],
   "source": [
    "my_set.issubset(y)"
   ]
  },
  {
   "cell_type": "code",
   "execution_count": null,
   "id": "4572c674",
   "metadata": {
    "colab": {
     "base_uri": "https://localhost:8080/"
    },
    "executionInfo": {
     "elapsed": 247,
     "status": "ok",
     "timestamp": 1664649310619,
     "user": {
      "displayName": "Caner Gündüz",
      "userId": "16817770704696690817"
     },
     "user_tz": -180
    },
    "id": "4572c674",
    "outputId": "cef14629-94ce-4a6d-d406-a61fe6b7d46a"
   },
   "outputs": [
    {
     "data": {
      "text/plain": [
       "True"
      ]
     },
     "execution_count": 99,
     "metadata": {},
     "output_type": "execute_result"
    }
   ],
   "source": [
    "y.issubset(my_set)"
   ]
  },
  {
   "cell_type": "code",
   "execution_count": null,
   "id": "340543bb",
   "metadata": {
    "colab": {
     "base_uri": "https://localhost:8080/"
    },
    "executionInfo": {
     "elapsed": 3,
     "status": "ok",
     "timestamp": 1664649380114,
     "user": {
      "displayName": "Caner Gündüz",
      "userId": "16817770704696690817"
     },
     "user_tz": -180
    },
    "id": "340543bb",
    "outputId": "c7c45654-2f62-40af-bc08-84f104cb5870"
   },
   "outputs": [
    {
     "data": {
      "text/plain": [
       "{3, 4, 5, 'a'}"
      ]
     },
     "execution_count": 104,
     "metadata": {},
     "output_type": "execute_result"
    }
   ],
   "source": [
    "my_set.union(y)"
   ]
  },
  {
   "cell_type": "code",
   "execution_count": null,
   "id": "a4cd2a1c",
   "metadata": {
    "colab": {
     "base_uri": "https://localhost:8080/"
    },
    "executionInfo": {
     "elapsed": 293,
     "status": "ok",
     "timestamp": 1664649388686,
     "user": {
      "displayName": "Caner Gündüz",
      "userId": "16817770704696690817"
     },
     "user_tz": -180
    },
    "id": "a4cd2a1c",
    "outputId": "9dbc1781-4e7a-4267-b9d4-7fc6ad88cfce"
   },
   "outputs": [
    {
     "data": {
      "text/plain": [
       "{3}"
      ]
     },
     "execution_count": 105,
     "metadata": {},
     "output_type": "execute_result"
    }
   ],
   "source": [
    "my_set.intersection(y)"
   ]
  },
  {
   "cell_type": "code",
   "execution_count": null,
   "id": "f882ae94",
   "metadata": {
    "colab": {
     "base_uri": "https://localhost:8080/"
    },
    "executionInfo": {
     "elapsed": 618,
     "status": "ok",
     "timestamp": 1664649393855,
     "user": {
      "displayName": "Caner Gündüz",
      "userId": "16817770704696690817"
     },
     "user_tz": -180
    },
    "id": "f882ae94",
    "outputId": "66b24c89-ea4a-4366-ee08-5626097db399"
   },
   "outputs": [
    {
     "data": {
      "text/plain": [
       "{4, 'a'}"
      ]
     },
     "execution_count": 106,
     "metadata": {},
     "output_type": "execute_result"
    }
   ],
   "source": [
    "my_set.difference(y)"
   ]
  },
  {
   "cell_type": "markdown",
   "id": "aa5f4ab6",
   "metadata": {
    "id": "aa5f4ab6"
   },
   "source": [
    "### DICTIONARY"
   ]
  },
  {
   "cell_type": "code",
   "execution_count": null,
   "id": "2129bab7",
   "metadata": {
    "id": "2129bab7"
   },
   "outputs": [],
   "source": [
    "my_dict = {\"Name\": \"Arda\",\"Age\": 40}"
   ]
  },
  {
   "cell_type": "code",
   "execution_count": null,
   "id": "7ed1e401",
   "metadata": {
    "colab": {
     "base_uri": "https://localhost:8080/"
    },
    "executionInfo": {
     "elapsed": 304,
     "status": "ok",
     "timestamp": 1664649438683,
     "user": {
      "displayName": "Caner Gündüz",
      "userId": "16817770704696690817"
     },
     "user_tz": -180
    },
    "id": "7ed1e401",
    "outputId": "2b43db1f-c777-40fb-a8f6-a2ea511cc5bc"
   },
   "outputs": [
    {
     "data": {
      "text/plain": [
       "{'Name': 'Arda', 'Age': 40}"
      ]
     },
     "execution_count": 108,
     "metadata": {},
     "output_type": "execute_result"
    }
   ],
   "source": [
    "my_dict "
   ]
  },
  {
   "cell_type": "code",
   "execution_count": null,
   "id": "9a6cbe01",
   "metadata": {
    "colab": {
     "base_uri": "https://localhost:8080/"
    },
    "executionInfo": {
     "elapsed": 260,
     "status": "ok",
     "timestamp": 1664649442956,
     "user": {
      "displayName": "Caner Gündüz",
      "userId": "16817770704696690817"
     },
     "user_tz": -180
    },
    "id": "9a6cbe01",
    "outputId": "c576e4c1-5664-4919-a436-753e21ebc049"
   },
   "outputs": [
    {
     "data": {
      "text/plain": [
       "dict_keys(['Name', 'Age'])"
      ]
     },
     "execution_count": 109,
     "metadata": {},
     "output_type": "execute_result"
    }
   ],
   "source": [
    "my_dict.keys()"
   ]
  },
  {
   "cell_type": "code",
   "execution_count": null,
   "id": "f403436e",
   "metadata": {
    "colab": {
     "base_uri": "https://localhost:8080/"
    },
    "executionInfo": {
     "elapsed": 252,
     "status": "ok",
     "timestamp": 1664649455038,
     "user": {
      "displayName": "Caner Gündüz",
      "userId": "16817770704696690817"
     },
     "user_tz": -180
    },
    "id": "f403436e",
    "outputId": "2ff73da0-d9ee-458a-8989-3d114b2ffbb5"
   },
   "outputs": [
    {
     "data": {
      "text/plain": [
       "dict_values(['Arda', 40])"
      ]
     },
     "execution_count": 110,
     "metadata": {},
     "output_type": "execute_result"
    }
   ],
   "source": [
    "my_dict.values()"
   ]
  },
  {
   "cell_type": "markdown",
   "id": "0a3dc1f5",
   "metadata": {
    "id": "0a3dc1f5"
   },
   "source": [
    "## SECTION 3 : LIST is THE BEST"
   ]
  },
  {
   "cell_type": "markdown",
   "id": "12193d72",
   "metadata": {
    "id": "12193d72"
   },
   "source": [
    "* Practice 1"
   ]
  },
  {
   "cell_type": "code",
   "execution_count": null,
   "id": "1880c5fd",
   "metadata": {
    "id": "1880c5fd"
   },
   "outputs": [],
   "source": [
    "text = \"Once you stop learning, you-start dying.\""
   ]
  },
  {
   "cell_type": "code",
   "execution_count": null,
   "id": "461bc743",
   "metadata": {
    "id": "461bc743",
    "outputId": "fa171e8f-35b1-4766-ea99-6f0bfab4909d"
   },
   "outputs": [
    {
     "data": {
      "text/plain": [
       "'ONCE YOU STOP LEARNING, YOU-START DYING.'"
      ]
     },
     "execution_count": 314,
     "metadata": {},
     "output_type": "execute_result"
    }
   ],
   "source": [
    "text.upper()"
   ]
  },
  {
   "cell_type": "code",
   "execution_count": null,
   "id": "ac0f69fb",
   "metadata": {
    "id": "ac0f69fb",
    "outputId": "b7190ef8-f171-4b47-8467-b0a927760ab7"
   },
   "outputs": [
    {
     "data": {
      "text/plain": [
       "'Once you stop learning |  you-start dying.'"
      ]
     },
     "execution_count": 115,
     "metadata": {},
     "output_type": "execute_result"
    }
   ],
   "source": [
    "text.replace(\",\", \" | \")"
   ]
  },
  {
   "cell_type": "code",
   "execution_count": null,
   "id": "bc6ce6f3",
   "metadata": {
    "id": "bc6ce6f3"
   },
   "outputs": [],
   "source": [
    "text = text.split('-')"
   ]
  },
  {
   "cell_type": "code",
   "execution_count": null,
   "id": "44b0dad0",
   "metadata": {
    "colab": {
     "base_uri": "https://localhost:8080/"
    },
    "executionInfo": {
     "elapsed": 3,
     "status": "ok",
     "timestamp": 1664649587416,
     "user": {
      "displayName": "Caner Gündüz",
      "userId": "16817770704696690817"
     },
     "user_tz": -180
    },
    "id": "44b0dad0",
    "outputId": "2d0cb94e-4d05-4932-d6e7-e16b35576fd6"
   },
   "outputs": [
    {
     "data": {
      "text/plain": [
       "['Once you stop learning, you', 'start dying.']"
      ]
     },
     "execution_count": 118,
     "metadata": {},
     "output_type": "execute_result"
    }
   ],
   "source": [
    "text"
   ]
  },
  {
   "cell_type": "code",
   "execution_count": null,
   "id": "1448c90a",
   "metadata": {
    "id": "1448c90a",
    "outputId": "841f0edf-fd6e-4cb7-e34b-6ebc5c00fab1"
   },
   "outputs": [
    {
     "data": {
      "text/plain": [
       "['ONCE YOU STOP LEARNING$$$$ YOU', 'START DYING%%%']"
      ]
     },
     "execution_count": 118,
     "metadata": {},
     "output_type": "execute_result"
    }
   ],
   "source": [
    "text.upper().replace(\",\", \"$$$$\").replace(\".\", \"%%%\").split(\"-\")"
   ]
  },
  {
   "cell_type": "code",
   "execution_count": null,
   "id": "8a4f276b",
   "metadata": {
    "id": "8a4f276b",
    "outputId": "105e776e-e235-4c23-956f-c572c892d781"
   },
   "outputs": [
    {
     "data": {
      "text/plain": [
       "['ONCE', 'YOU', 'STOP', 'LEARNING$$$$', 'YOU-START', 'DYING%%%']"
      ]
     },
     "execution_count": 119,
     "metadata": {},
     "output_type": "execute_result"
    }
   ],
   "source": [
    "text.upper().replace(\",\", \"$$$$\").replace(\".\", \"%%%\").split()"
   ]
  },
  {
   "cell_type": "markdown",
   "id": "b7dbecc8",
   "metadata": {
    "id": "b7dbecc8"
   },
   "source": [
    "* Practice 2"
   ]
  },
  {
   "cell_type": "code",
   "execution_count": null,
   "id": "5732e31b",
   "metadata": {
    "colab": {
     "base_uri": "https://localhost:8080/"
    },
    "executionInfo": {
     "elapsed": 648,
     "status": "ok",
     "timestamp": 1664649812889,
     "user": {
      "displayName": "Caner Gündüz",
      "userId": "16817770704696690817"
     },
     "user_tz": -180
    },
    "id": "5732e31b",
    "outputId": "b58dd32a-ea1c-492c-ab42-44f35b481f91"
   },
   "outputs": [
    {
     "data": {
      "text/plain": [
       "['D', 'A', 'T', 'A', ' ', 'S', 'C', 'I', 'E', 'N', 'C', 'E']"
      ]
     },
     "execution_count": 131,
     "metadata": {},
     "output_type": "execute_result"
    }
   ],
   "source": [
    "my_list = [\"D\",\"A\",\"T\",\"A\",\" \",\"S\",\"C\",\"I\",\"E\",\"N\",\"C\",\"E\"]\n",
    "my_list"
   ]
  },
  {
   "cell_type": "code",
   "execution_count": null,
   "id": "33c79a07",
   "metadata": {
    "colab": {
     "base_uri": "https://localhost:8080/"
    },
    "executionInfo": {
     "elapsed": 266,
     "status": "ok",
     "timestamp": 1664649615296,
     "user": {
      "displayName": "Caner Gündüz",
      "userId": "16817770704696690817"
     },
     "user_tz": -180
    },
    "id": "33c79a07",
    "outputId": "2ca3474f-a28e-4ab6-9efb-d2452a646273"
   },
   "outputs": [
    {
     "data": {
      "text/plain": [
       "list"
      ]
     },
     "execution_count": 119,
     "metadata": {},
     "output_type": "execute_result"
    }
   ],
   "source": [
    "type(my_list)"
   ]
  },
  {
   "cell_type": "code",
   "execution_count": null,
   "id": "406dbb94",
   "metadata": {
    "id": "406dbb94"
   },
   "outputs": [],
   "source": [
    "my_listst=\"DATA SCIENCE\""
   ]
  },
  {
   "cell_type": "code",
   "execution_count": null,
   "id": "9a5bc13d",
   "metadata": {
    "id": "9a5bc13d",
    "outputId": "5c64bca5-2074-4125-f5f8-04da2f3cc12c"
   },
   "outputs": [
    {
     "data": {
      "text/plain": [
       "str"
      ]
     },
     "execution_count": 318,
     "metadata": {},
     "output_type": "execute_result"
    }
   ],
   "source": [
    "type(my_listst)"
   ]
  },
  {
   "cell_type": "code",
   "execution_count": null,
   "id": "234dd7bd",
   "metadata": {
    "colab": {
     "base_uri": "https://localhost:8080/"
    },
    "executionInfo": {
     "elapsed": 257,
     "status": "ok",
     "timestamp": 1664649633466,
     "user": {
      "displayName": "Caner Gündüz",
      "userId": "16817770704696690817"
     },
     "user_tz": -180
    },
    "id": "234dd7bd",
    "outputId": "863fb87e-62e6-4007-ed25-16c96211bf03"
   },
   "outputs": [
    {
     "data": {
      "text/plain": [
       "12"
      ]
     },
     "execution_count": 122,
     "metadata": {},
     "output_type": "execute_result"
    }
   ],
   "source": [
    "len(my_list)"
   ]
  },
  {
   "cell_type": "code",
   "execution_count": null,
   "id": "64c0107e",
   "metadata": {
    "colab": {
     "base_uri": "https://localhost:8080/",
     "height": 36
    },
    "executionInfo": {
     "elapsed": 277,
     "status": "ok",
     "timestamp": 1664649636000,
     "user": {
      "displayName": "Caner Gündüz",
      "userId": "16817770704696690817"
     },
     "user_tz": -180
    },
    "id": "64c0107e",
    "outputId": "aefae291-1a7b-4af6-f0f4-004b592b82d4"
   },
   "outputs": [
    {
     "data": {
      "application/vnd.google.colaboratory.intrinsic+json": {
       "type": "string"
      },
      "text/plain": [
       "'E'"
      ]
     },
     "execution_count": 123,
     "metadata": {},
     "output_type": "execute_result"
    }
   ],
   "source": [
    "my_list[11]"
   ]
  },
  {
   "cell_type": "code",
   "execution_count": null,
   "id": "6b5f4196",
   "metadata": {
    "id": "6b5f4196",
    "outputId": "146a1fba-59c8-454b-c4de-0f42aae97249"
   },
   "outputs": [
    {
     "data": {
      "text/plain": [
       "'E'"
      ]
     },
     "execution_count": 332,
     "metadata": {},
     "output_type": "execute_result"
    }
   ],
   "source": [
    "my_list[len(my_list)-1]"
   ]
  },
  {
   "cell_type": "code",
   "execution_count": null,
   "id": "65959580",
   "metadata": {
    "id": "65959580",
    "outputId": "0a0cf31f-137a-40e3-d117-152657f49152"
   },
   "outputs": [
    {
     "data": {
      "text/plain": [
       "'E'"
      ]
     },
     "execution_count": 333,
     "metadata": {},
     "output_type": "execute_result"
    }
   ],
   "source": [
    "my_list[-1]"
   ]
  },
  {
   "cell_type": "code",
   "execution_count": null,
   "id": "2a609c8f",
   "metadata": {
    "id": "2a609c8f",
    "outputId": "c1c91fa6-20ce-4f52-fe97-39a6ab068a00"
   },
   "outputs": [
    {
     "data": {
      "text/plain": [
       "'D'"
      ]
     },
     "execution_count": 323,
     "metadata": {},
     "output_type": "execute_result"
    }
   ],
   "source": [
    "my_list[0]"
   ]
  },
  {
   "cell_type": "code",
   "execution_count": null,
   "id": "15d6081a",
   "metadata": {
    "colab": {
     "base_uri": "https://localhost:8080/"
    },
    "executionInfo": {
     "elapsed": 299,
     "status": "ok",
     "timestamp": 1664649758389,
     "user": {
      "displayName": "Caner Gündüz",
      "userId": "16817770704696690817"
     },
     "user_tz": -180
    },
    "id": "15d6081a",
    "outputId": "04290c6d-216a-48ce-d376-00e1091daf3e"
   },
   "outputs": [
    {
     "data": {
      "text/plain": [
       "['D', 'A', 'T', 'A', 'XX', ' & ', ' ', 'S', 'C', 'I', 'E', 'N', 'C', 'E']"
      ]
     },
     "execution_count": 127,
     "metadata": {},
     "output_type": "execute_result"
    }
   ],
   "source": [
    "my_list = my_list.lower()"
   ]
  },
  {
   "cell_type": "code",
   "execution_count": null,
   "id": "8a0d1fac",
   "metadata": {
    "colab": {
     "base_uri": "https://localhost:8080/"
    },
    "executionInfo": {
     "elapsed": 256,
     "status": "ok",
     "timestamp": 1664649679927,
     "user": {
      "displayName": "Caner Gündüz",
      "userId": "16817770704696690817"
     },
     "user_tz": -180
    },
    "id": "8a0d1fac",
    "outputId": "ffa2d176-8b7a-4991-fe55-21b539cdaa06"
   },
   "outputs": [
    {
     "data": {
      "text/plain": [
       "['D', 'A', 'T', 'A', ' ']"
      ]
     },
     "execution_count": 124,
     "metadata": {},
     "output_type": "execute_result"
    }
   ],
   "source": [
    "my_list[0:5]"
   ]
  },
  {
   "cell_type": "code",
   "execution_count": null,
   "id": "a80f44b8",
   "metadata": {
    "id": "a80f44b8",
    "outputId": "47ae8fde-49a4-408e-e29a-2a6ecea6631d"
   },
   "outputs": [
    {
     "data": {
      "text/plain": [
       "['D', 'A', 'T', 'A', ' ', 'S', 'C', 'I', 'E', 'N', 'C', 'E']"
      ]
     },
     "execution_count": 131,
     "metadata": {},
     "output_type": "execute_result"
    }
   ],
   "source": [
    "my_list[0:4]+my_list[4:12]"
   ]
  },
  {
   "cell_type": "code",
   "execution_count": null,
   "id": "dda85d0b",
   "metadata": {
    "id": "dda85d0b",
    "outputId": "50453f45-448e-41bf-9eae-0b644dabacff"
   },
   "outputs": [
    {
     "data": {
      "text/plain": [
       "['D', 'A', 'T', 'A', ' ', 'S', 'C', 'I', 'E', 'N', 'C', 'E']"
      ]
     },
     "execution_count": 132,
     "metadata": {},
     "output_type": "execute_result"
    }
   ],
   "source": [
    "my_list # Ekleme"
   ]
  },
  {
   "cell_type": "code",
   "execution_count": null,
   "id": "ad33d7d9",
   "metadata": {
    "colab": {
     "base_uri": "https://localhost:8080/"
    },
    "executionInfo": {
     "elapsed": 269,
     "status": "ok",
     "timestamp": 1664649817742,
     "user": {
      "displayName": "Caner Gündüz",
      "userId": "16817770704696690817"
     },
     "user_tz": -180
    },
    "id": "ad33d7d9",
    "outputId": "d6ce5745-86a9-4de5-9fe4-9f9e8bb000aa"
   },
   "outputs": [
    {
     "data": {
      "text/plain": [
       "['D', 'A', 'T', 'A', 'XX', ' ', 'S', 'C', 'I', 'E', 'N', 'C', 'E']"
      ]
     },
     "execution_count": 133,
     "metadata": {},
     "output_type": "execute_result"
    }
   ],
   "source": [
    "my_list.insert(4, \"XX\")\n",
    "my_list"
   ]
  },
  {
   "cell_type": "code",
   "execution_count": null,
   "id": "7cee2c38",
   "metadata": {
    "colab": {
     "base_uri": "https://localhost:8080/"
    },
    "executionInfo": {
     "elapsed": 5,
     "status": "ok",
     "timestamp": 1664649818917,
     "user": {
      "displayName": "Caner Gündüz",
      "userId": "16817770704696690817"
     },
     "user_tz": -180
    },
    "id": "7cee2c38",
    "outputId": "2be04a64-af64-4791-c34b-6a8eff63c80c"
   },
   "outputs": [
    {
     "data": {
      "text/plain": [
       "13"
      ]
     },
     "execution_count": 134,
     "metadata": {},
     "output_type": "execute_result"
    }
   ],
   "source": [
    "len(my_list)"
   ]
  },
  {
   "cell_type": "code",
   "execution_count": null,
   "id": "89ab3470",
   "metadata": {
    "id": "89ab3470"
   },
   "outputs": [],
   "source": [
    "my_list = [1,2,3,[10,20,30],4]"
   ]
  },
  {
   "cell_type": "code",
   "execution_count": null,
   "id": "9db28080",
   "metadata": {
    "id": "9db28080"
   },
   "outputs": [],
   "source": [
    "# my_list_plus = [1,2,3,[10,20,[1,2,3,[10,20,30],4,1,2,3,[10,20,30],4]],4]"
   ]
  },
  {
   "cell_type": "code",
   "execution_count": null,
   "id": "fe8a36d3",
   "metadata": {
    "colab": {
     "base_uri": "https://localhost:8080/"
    },
    "executionInfo": {
     "elapsed": 6,
     "status": "ok",
     "timestamp": 1664649852971,
     "user": {
      "displayName": "Caner Gündüz",
      "userId": "16817770704696690817"
     },
     "user_tz": -180
    },
    "id": "fe8a36d3",
    "outputId": "ad3a371c-9f09-4544-c868-3399ca6808ea"
   },
   "outputs": [
    {
     "data": {
      "text/plain": [
       "30"
      ]
     },
     "execution_count": 137,
     "metadata": {},
     "output_type": "execute_result"
    }
   ],
   "source": [
    "my_list[3][2]"
   ]
  },
  {
   "cell_type": "code",
   "execution_count": null,
   "id": "e7eba2a4",
   "metadata": {
    "id": "e7eba2a4",
    "outputId": "2497c960-4484-4823-dd7d-10830a06dbeb"
   },
   "outputs": [
    {
     "data": {
      "text/plain": [
       "[10, 20, 30]"
      ]
     },
     "execution_count": 138,
     "metadata": {},
     "output_type": "execute_result"
    }
   ],
   "source": [
    "my_list[3]"
   ]
  },
  {
   "cell_type": "code",
   "execution_count": null,
   "id": "e7f48ebc",
   "metadata": {
    "id": "e7f48ebc",
    "outputId": "9e8bb70e-db89-470d-a336-388a34fd6aee"
   },
   "outputs": [
    {
     "data": {
      "text/plain": [
       "30"
      ]
     },
     "execution_count": 139,
     "metadata": {},
     "output_type": "execute_result"
    }
   ],
   "source": [
    "my_list[3][2]"
   ]
  },
  {
   "cell_type": "code",
   "execution_count": null,
   "id": "a7e29c49",
   "metadata": {
    "colab": {
     "base_uri": "https://localhost:8080/"
    },
    "executionInfo": {
     "elapsed": 256,
     "status": "ok",
     "timestamp": 1664649892830,
     "user": {
      "displayName": "Caner Gündüz",
      "userId": "16817770704696690817"
     },
     "user_tz": -180
    },
    "id": "a7e29c49",
    "outputId": "4d33c584-7d6a-4957-924b-be7c9cc05bdf"
   },
   "outputs": [
    {
     "data": {
      "text/plain": [
       "[3, [10, 20, 30]]"
      ]
     },
     "execution_count": 139,
     "metadata": {},
     "output_type": "execute_result"
    }
   ],
   "source": [
    "my_list[2:4]"
   ]
  },
  {
   "cell_type": "code",
   "execution_count": null,
   "id": "9d2ada4d",
   "metadata": {
    "colab": {
     "base_uri": "https://localhost:8080/"
    },
    "executionInfo": {
     "elapsed": 262,
     "status": "ok",
     "timestamp": 1664649869953,
     "user": {
      "displayName": "Caner Gündüz",
      "userId": "16817770704696690817"
     },
     "user_tz": -180
    },
    "id": "9d2ada4d",
    "outputId": "955dce9d-8602-4889-caa2-679e01d57d5e"
   },
   "outputs": [
    {
     "data": {
      "text/plain": [
       "[4]"
      ]
     },
     "execution_count": 138,
     "metadata": {},
     "output_type": "execute_result"
    }
   ],
   "source": [
    "my_list[4:]"
   ]
  },
  {
   "cell_type": "code",
   "execution_count": null,
   "id": "135bd698",
   "metadata": {
    "id": "135bd698"
   },
   "outputs": [],
   "source": [
    "my_list = [\"D\",\"A\",\"T\",\"A\",\" \",\"S\",\"C\",\"I\",\"E\",\"N\",\"C\",\"E\"]"
   ]
  },
  {
   "cell_type": "code",
   "execution_count": null,
   "id": "8478894f",
   "metadata": {
    "colab": {
     "base_uri": "https://localhost:8080/",
     "height": 36
    },
    "executionInfo": {
     "elapsed": 425,
     "status": "ok",
     "timestamp": 1664649911837,
     "user": {
      "displayName": "Caner Gündüz",
      "userId": "16817770704696690817"
     },
     "user_tz": -180
    },
    "id": "8478894f",
    "outputId": "5cdffcca-40fe-491c-b6b5-9071ca2c8533"
   },
   "outputs": [
    {
     "data": {
      "application/vnd.google.colaboratory.intrinsic+json": {
       "type": "string"
      },
      "text/plain": [
       "'D-A-T-A- -S-C-I-E-N-C-E'"
      ]
     },
     "execution_count": 141,
     "metadata": {},
     "output_type": "execute_result"
    }
   ],
   "source": [
    "\"-\".join(my_list)"
   ]
  },
  {
   "cell_type": "code",
   "execution_count": null,
   "id": "33c78226",
   "metadata": {
    "id": "33c78226",
    "outputId": "e7202b59-1c17-4d4d-d3c0-ab3295be0f4e"
   },
   "outputs": [
    {
     "data": {
      "text/plain": [
       "'25/09/2022'"
      ]
     },
     "execution_count": 144,
     "metadata": {},
     "output_type": "execute_result"
    }
   ],
   "source": [
    "date = [\"25\",\"09\",\"2022\"]\n",
    "\"/\".join(date)"
   ]
  },
  {
   "cell_type": "code",
   "execution_count": null,
   "id": "365552dd",
   "metadata": {
    "colab": {
     "base_uri": "https://localhost:8080/"
    },
    "executionInfo": {
     "elapsed": 253,
     "status": "ok",
     "timestamp": 1664649955492,
     "user": {
      "displayName": "Caner Gündüz",
      "userId": "16817770704696690817"
     },
     "user_tz": -180
    },
    "id": "365552dd",
    "outputId": "57a24835-2f88-4bf7-bbdc-ed8799a4dbeb"
   },
   "outputs": [
    {
     "data": {
      "text/plain": [
       "2"
      ]
     },
     "execution_count": 142,
     "metadata": {},
     "output_type": "execute_result"
    }
   ],
   "source": [
    "my_list.count(\"A\")"
   ]
  },
  {
   "cell_type": "code",
   "execution_count": null,
   "id": "6cc4405c",
   "metadata": {
    "id": "6cc4405c"
   },
   "outputs": [],
   "source": [
    "viki = \"Albert Einstein (Almanca telaffuz Tüm zamanların en iyi fizikçilerinden kabul edilen Einstein, en çok görelilik teorisini geliştirmesiyle tanınır.\""
   ]
  },
  {
   "cell_type": "code",
   "execution_count": null,
   "id": "5db9ceaf",
   "metadata": {
    "id": "5db9ceaf"
   },
   "outputs": [],
   "source": [
    "viki_list = viki.split()"
   ]
  },
  {
   "cell_type": "code",
   "execution_count": null,
   "id": "3ffd28f0",
   "metadata": {
    "colab": {
     "base_uri": "https://localhost:8080/"
    },
    "executionInfo": {
     "elapsed": 326,
     "status": "ok",
     "timestamp": 1664649964864,
     "user": {
      "displayName": "Caner Gündüz",
      "userId": "16817770704696690817"
     },
     "user_tz": -180
    },
    "id": "3ffd28f0",
    "outputId": "93f6f1cd-1033-4615-9b17-c85fa9c35d1b"
   },
   "outputs": [
    {
     "data": {
      "text/plain": [
       "['Albert',\n",
       " 'Einstein',\n",
       " '(Almanca',\n",
       " 'telaffuz',\n",
       " 'Tüm',\n",
       " 'zamanların',\n",
       " 'en',\n",
       " 'iyi',\n",
       " 'fizikçilerinden',\n",
       " 'kabul',\n",
       " 'edilen',\n",
       " 'Einstein,',\n",
       " 'en',\n",
       " 'çok',\n",
       " 'görelilik',\n",
       " 'teorisini',\n",
       " 'geliştirmesiyle',\n",
       " 'tanınır.']"
      ]
     },
     "execution_count": 145,
     "metadata": {},
     "output_type": "execute_result"
    }
   ],
   "source": [
    "viki_list"
   ]
  },
  {
   "cell_type": "code",
   "execution_count": null,
   "id": "8c4ecff8",
   "metadata": {
    "colab": {
     "base_uri": "https://localhost:8080/"
    },
    "executionInfo": {
     "elapsed": 756,
     "status": "ok",
     "timestamp": 1664649974411,
     "user": {
      "displayName": "Caner Gündüz",
      "userId": "16817770704696690817"
     },
     "user_tz": -180
    },
    "id": "8c4ecff8",
    "outputId": "95b6a657-eb14-4de7-8496-c987231f47d1"
   },
   "outputs": [
    {
     "data": {
      "text/plain": [
       "1"
      ]
     },
     "execution_count": 146,
     "metadata": {},
     "output_type": "execute_result"
    }
   ],
   "source": [
    "viki_list[0].count(\"e\")"
   ]
  },
  {
   "cell_type": "code",
   "execution_count": null,
   "id": "3e8d2341",
   "metadata": {
    "colab": {
     "base_uri": "https://localhost:8080/"
    },
    "executionInfo": {
     "elapsed": 268,
     "status": "ok",
     "timestamp": 1664649978082,
     "user": {
      "displayName": "Caner Gündüz",
      "userId": "16817770704696690817"
     },
     "user_tz": -180
    },
    "id": "3e8d2341",
    "outputId": "e8833513-4d4f-4113-ae28-342e2bccda6c"
   },
   "outputs": [
    {
     "data": {
      "text/plain": [
       "15"
      ]
     },
     "execution_count": 147,
     "metadata": {},
     "output_type": "execute_result"
    }
   ],
   "source": [
    "viki.count(\"e\")"
   ]
  },
  {
   "cell_type": "markdown",
   "id": "cbe64e0e",
   "metadata": {
    "id": "cbe64e0e"
   },
   "source": [
    "## SECTION : FOR"
   ]
  },
  {
   "cell_type": "code",
   "execution_count": null,
   "id": "6edc816b",
   "metadata": {
    "id": "6edc816b"
   },
   "outputs": [],
   "source": [
    "# ben bir n'im.. listede gezerim. Her turda bir sayiyi tasirim"
   ]
  },
  {
   "cell_type": "code",
   "execution_count": null,
   "id": "214349da",
   "metadata": {
    "colab": {
     "base_uri": "https://localhost:8080/"
    },
    "executionInfo": {
     "elapsed": 266,
     "status": "ok",
     "timestamp": 1664650073232,
     "user": {
      "displayName": "Caner Gündüz",
      "userId": "16817770704696690817"
     },
     "user_tz": -180
    },
    "id": "214349da",
    "outputId": "853c82af-a1ad-44af-e0e0-f8ae26b4a38a"
   },
   "outputs": [
    {
     "name": "stdout",
     "output_type": "stream",
     "text": [
      "3\n",
      "9\n",
      "----\n",
      "4\n",
      "16\n",
      "----\n",
      "40\n",
      "1600\n",
      "----\n"
     ]
    }
   ],
   "source": [
    "for u in [3,4,40]:\n",
    "    print(u)\n",
    "    a = u*u\n",
    "    print(a)\n",
    "    print(\"----\")"
   ]
  },
  {
   "cell_type": "code",
   "execution_count": null,
   "id": "8313554a",
   "metadata": {
    "id": "8313554a",
    "outputId": "393c4b03-2319-4366-d172-d0430f7f922d"
   },
   "outputs": [
    {
     "name": "stdout",
     "output_type": "stream",
     "text": [
      "4\n",
      "5\n",
      "41\n",
      "15\n"
     ]
    }
   ],
   "source": [
    "for u in [3,4,40,14]:\n",
    "    u = u+1\n",
    "    print(u)"
   ]
  },
  {
   "cell_type": "code",
   "execution_count": null,
   "id": "bcf928de",
   "metadata": {
    "colab": {
     "base_uri": "https://localhost:8080/"
    },
    "executionInfo": {
     "elapsed": 270,
     "status": "ok",
     "timestamp": 1664650462494,
     "user": {
      "displayName": "Caner Gündüz",
      "userId": "16817770704696690817"
     },
     "user_tz": -180
    },
    "id": "bcf928de",
    "outputId": "493301f2-a034-4629-e485-404fb28978e2"
   },
   "outputs": [
    {
     "name": "stdout",
     "output_type": "stream",
     "text": [
      "Age\n",
      "Gender\n",
      "Income\n",
      "City\n"
     ]
    }
   ],
   "source": [
    "for k in [\"Age\",\"Gender\",\"Income\",\"City\"]:\n",
    "    print(k)"
   ]
  },
  {
   "cell_type": "code",
   "execution_count": null,
   "id": "f3ef0c7e",
   "metadata": {
    "colab": {
     "base_uri": "https://localhost:8080/"
    },
    "executionInfo": {
     "elapsed": 4,
     "status": "ok",
     "timestamp": 1664650648881,
     "user": {
      "displayName": "Caner Gündüz",
      "userId": "16817770704696690817"
     },
     "user_tz": -180
    },
    "id": "f3ef0c7e",
    "outputId": "139ddcaf-724b-4aa8-9c7e-6799823190c4"
   },
   "outputs": [
    {
     "name": "stdout",
     "output_type": "stream",
     "text": [
      "3\n",
      "7\n",
      "47\n"
     ]
    }
   ],
   "source": [
    "a=0\n",
    "\n",
    "for d in [3,4,40]:\n",
    "  a = a + d\n",
    "  print(a)"
   ]
  },
  {
   "cell_type": "markdown",
   "id": "_sot1yXL5rAI",
   "metadata": {
    "id": "_sot1yXL5rAI"
   },
   "source": [
    "a 0 d 3 --> a = 3 <br>\n",
    "a 3 d 4 --> a = 7 <br>\n",
    "a 7 d 40 --> a = 47"
   ]
  },
  {
   "cell_type": "code",
   "execution_count": null,
   "id": "ee48f9e0",
   "metadata": {
    "colab": {
     "base_uri": "https://localhost:8080/"
    },
    "executionInfo": {
     "elapsed": 385,
     "status": "ok",
     "timestamp": 1664650714114,
     "user": {
      "displayName": "Caner Gündüz",
      "userId": "16817770704696690817"
     },
     "user_tz": -180
    },
    "id": "ee48f9e0",
    "outputId": "6d25645c-1395-4221-a45e-13b99059ac3f"
   },
   "outputs": [
    {
     "name": "stdout",
     "output_type": "stream",
     "text": [
      "47\n"
     ]
    }
   ],
   "source": [
    "a=0\n",
    "\n",
    "for d in [3,4,40]:\n",
    "  a = a + d\n",
    "\n",
    "print(a)"
   ]
  },
  {
   "cell_type": "code",
   "execution_count": null,
   "id": "7690aa66",
   "metadata": {
    "colab": {
     "base_uri": "https://localhost:8080/"
    },
    "executionInfo": {
     "elapsed": 344,
     "status": "ok",
     "timestamp": 1664650830871,
     "user": {
      "displayName": "Caner Gündüz",
      "userId": "16817770704696690817"
     },
     "user_tz": -180
    },
    "id": "7690aa66",
    "outputId": "b81cea25-e920-441a-8ff5-183623b30309"
   },
   "outputs": [
    {
     "name": "stdout",
     "output_type": "stream",
     "text": [
      "0\n",
      "2\n",
      "4\n",
      "6\n",
      "8\n"
     ]
    }
   ],
   "source": [
    "x = range(0, 10 ,2)\n",
    "\n",
    "xy = [0,2,4,6,8]\n",
    "\n",
    "for n in x:\n",
    "  print(n)"
   ]
  },
  {
   "cell_type": "code",
   "execution_count": null,
   "id": "XgydCZe-6_Pp",
   "metadata": {
    "colab": {
     "base_uri": "https://localhost:8080/"
    },
    "executionInfo": {
     "elapsed": 261,
     "status": "ok",
     "timestamp": 1664650850691,
     "user": {
      "displayName": "Caner Gündüz",
      "userId": "16817770704696690817"
     },
     "user_tz": -180
    },
    "id": "XgydCZe-6_Pp",
    "outputId": "853ace92-dcea-4efb-b610-47a27250bdf5"
   },
   "outputs": [
    {
     "name": "stdout",
     "output_type": "stream",
     "text": [
      "0\n",
      "2\n",
      "4\n",
      "6\n",
      "8\n"
     ]
    }
   ],
   "source": [
    "xy = [0,2,4,6,8]\n",
    "\n",
    "for n in xy:\n",
    "  print(n)"
   ]
  },
  {
   "cell_type": "code",
   "execution_count": null,
   "id": "21da169b",
   "metadata": {
    "colab": {
     "base_uri": "https://localhost:8080/"
    },
    "executionInfo": {
     "elapsed": 282,
     "status": "ok",
     "timestamp": 1664650868290,
     "user": {
      "displayName": "Caner Gündüz",
      "userId": "16817770704696690817"
     },
     "user_tz": -180
    },
    "id": "21da169b",
    "outputId": "8fa96625-2744-4df0-f057-474e198c4ad5"
   },
   "outputs": [
    {
     "name": "stdout",
     "output_type": "stream",
     "text": [
      "3\n",
      "5\n",
      "7\n",
      "9\n",
      "11\n"
     ]
    }
   ],
   "source": [
    "x = range(0, 10,2)\n",
    "a = 0\n",
    "for n in x:\n",
    "  a =n+3\n",
    "  print(a)"
   ]
  },
  {
   "cell_type": "code",
   "execution_count": null,
   "id": "ea74caa2",
   "metadata": {
    "colab": {
     "base_uri": "https://localhost:8080/"
    },
    "executionInfo": {
     "elapsed": 453,
     "status": "ok",
     "timestamp": 1664650936545,
     "user": {
      "displayName": "Caner Gündüz",
      "userId": "16817770704696690817"
     },
     "user_tz": -180
    },
    "id": "ea74caa2",
    "outputId": "1c1ff85a-ab6e-4899-e863-16df9917f2f0"
   },
   "outputs": [
    {
     "name": "stdout",
     "output_type": "stream",
     "text": [
      "0\n",
      "2\n",
      "4\n",
      "6\n",
      "8\n"
     ]
    }
   ],
   "source": [
    "x = range(0, 10,2)\n",
    "\n",
    "for n in x:\n",
    "  print(n)"
   ]
  },
  {
   "cell_type": "code",
   "execution_count": null,
   "id": "7d523253",
   "metadata": {
    "id": "7d523253"
   },
   "outputs": [],
   "source": [
    "def derya():\n",
    "    x = range(0, 10,2)\n",
    "    for n in x:\n",
    "        print(n)\n",
    "        "
   ]
  },
  {
   "cell_type": "code",
   "execution_count": null,
   "id": "b5392e54",
   "metadata": {
    "colab": {
     "base_uri": "https://localhost:8080/"
    },
    "executionInfo": {
     "elapsed": 288,
     "status": "ok",
     "timestamp": 1664651035206,
     "user": {
      "displayName": "Caner Gündüz",
      "userId": "16817770704696690817"
     },
     "user_tz": -180
    },
    "id": "b5392e54",
    "outputId": "a8ae7ef7-29d4-4dc3-bb51-442fa3226049"
   },
   "outputs": [
    {
     "name": "stdout",
     "output_type": "stream",
     "text": [
      "0\n",
      "2\n",
      "4\n",
      "6\n",
      "8\n"
     ]
    }
   ],
   "source": [
    "derya()"
   ]
  },
  {
   "cell_type": "code",
   "execution_count": null,
   "id": "4d629354",
   "metadata": {
    "id": "4d629354"
   },
   "outputs": [],
   "source": [
    "def for_ogreniyorum(a,b,c):\n",
    "    x = range(a, b,c)\n",
    "    for n in x:\n",
    "        print(n)"
   ]
  },
  {
   "cell_type": "code",
   "execution_count": null,
   "id": "9723a93e",
   "metadata": {
    "colab": {
     "base_uri": "https://localhost:8080/"
    },
    "executionInfo": {
     "elapsed": 4,
     "status": "ok",
     "timestamp": 1664651133391,
     "user": {
      "displayName": "Caner Gündüz",
      "userId": "16817770704696690817"
     },
     "user_tz": -180
    },
    "id": "9723a93e",
    "outputId": "0b1d1c52-c4ed-43b0-a68a-719d87a03e6a"
   },
   "outputs": [
    {
     "name": "stdout",
     "output_type": "stream",
     "text": [
      "1\n",
      "5\n",
      "9\n",
      "13\n",
      "17\n"
     ]
    }
   ],
   "source": [
    "for_ogreniyorum(1,20,4)"
   ]
  },
  {
   "cell_type": "code",
   "execution_count": null,
   "id": "4aef3d8f",
   "metadata": {
    "id": "4aef3d8f",
    "outputId": "a38f888c-be07-4ee0-89ff-682451c575ad"
   },
   "outputs": [
    {
     "name": "stdout",
     "output_type": "stream",
     "text": [
      "4\n",
      "7\n",
      "10\n",
      "13\n",
      "16\n",
      "19\n",
      "22\n",
      "25\n",
      "28\n",
      "31\n",
      "34\n",
      "37\n",
      "40\n",
      "43\n",
      "46\n",
      "49\n",
      "52\n"
     ]
    }
   ],
   "source": [
    "for_ogreniyorum(4,54,3)"
   ]
  },
  {
   "cell_type": "code",
   "execution_count": null,
   "id": "b8df3b9b",
   "metadata": {
    "id": "b8df3b9b"
   },
   "outputs": [],
   "source": [
    "# Bonus soru :)\n",
    "def for_ogreniyorum(c):\n",
    "    c=int(c)\n",
    "    x = range(0, 10,c)\n",
    "    for n in x:\n",
    "        print(n)"
   ]
  },
  {
   "cell_type": "code",
   "execution_count": null,
   "id": "cc37db1f",
   "metadata": {
    "colab": {
     "base_uri": "https://localhost:8080/"
    },
    "executionInfo": {
     "elapsed": 2646,
     "status": "ok",
     "timestamp": 1664651322502,
     "user": {
      "displayName": "Caner Gündüz",
      "userId": "16817770704696690817"
     },
     "user_tz": -180
    },
    "id": "cc37db1f",
    "outputId": "0cdcf198-aadb-4d21-e0fb-748b1ce7f0e3"
   },
   "outputs": [
    {
     "name": "stdout",
     "output_type": "stream",
     "text": [
      "2\n",
      "0\n",
      "2\n",
      "4\n",
      "6\n",
      "8\n"
     ]
    }
   ],
   "source": [
    "for_ogreniyorum(input())"
   ]
  },
  {
   "cell_type": "code",
   "execution_count": null,
   "id": "d079745e",
   "metadata": {
    "id": "d079745e"
   },
   "outputs": [],
   "source": [
    "# Bonus soru :)\n",
    "def for_ogreniyorum(a,b,c):\n",
    "    a=int(a)\n",
    "    b=int(b)\n",
    "    c=int(c)\n",
    "    x = range(a,b,c)\n",
    "    for n in x:\n",
    "        print(n)"
   ]
  },
  {
   "cell_type": "code",
   "execution_count": null,
   "id": "55c16a0d",
   "metadata": {
    "colab": {
     "base_uri": "https://localhost:8080/"
    },
    "executionInfo": {
     "elapsed": 9764,
     "status": "ok",
     "timestamp": 1664651427102,
     "user": {
      "displayName": "Caner Gündüz",
      "userId": "16817770704696690817"
     },
     "user_tz": -180
    },
    "id": "55c16a0d",
    "outputId": "b8577cdc-06bf-4b4c-b44a-babd4295ef5a"
   },
   "outputs": [
    {
     "name": "stdout",
     "output_type": "stream",
     "text": [
      "0\n",
      "100\n",
      "3\n",
      "0\n",
      "3\n",
      "6\n",
      "9\n",
      "12\n",
      "15\n",
      "18\n",
      "21\n",
      "24\n",
      "27\n",
      "30\n",
      "33\n",
      "36\n",
      "39\n",
      "42\n",
      "45\n",
      "48\n",
      "51\n",
      "54\n",
      "57\n",
      "60\n",
      "63\n",
      "66\n",
      "69\n",
      "72\n",
      "75\n",
      "78\n",
      "81\n",
      "84\n",
      "87\n",
      "90\n",
      "93\n",
      "96\n",
      "99\n"
     ]
    }
   ],
   "source": [
    "for_ogreniyorum(input(),input(),input())"
   ]
  },
  {
   "cell_type": "markdown",
   "id": "869e7276",
   "metadata": {
    "id": "869e7276"
   },
   "source": [
    "## SECTION : FUNCTIONS"
   ]
  },
  {
   "cell_type": "code",
   "execution_count": null,
   "id": "HDqm3PFx9YEl",
   "metadata": {
    "colab": {
     "base_uri": "https://localhost:8080/"
    },
    "executionInfo": {
     "elapsed": 260,
     "status": "ok",
     "timestamp": 1664651465450,
     "user": {
      "displayName": "Caner Gündüz",
      "userId": "16817770704696690817"
     },
     "user_tz": -180
    },
    "id": "HDqm3PFx9YEl",
    "outputId": "d57427f2-0db6-4870-f9df-83651282437b"
   },
   "outputs": [
    {
     "data": {
      "text/plain": [
       "5"
      ]
     },
     "execution_count": 186,
     "metadata": {},
     "output_type": "execute_result"
    }
   ],
   "source": [
    "2+3"
   ]
  },
  {
   "cell_type": "code",
   "execution_count": null,
   "id": "c2e9e226",
   "metadata": {
    "id": "c2e9e226"
   },
   "outputs": [],
   "source": [
    "def sum_function():\n",
    "    \n",
    "\n",
    "    print(\"The first number : \")\n",
    "    \n",
    "    num1 = int(input())\n",
    "    \n",
    "    print(\"The second number : \")\n",
    "    \n",
    "    num2 = int(input())\n",
    "    \n",
    "    print(\"Total: \",num1 + num2)\n",
    "    "
   ]
  },
  {
   "cell_type": "code",
   "execution_count": null,
   "id": "057be94f",
   "metadata": {
    "colab": {
     "base_uri": "https://localhost:8080/"
    },
    "executionInfo": {
     "elapsed": 3231,
     "status": "ok",
     "timestamp": 1664651553933,
     "user": {
      "displayName": "Caner Gündüz",
      "userId": "16817770704696690817"
     },
     "user_tz": -180
    },
    "id": "057be94f",
    "outputId": "28b7d891-2a1e-4781-bfd2-6290a4ad765e"
   },
   "outputs": [
    {
     "name": "stdout",
     "output_type": "stream",
     "text": [
      "The first number : \n",
      "2\n",
      "The second number : \n",
      "8\n",
      "Total:  10\n"
     ]
    }
   ],
   "source": [
    "sum_function()"
   ]
  },
  {
   "cell_type": "markdown",
   "id": "9042c9a6",
   "metadata": {
    "id": "9042c9a6"
   },
   "source": [
    "## SECTION : DATA MANUPLATION - NUMPY"
   ]
  },
  {
   "cell_type": "code",
   "execution_count": null,
   "id": "-oNR1_uJ90wQ",
   "metadata": {
    "id": "-oNR1_uJ90wQ"
   },
   "outputs": [],
   "source": [
    "import numpy as np"
   ]
  },
  {
   "cell_type": "code",
   "execution_count": null,
   "id": "ce34ea0e",
   "metadata": {
    "id": "ce34ea0e"
   },
   "outputs": [],
   "source": [
    "a = [10,20,30,40]\n",
    "b = [22,23,24,25]"
   ]
  },
  {
   "cell_type": "code",
   "execution_count": null,
   "id": "aa616f20",
   "metadata": {
    "colab": {
     "base_uri": "https://localhost:8080/"
    },
    "executionInfo": {
     "elapsed": 262,
     "status": "ok",
     "timestamp": 1664651605830,
     "user": {
      "displayName": "Caner Gündüz",
      "userId": "16817770704696690817"
     },
     "user_tz": -180
    },
    "id": "aa616f20",
    "outputId": "9bfa596f-a074-436b-a06f-419d0fadd265"
   },
   "outputs": [
    {
     "data": {
      "text/plain": [
       "4"
      ]
     },
     "execution_count": 195,
     "metadata": {},
     "output_type": "execute_result"
    }
   ],
   "source": [
    "len(a)"
   ]
  },
  {
   "cell_type": "code",
   "execution_count": null,
   "id": "e309055d",
   "metadata": {
    "id": "e309055d",
    "outputId": "2426bed5-0a0b-41e2-b03e-0ecac325a57b"
   },
   "outputs": [
    {
     "data": {
      "text/plain": [
       "25"
      ]
     },
     "execution_count": 354,
     "metadata": {},
     "output_type": "execute_result"
    }
   ],
   "source": [
    "b[3]"
   ]
  },
  {
   "cell_type": "code",
   "execution_count": null,
   "id": "585bc850",
   "metadata": {
    "id": "585bc850"
   },
   "outputs": [],
   "source": [
    "ab = []"
   ]
  },
  {
   "cell_type": "code",
   "execution_count": null,
   "id": "274e5cc8",
   "metadata": {
    "colab": {
     "base_uri": "https://localhost:8080/"
    },
    "executionInfo": {
     "elapsed": 251,
     "status": "ok",
     "timestamp": 1664651611475,
     "user": {
      "displayName": "Caner Gündüz",
      "userId": "16817770704696690817"
     },
     "user_tz": -180
    },
    "id": "274e5cc8",
    "outputId": "13d45057-7417-430c-f7c9-6ea5d0383188"
   },
   "outputs": [
    {
     "data": {
      "text/plain": [
       "[]"
      ]
     },
     "execution_count": 197,
     "metadata": {},
     "output_type": "execute_result"
    }
   ],
   "source": [
    "ab"
   ]
  },
  {
   "cell_type": "code",
   "execution_count": null,
   "id": "954db8e8",
   "metadata": {
    "id": "954db8e8"
   },
   "outputs": [],
   "source": [
    "ab.append(7)"
   ]
  },
  {
   "cell_type": "code",
   "execution_count": null,
   "id": "a91f54a7",
   "metadata": {
    "colab": {
     "base_uri": "https://localhost:8080/"
    },
    "executionInfo": {
     "elapsed": 4,
     "status": "ok",
     "timestamp": 1664651629956,
     "user": {
      "displayName": "Caner Gündüz",
      "userId": "16817770704696690817"
     },
     "user_tz": -180
    },
    "id": "a91f54a7",
    "outputId": "b77a29bd-7d0c-46ec-cca6-ab48b23e9097"
   },
   "outputs": [
    {
     "data": {
      "text/plain": [
       "[3, 7, 7]"
      ]
     },
     "execution_count": 203,
     "metadata": {},
     "output_type": "execute_result"
    }
   ],
   "source": [
    "ab"
   ]
  },
  {
   "cell_type": "code",
   "execution_count": null,
   "id": "3cd18b1f",
   "metadata": {
    "colab": {
     "base_uri": "https://localhost:8080/"
    },
    "executionInfo": {
     "elapsed": 252,
     "status": "ok",
     "timestamp": 1664651637170,
     "user": {
      "displayName": "Caner Gündüz",
      "userId": "16817770704696690817"
     },
     "user_tz": -180
    },
    "id": "3cd18b1f",
    "outputId": "0b806905-04fa-434b-c9d6-1a14e6c2947b"
   },
   "outputs": [
    {
     "data": {
      "text/plain": [
       "range(0, 4)"
      ]
     },
     "execution_count": 204,
     "metadata": {},
     "output_type": "execute_result"
    }
   ],
   "source": [
    "range(0, len(a))"
   ]
  },
  {
   "cell_type": "code",
   "execution_count": null,
   "id": "292e6bf0",
   "metadata": {
    "colab": {
     "base_uri": "https://localhost:8080/"
    },
    "executionInfo": {
     "elapsed": 253,
     "status": "ok",
     "timestamp": 1664651779596,
     "user": {
      "displayName": "Caner Gündüz",
      "userId": "16817770704696690817"
     },
     "user_tz": -180
    },
    "id": "292e6bf0",
    "outputId": "9ee1ca6c-c059-4747-dbe2-4bdb59cdc001"
   },
   "outputs": [
    {
     "data": {
      "text/plain": [
       "[32, 43, 54, 65]"
      ]
     },
     "execution_count": 208,
     "metadata": {},
     "output_type": "execute_result"
    }
   ],
   "source": [
    "ab = []\n",
    "\n",
    "for i in range(0, len(a)):\n",
    "    ab.append(a[i] + b[i])\n",
    "        \n",
    "    \n",
    "ab"
   ]
  },
  {
   "cell_type": "markdown",
   "id": "biWgznWJ-XPZ",
   "metadata": {
    "id": "biWgznWJ-XPZ"
   },
   "source": [
    "0 1 2 3"
   ]
  },
  {
   "cell_type": "code",
   "execution_count": null,
   "id": "7e390f2b",
   "metadata": {
    "id": "7e390f2b",
    "outputId": "f7ad90fa-757e-4905-fb3e-1fc6df902329"
   },
   "outputs": [
    {
     "data": {
      "text/plain": [
       "6"
      ]
     },
     "execution_count": 183,
     "metadata": {},
     "output_type": "execute_result"
    }
   ],
   "source": [
    "3+3"
   ]
  },
  {
   "cell_type": "code",
   "execution_count": 13,
   "id": "53a26495",
   "metadata": {
    "id": "53a26495"
   },
   "outputs": [],
   "source": [
    "import numpy as np"
   ]
  },
  {
   "cell_type": "code",
   "execution_count": 14,
   "id": "qq5RWfQQJkX4",
   "metadata": {
    "colab": {
     "base_uri": "https://localhost:8080/"
    },
    "executionInfo": {
     "elapsed": 446,
     "status": "ok",
     "timestamp": 1664654660276,
     "user": {
      "displayName": "Caner Gündüz",
      "userId": "16817770704696690817"
     },
     "user_tz": -180
    },
    "id": "qq5RWfQQJkX4",
    "outputId": "c4fe4dcc-af32-4132-a7f5-ab50e74bc909"
   },
   "outputs": [
    {
     "data": {
      "text/plain": [
       "array([[0.000e+000, 1.714e-321],\n",
       "       [9.881e-324, 9.881e-324]])"
      ]
     },
     "execution_count": 14,
     "metadata": {},
     "output_type": "execute_result"
    }
   ],
   "source": [
    "np.empty([2, 2])"
   ]
  },
  {
   "cell_type": "code",
   "execution_count": null,
   "id": "cc05c3e8",
   "metadata": {
    "id": "cc05c3e8"
   },
   "outputs": [],
   "source": [
    "a = np.array([10,20,30,40])\n",
    "b = np.array([22,23,24,25])"
   ]
  },
  {
   "cell_type": "code",
   "execution_count": null,
   "id": "5nBCme_qJasr",
   "metadata": {
    "id": "5nBCme_qJasr"
   },
   "outputs": [],
   "source": [
    "a = np.array([10,20,30,40])"
   ]
  },
  {
   "cell_type": "code",
   "execution_count": null,
   "id": "c4958503",
   "metadata": {
    "colab": {
     "base_uri": "https://localhost:8080/"
    },
    "executionInfo": {
     "elapsed": 388,
     "status": "ok",
     "timestamp": 1664651833645,
     "user": {
      "displayName": "Caner Gündüz",
      "userId": "16817770704696690817"
     },
     "user_tz": -180
    },
    "id": "c4958503",
    "outputId": "e9a88d5e-4a2f-4947-eaf9-46d15335d9da"
   },
   "outputs": [
    {
     "data": {
      "text/plain": [
       "array([10, 20, 30, 40])"
      ]
     },
     "execution_count": 212,
     "metadata": {},
     "output_type": "execute_result"
    }
   ],
   "source": [
    "a"
   ]
  },
  {
   "cell_type": "code",
   "execution_count": null,
   "id": "3fb1d44c",
   "metadata": {
    "colab": {
     "base_uri": "https://localhost:8080/"
    },
    "executionInfo": {
     "elapsed": 3,
     "status": "ok",
     "timestamp": 1664651837755,
     "user": {
      "displayName": "Caner Gündüz",
      "userId": "16817770704696690817"
     },
     "user_tz": -180
    },
    "id": "3fb1d44c",
    "outputId": "a18f42bb-91a7-414b-a9df-f97b0f1ec284"
   },
   "outputs": [
    {
     "data": {
      "text/plain": [
       "array([22, 23, 24, 25])"
      ]
     },
     "execution_count": 213,
     "metadata": {},
     "output_type": "execute_result"
    }
   ],
   "source": [
    "b"
   ]
  },
  {
   "cell_type": "code",
   "execution_count": null,
   "id": "81034340",
   "metadata": {
    "id": "81034340"
   },
   "outputs": [],
   "source": [
    "a = np.array([10,20,30,40,60,70,80,90])"
   ]
  },
  {
   "cell_type": "code",
   "execution_count": null,
   "id": "15fae0a1",
   "metadata": {
    "colab": {
     "base_uri": "https://localhost:8080/"
    },
    "executionInfo": {
     "elapsed": 322,
     "status": "ok",
     "timestamp": 1664651856023,
     "user": {
      "displayName": "Caner Gündüz",
      "userId": "16817770704696690817"
     },
     "user_tz": -180
    },
    "id": "15fae0a1",
    "outputId": "00a1a838-cb3c-4eda-c9c5-9c79ed2defce"
   },
   "outputs": [
    {
     "data": {
      "text/plain": [
       "array([ True,  True, False, False, False, False, False, False])"
      ]
     },
     "execution_count": 215,
     "metadata": {},
     "output_type": "execute_result"
    }
   ],
   "source": [
    "a<30"
   ]
  },
  {
   "cell_type": "code",
   "execution_count": null,
   "id": "51590cab",
   "metadata": {
    "colab": {
     "base_uri": "https://localhost:8080/"
    },
    "executionInfo": {
     "elapsed": 259,
     "status": "ok",
     "timestamp": 1664651884396,
     "user": {
      "displayName": "Caner Gündüz",
      "userId": "16817770704696690817"
     },
     "user_tz": -180
    },
    "id": "51590cab",
    "outputId": "48bb7a9a-4d44-458d-cd2b-98ff331d6e18"
   },
   "outputs": [
    {
     "data": {
      "text/plain": [
       "40"
      ]
     },
     "execution_count": 216,
     "metadata": {},
     "output_type": "execute_result"
    }
   ],
   "source": [
    "a[3]"
   ]
  },
  {
   "cell_type": "code",
   "execution_count": null,
   "id": "4f8394eb",
   "metadata": {
    "colab": {
     "base_uri": "https://localhost:8080/"
    },
    "executionInfo": {
     "elapsed": 253,
     "status": "ok",
     "timestamp": 1664651929314,
     "user": {
      "displayName": "Caner Gündüz",
      "userId": "16817770704696690817"
     },
     "user_tz": -180
    },
    "id": "4f8394eb",
    "outputId": "50fe06cc-e147-4a16-9228-c10b2e859fc2"
   },
   "outputs": [
    {
     "data": {
      "text/plain": [
       "array([10, 20])"
      ]
     },
     "execution_count": 217,
     "metadata": {},
     "output_type": "execute_result"
    }
   ],
   "source": [
    "a[[ True,  True, False, False, False, False, False, False]]"
   ]
  },
  {
   "cell_type": "code",
   "execution_count": null,
   "id": "d2ead5cf",
   "metadata": {
    "colab": {
     "base_uri": "https://localhost:8080/"
    },
    "executionInfo": {
     "elapsed": 264,
     "status": "ok",
     "timestamp": 1664652005572,
     "user": {
      "displayName": "Caner Gündüz",
      "userId": "16817770704696690817"
     },
     "user_tz": -180
    },
    "id": "d2ead5cf",
    "outputId": "0668ad31-3896-4059-e491-23e8e4fe5874"
   },
   "outputs": [
    {
     "data": {
      "text/plain": [
       "array([10, 20])"
      ]
     },
     "execution_count": 223,
     "metadata": {},
     "output_type": "execute_result"
    }
   ],
   "source": [
    "a[a < 30]"
   ]
  },
  {
   "cell_type": "code",
   "execution_count": null,
   "id": "bBMqnwI5_V6v",
   "metadata": {
    "colab": {
     "base_uri": "https://localhost:8080/"
    },
    "executionInfo": {
     "elapsed": 4,
     "status": "ok",
     "timestamp": 1664651993835,
     "user": {
      "displayName": "Caner Gündüz",
      "userId": "16817770704696690817"
     },
     "user_tz": -180
    },
    "id": "bBMqnwI5_V6v",
    "outputId": "ec94b65d-2222-45a4-9959-0a380c9b05f9"
   },
   "outputs": [
    {
     "data": {
      "text/plain": [
       "array([10, 20])"
      ]
     },
     "execution_count": 221,
     "metadata": {},
     "output_type": "execute_result"
    }
   ],
   "source": [
    "a"
   ]
  },
  {
   "cell_type": "code",
   "execution_count": null,
   "id": "oBhZLaRO_let",
   "metadata": {
    "id": "oBhZLaRO_let"
   },
   "outputs": [],
   "source": [
    "& | "
   ]
  },
  {
   "cell_type": "code",
   "execution_count": null,
   "id": "AJmYvR2B_xRT",
   "metadata": {
    "id": "AJmYvR2B_xRT"
   },
   "outputs": [],
   "source": [
    "a = np.array([10,20,30,40,60,70,80,90])"
   ]
  },
  {
   "cell_type": "code",
   "execution_count": null,
   "id": "b28e2e33",
   "metadata": {
    "colab": {
     "base_uri": "https://localhost:8080/"
    },
    "executionInfo": {
     "elapsed": 265,
     "status": "ok",
     "timestamp": 1664652141450,
     "user": {
      "displayName": "Caner Gündüz",
      "userId": "16817770704696690817"
     },
     "user_tz": -180
    },
    "id": "b28e2e33",
    "outputId": "a6167a06-15e8-4fae-c0f9-0056cb66f1b3"
   },
   "outputs": [
    {
     "data": {
      "text/plain": [
       "array([70, 80, 90])"
      ]
     },
     "execution_count": 227,
     "metadata": {},
     "output_type": "execute_result"
    }
   ],
   "source": [
    "a[(a > 20) & (a >60) ]"
   ]
  },
  {
   "cell_type": "code",
   "execution_count": null,
   "id": "c5568212",
   "metadata": {
    "colab": {
     "base_uri": "https://localhost:8080/"
    },
    "executionInfo": {
     "elapsed": 285,
     "status": "ok",
     "timestamp": 1664652146645,
     "user": {
      "displayName": "Caner Gündüz",
      "userId": "16817770704696690817"
     },
     "user_tz": -180
    },
    "id": "c5568212",
    "outputId": "f41ed2bf-d674-42bf-8787-d1b692a2d3d2"
   },
   "outputs": [
    {
     "data": {
      "text/plain": [
       "array([10, 20, 30, 40, 60, 70, 80, 90])"
      ]
     },
     "execution_count": 228,
     "metadata": {},
     "output_type": "execute_result"
    }
   ],
   "source": [
    "a"
   ]
  },
  {
   "cell_type": "code",
   "execution_count": null,
   "id": "240865ab",
   "metadata": {
    "colab": {
     "base_uri": "https://localhost:8080/"
    },
    "executionInfo": {
     "elapsed": 349,
     "status": "ok",
     "timestamp": 1664652291099,
     "user": {
      "displayName": "Caner Gündüz",
      "userId": "16817770704696690817"
     },
     "user_tz": -180
    },
    "id": "240865ab",
    "outputId": "4be09911-4e69-4ec0-c6fb-2bee6148f4bf"
   },
   "outputs": [
    {
     "name": "stdout",
     "output_type": "stream",
     "text": [
      "50\n"
     ]
    }
   ],
   "source": [
    "x = 50\n",
    "y = 40\n",
    "\n",
    "\n",
    "if x>y:\n",
    "    print(x)\n",
    "    "
   ]
  },
  {
   "cell_type": "code",
   "execution_count": null,
   "id": "66526f86",
   "metadata": {
    "colab": {
     "base_uri": "https://localhost:8080/"
    },
    "executionInfo": {
     "elapsed": 349,
     "status": "ok",
     "timestamp": 1664652300366,
     "user": {
      "displayName": "Caner Gündüz",
      "userId": "16817770704696690817"
     },
     "user_tz": -180
    },
    "id": "66526f86",
    "outputId": "8c9d4bc5-945c-432d-982c-8d32e9f5da0a"
   },
   "outputs": [
    {
     "name": "stdout",
     "output_type": "stream",
     "text": [
      "50\n"
     ]
    }
   ],
   "source": [
    "x = 40\n",
    "y = 50\n",
    "\n",
    "\n",
    "if x>y:\n",
    "    print(x)\n",
    "else:\n",
    "    print(y)"
   ]
  },
  {
   "cell_type": "code",
   "execution_count": null,
   "id": "e4529098",
   "metadata": {
    "colab": {
     "base_uri": "https://localhost:8080/"
    },
    "executionInfo": {
     "elapsed": 355,
     "status": "ok",
     "timestamp": 1664652312020,
     "user": {
      "displayName": "Caner Gündüz",
      "userId": "16817770704696690817"
     },
     "user_tz": -180
    },
    "id": "e4529098",
    "outputId": "541e6f33-f323-40ba-aa68-204c6403763d"
   },
   "outputs": [
    {
     "data": {
      "text/plain": [
       "array([10, 20, 30, 40, 60, 70, 80, 90])"
      ]
     },
     "execution_count": 233,
     "metadata": {},
     "output_type": "execute_result"
    }
   ],
   "source": [
    "a"
   ]
  },
  {
   "cell_type": "code",
   "execution_count": null,
   "id": "e9e2ff10",
   "metadata": {
    "id": "e9e2ff10"
   },
   "outputs": [],
   "source": [
    "ab = []\n",
    "\n",
    "for i in a:\n",
    "    if i < 70:\n",
    "        ab.append(i)"
   ]
  },
  {
   "cell_type": "code",
   "execution_count": null,
   "id": "f560323e",
   "metadata": {
    "colab": {
     "base_uri": "https://localhost:8080/"
    },
    "executionInfo": {
     "elapsed": 499,
     "status": "ok",
     "timestamp": 1664652378333,
     "user": {
      "displayName": "Caner Gündüz",
      "userId": "16817770704696690817"
     },
     "user_tz": -180
    },
    "id": "f560323e",
    "outputId": "6d1d5ffc-bb48-4792-f6d9-deed2589cd79"
   },
   "outputs": [
    {
     "data": {
      "text/plain": [
       "[10, 20, 30, 40, 60]"
      ]
     },
     "execution_count": 235,
     "metadata": {},
     "output_type": "execute_result"
    }
   ],
   "source": [
    "ab"
   ]
  },
  {
   "cell_type": "code",
   "execution_count": null,
   "id": "a41fed5a",
   "metadata": {
    "colab": {
     "base_uri": "https://localhost:8080/"
    },
    "executionInfo": {
     "elapsed": 462,
     "status": "ok",
     "timestamp": 1664652385577,
     "user": {
      "displayName": "Caner Gündüz",
      "userId": "16817770704696690817"
     },
     "user_tz": -180
    },
    "id": "a41fed5a",
    "outputId": "2c8cd51e-5e05-472b-9e19-6d2e339b794c"
   },
   "outputs": [
    {
     "data": {
      "text/plain": [
       "array([10, 20, 30, 40, 60])"
      ]
     },
     "execution_count": 236,
     "metadata": {},
     "output_type": "execute_result"
    }
   ],
   "source": [
    "a[a<70]"
   ]
  },
  {
   "cell_type": "markdown",
   "id": "74a5c1a7",
   "metadata": {
    "id": "74a5c1a7"
   },
   "source": [
    "## SECTION : DATA MANUPLATION - PANDAS"
   ]
  },
  {
   "cell_type": "code",
   "execution_count": null,
   "id": "ca4fdc6a",
   "metadata": {
    "id": "ca4fdc6a"
   },
   "outputs": [],
   "source": [
    "import pandas as pd"
   ]
  },
  {
   "cell_type": "code",
   "execution_count": null,
   "id": "2c4ea2d0",
   "metadata": {
    "id": "2c4ea2d0"
   },
   "outputs": [],
   "source": [
    "my_list = [10,20,30,40]"
   ]
  },
  {
   "cell_type": "code",
   "execution_count": null,
   "id": "08f050f7",
   "metadata": {
    "id": "08f050f7",
    "outputId": "52c7c2da-5917-491d-960b-e2293ee212f6"
   },
   "outputs": [
    {
     "data": {
      "text/plain": [
       "[10, 20, 30, 40]"
      ]
     },
     "execution_count": 384,
     "metadata": {},
     "output_type": "execute_result"
    }
   ],
   "source": [
    "my_list"
   ]
  },
  {
   "cell_type": "code",
   "execution_count": null,
   "id": "a1ec3923",
   "metadata": {
    "id": "a1ec3923",
    "outputId": "78d36bba-c200-42aa-9753-d6056c6b3b95"
   },
   "outputs": [
    {
     "data": {
      "text/html": [
       "<div>\n",
       "<style scoped>\n",
       "    .dataframe tbody tr th:only-of-type {\n",
       "        vertical-align: middle;\n",
       "    }\n",
       "\n",
       "    .dataframe tbody tr th {\n",
       "        vertical-align: top;\n",
       "    }\n",
       "\n",
       "    .dataframe thead th {\n",
       "        text-align: right;\n",
       "    }\n",
       "</style>\n",
       "<table border=\"1\" class=\"dataframe\">\n",
       "  <thead>\n",
       "    <tr style=\"text-align: right;\">\n",
       "      <th></th>\n",
       "      <th>0</th>\n",
       "    </tr>\n",
       "  </thead>\n",
       "  <tbody>\n",
       "    <tr>\n",
       "      <th>0</th>\n",
       "      <td>10</td>\n",
       "    </tr>\n",
       "    <tr>\n",
       "      <th>1</th>\n",
       "      <td>20</td>\n",
       "    </tr>\n",
       "    <tr>\n",
       "      <th>2</th>\n",
       "      <td>30</td>\n",
       "    </tr>\n",
       "    <tr>\n",
       "      <th>3</th>\n",
       "      <td>40</td>\n",
       "    </tr>\n",
       "  </tbody>\n",
       "</table>\n",
       "</div>"
      ],
      "text/plain": [
       "    0\n",
       "0  10\n",
       "1  20\n",
       "2  30\n",
       "3  40"
      ]
     },
     "execution_count": 385,
     "metadata": {},
     "output_type": "execute_result"
    }
   ],
   "source": [
    "pd.DataFrame(my_list)"
   ]
  },
  {
   "cell_type": "code",
   "execution_count": null,
   "id": "78b8e8a2",
   "metadata": {
    "id": "78b8e8a2",
    "outputId": "e0ffe39a-ad37-4c65-cfd6-ab2f6383f5ca"
   },
   "outputs": [
    {
     "data": {
      "text/html": [
       "<div>\n",
       "<style scoped>\n",
       "    .dataframe tbody tr th:only-of-type {\n",
       "        vertical-align: middle;\n",
       "    }\n",
       "\n",
       "    .dataframe tbody tr th {\n",
       "        vertical-align: top;\n",
       "    }\n",
       "\n",
       "    .dataframe thead th {\n",
       "        text-align: right;\n",
       "    }\n",
       "</style>\n",
       "<table border=\"1\" class=\"dataframe\">\n",
       "  <thead>\n",
       "    <tr style=\"text-align: right;\">\n",
       "      <th></th>\n",
       "      <th>Age</th>\n",
       "    </tr>\n",
       "  </thead>\n",
       "  <tbody>\n",
       "    <tr>\n",
       "      <th>0</th>\n",
       "      <td>10</td>\n",
       "    </tr>\n",
       "    <tr>\n",
       "      <th>1</th>\n",
       "      <td>20</td>\n",
       "    </tr>\n",
       "    <tr>\n",
       "      <th>2</th>\n",
       "      <td>30</td>\n",
       "    </tr>\n",
       "    <tr>\n",
       "      <th>3</th>\n",
       "      <td>40</td>\n",
       "    </tr>\n",
       "  </tbody>\n",
       "</table>\n",
       "</div>"
      ],
      "text/plain": [
       "   Age\n",
       "0   10\n",
       "1   20\n",
       "2   30\n",
       "3   40"
      ]
     },
     "execution_count": 386,
     "metadata": {},
     "output_type": "execute_result"
    }
   ],
   "source": [
    "df = pd.DataFrame(my_list, columns = [[\"Age\",'Gender']])"
   ]
  },
  {
   "cell_type": "code",
   "execution_count": null,
   "id": "34042e92",
   "metadata": {
    "colab": {
     "base_uri": "https://localhost:8080/"
    },
    "executionInfo": {
     "elapsed": 274,
     "status": "ok",
     "timestamp": 1664913898483,
     "user": {
      "displayName": "minel tuğçe Dunar",
      "userId": "05695089098120505049"
     },
     "user_tz": -180
    },
    "id": "34042e92",
    "outputId": "3af9e1a3-9083-43e2-97b1-c8eb9971334d"
   },
   "outputs": [
    {
     "data": {
      "text/plain": [
       "array([[ 1,  2,  3,  4,  5,  6,  7,  8,  9, 10, 11, 12, 13, 14, 15, 16,\n",
       "        17, 18, 19, 20, 21, 22, 23, 24, 25],\n",
       "       [26, 27, 28, 29, 30, 31, 32, 33, 34, 35, 36, 37, 38, 39, 40, 41,\n",
       "        42, 43, 44, 45, 46, 47, 48, 49, 50]])"
      ]
     },
     "execution_count": 7,
     "metadata": {},
     "output_type": "execute_result"
    }
   ],
   "source": [
    "np.arange(1,51).reshape((2,25))"
   ]
  },
  {
   "cell_type": "code",
   "execution_count": null,
   "id": "81a1b36b",
   "metadata": {
    "id": "81a1b36b"
   },
   "outputs": [],
   "source": [
    "m = np.arange(1,10).reshape((3,3))"
   ]
  },
  {
   "cell_type": "code",
   "execution_count": null,
   "id": "b78f20e5",
   "metadata": {
    "id": "b78f20e5"
   },
   "outputs": [],
   "source": [
    "m = np.arange(1,10)"
   ]
  },
  {
   "cell_type": "code",
   "execution_count": null,
   "id": "943bea6b",
   "metadata": {
    "colab": {
     "base_uri": "https://localhost:8080/"
    },
    "executionInfo": {
     "elapsed": 4,
     "status": "ok",
     "timestamp": 1664652488167,
     "user": {
      "displayName": "Caner Gündüz",
      "userId": "16817770704696690817"
     },
     "user_tz": -180
    },
    "id": "943bea6b",
    "outputId": "6a4a8a27-c46c-4176-d490-25075a2d1ef7"
   },
   "outputs": [
    {
     "data": {
      "text/plain": [
       "array([1, 2, 3, 4, 5, 6, 7, 8, 9])"
      ]
     },
     "execution_count": 240,
     "metadata": {},
     "output_type": "execute_result"
    }
   ],
   "source": [
    "m"
   ]
  },
  {
   "cell_type": "code",
   "execution_count": null,
   "id": "6181bab9",
   "metadata": {
    "id": "6181bab9"
   },
   "outputs": [],
   "source": [
    "m= m.reshape((3,3))"
   ]
  },
  {
   "cell_type": "code",
   "execution_count": null,
   "id": "6cff0b38",
   "metadata": {
    "id": "6cff0b38"
   },
   "outputs": [],
   "source": [
    "m = [[1, 2, 3],[4, 5, 6],[7, 8, 9]]"
   ]
  },
  {
   "cell_type": "code",
   "execution_count": null,
   "id": "caa2b86f",
   "metadata": {
    "colab": {
     "base_uri": "https://localhost:8080/"
    },
    "executionInfo": {
     "elapsed": 676,
     "status": "ok",
     "timestamp": 1664652593945,
     "user": {
      "displayName": "Caner Gündüz",
      "userId": "16817770704696690817"
     },
     "user_tz": -180
    },
    "id": "caa2b86f",
    "outputId": "988f5e80-2719-4869-f8c7-d6c71528c9e8"
   },
   "outputs": [
    {
     "data": {
      "text/plain": [
       "30"
      ]
     },
     "execution_count": 248,
     "metadata": {},
     "output_type": "execute_result"
    }
   ],
   "source": [
    "m[1][2]*m[1][1]"
   ]
  },
  {
   "cell_type": "code",
   "execution_count": null,
   "id": "163aa537",
   "metadata": {
    "colab": {
     "base_uri": "https://localhost:8080/",
     "height": 143
    },
    "executionInfo": {
     "elapsed": 5,
     "status": "ok",
     "timestamp": 1664652604030,
     "user": {
      "displayName": "Caner Gündüz",
      "userId": "16817770704696690817"
     },
     "user_tz": -180
    },
    "id": "163aa537",
    "outputId": "8ca64a93-4b42-4905-e1f3-873d611e71c2"
   },
   "outputs": [
    {
     "data": {
      "text/html": [
       "\n",
       "  <div id=\"df-35b8ba7e-c6a1-4896-b2ea-0cff5ebbc533\">\n",
       "    <div class=\"colab-df-container\">\n",
       "      <div>\n",
       "<style scoped>\n",
       "    .dataframe tbody tr th:only-of-type {\n",
       "        vertical-align: middle;\n",
       "    }\n",
       "\n",
       "    .dataframe tbody tr th {\n",
       "        vertical-align: top;\n",
       "    }\n",
       "\n",
       "    .dataframe thead th {\n",
       "        text-align: right;\n",
       "    }\n",
       "</style>\n",
       "<table border=\"1\" class=\"dataframe\">\n",
       "  <thead>\n",
       "    <tr style=\"text-align: right;\">\n",
       "      <th></th>\n",
       "      <th>Age1</th>\n",
       "      <th>Age2</th>\n",
       "      <th>Age3</th>\n",
       "    </tr>\n",
       "  </thead>\n",
       "  <tbody>\n",
       "    <tr>\n",
       "      <th>0</th>\n",
       "      <td>1</td>\n",
       "      <td>2</td>\n",
       "      <td>3</td>\n",
       "    </tr>\n",
       "    <tr>\n",
       "      <th>1</th>\n",
       "      <td>4</td>\n",
       "      <td>5</td>\n",
       "      <td>6</td>\n",
       "    </tr>\n",
       "    <tr>\n",
       "      <th>2</th>\n",
       "      <td>7</td>\n",
       "      <td>8</td>\n",
       "      <td>9</td>\n",
       "    </tr>\n",
       "  </tbody>\n",
       "</table>\n",
       "</div>\n",
       "      <button class=\"colab-df-convert\" onclick=\"convertToInteractive('df-35b8ba7e-c6a1-4896-b2ea-0cff5ebbc533')\"\n",
       "              title=\"Convert this dataframe to an interactive table.\"\n",
       "              style=\"display:none;\">\n",
       "        \n",
       "  <svg xmlns=\"http://www.w3.org/2000/svg\" height=\"24px\"viewBox=\"0 0 24 24\"\n",
       "       width=\"24px\">\n",
       "    <path d=\"M0 0h24v24H0V0z\" fill=\"none\"/>\n",
       "    <path d=\"M18.56 5.44l.94 2.06.94-2.06 2.06-.94-2.06-.94-.94-2.06-.94 2.06-2.06.94zm-11 1L8.5 8.5l.94-2.06 2.06-.94-2.06-.94L8.5 2.5l-.94 2.06-2.06.94zm10 10l.94 2.06.94-2.06 2.06-.94-2.06-.94-.94-2.06-.94 2.06-2.06.94z\"/><path d=\"M17.41 7.96l-1.37-1.37c-.4-.4-.92-.59-1.43-.59-.52 0-1.04.2-1.43.59L10.3 9.45l-7.72 7.72c-.78.78-.78 2.05 0 2.83L4 21.41c.39.39.9.59 1.41.59.51 0 1.02-.2 1.41-.59l7.78-7.78 2.81-2.81c.8-.78.8-2.07 0-2.86zM5.41 20L4 18.59l7.72-7.72 1.47 1.35L5.41 20z\"/>\n",
       "  </svg>\n",
       "      </button>\n",
       "      \n",
       "  <style>\n",
       "    .colab-df-container {\n",
       "      display:flex;\n",
       "      flex-wrap:wrap;\n",
       "      gap: 12px;\n",
       "    }\n",
       "\n",
       "    .colab-df-convert {\n",
       "      background-color: #E8F0FE;\n",
       "      border: none;\n",
       "      border-radius: 50%;\n",
       "      cursor: pointer;\n",
       "      display: none;\n",
       "      fill: #1967D2;\n",
       "      height: 32px;\n",
       "      padding: 0 0 0 0;\n",
       "      width: 32px;\n",
       "    }\n",
       "\n",
       "    .colab-df-convert:hover {\n",
       "      background-color: #E2EBFA;\n",
       "      box-shadow: 0px 1px 2px rgba(60, 64, 67, 0.3), 0px 1px 3px 1px rgba(60, 64, 67, 0.15);\n",
       "      fill: #174EA6;\n",
       "    }\n",
       "\n",
       "    [theme=dark] .colab-df-convert {\n",
       "      background-color: #3B4455;\n",
       "      fill: #D2E3FC;\n",
       "    }\n",
       "\n",
       "    [theme=dark] .colab-df-convert:hover {\n",
       "      background-color: #434B5C;\n",
       "      box-shadow: 0px 1px 3px 1px rgba(0, 0, 0, 0.15);\n",
       "      filter: drop-shadow(0px 1px 2px rgba(0, 0, 0, 0.3));\n",
       "      fill: #FFFFFF;\n",
       "    }\n",
       "  </style>\n",
       "\n",
       "      <script>\n",
       "        const buttonEl =\n",
       "          document.querySelector('#df-35b8ba7e-c6a1-4896-b2ea-0cff5ebbc533 button.colab-df-convert');\n",
       "        buttonEl.style.display =\n",
       "          google.colab.kernel.accessAllowed ? 'block' : 'none';\n",
       "\n",
       "        async function convertToInteractive(key) {\n",
       "          const element = document.querySelector('#df-35b8ba7e-c6a1-4896-b2ea-0cff5ebbc533');\n",
       "          const dataTable =\n",
       "            await google.colab.kernel.invokeFunction('convertToInteractive',\n",
       "                                                     [key], {});\n",
       "          if (!dataTable) return;\n",
       "\n",
       "          const docLinkHtml = 'Like what you see? Visit the ' +\n",
       "            '<a target=\"_blank\" href=https://colab.research.google.com/notebooks/data_table.ipynb>data table notebook</a>'\n",
       "            + ' to learn more about interactive tables.';\n",
       "          element.innerHTML = '';\n",
       "          dataTable['output_type'] = 'display_data';\n",
       "          await google.colab.output.renderOutput(dataTable, element);\n",
       "          const docLink = document.createElement('div');\n",
       "          docLink.innerHTML = docLinkHtml;\n",
       "          element.appendChild(docLink);\n",
       "        }\n",
       "      </script>\n",
       "    </div>\n",
       "  </div>\n",
       "  "
      ],
      "text/plain": [
       "   Age1  Age2  Age3\n",
       "0     1     2     3\n",
       "1     4     5     6\n",
       "2     7     8     9"
      ]
     },
     "execution_count": 253,
     "metadata": {},
     "output_type": "execute_result"
    }
   ],
   "source": [
    "pd.DataFrame(m, columns = [\"Age1\", \"Age2\",\"Age3\"])"
   ]
  },
  {
   "cell_type": "code",
   "execution_count": null,
   "id": "aae8353e",
   "metadata": {
    "id": "aae8353e"
   },
   "outputs": [],
   "source": [
    "df = pd.DataFrame(m, columns = [\"Age1\", \"Age2\",\"Age3\"])"
   ]
  },
  {
   "cell_type": "code",
   "execution_count": null,
   "id": "06343d52",
   "metadata": {
    "colab": {
     "base_uri": "https://localhost:8080/",
     "height": 143
    },
    "executionInfo": {
     "elapsed": 5,
     "status": "ok",
     "timestamp": 1664652607126,
     "user": {
      "displayName": "Caner Gündüz",
      "userId": "16817770704696690817"
     },
     "user_tz": -180
    },
    "id": "06343d52",
    "outputId": "44ded751-db8e-4b03-d924-fe2f0c483e87"
   },
   "outputs": [
    {
     "data": {
      "text/html": [
       "\n",
       "  <div id=\"df-8dfc1a5c-82bb-40a8-a3da-12becfe32353\">\n",
       "    <div class=\"colab-df-container\">\n",
       "      <div>\n",
       "<style scoped>\n",
       "    .dataframe tbody tr th:only-of-type {\n",
       "        vertical-align: middle;\n",
       "    }\n",
       "\n",
       "    .dataframe tbody tr th {\n",
       "        vertical-align: top;\n",
       "    }\n",
       "\n",
       "    .dataframe thead th {\n",
       "        text-align: right;\n",
       "    }\n",
       "</style>\n",
       "<table border=\"1\" class=\"dataframe\">\n",
       "  <thead>\n",
       "    <tr style=\"text-align: right;\">\n",
       "      <th></th>\n",
       "      <th>Age1</th>\n",
       "      <th>Age2</th>\n",
       "      <th>Age3</th>\n",
       "    </tr>\n",
       "  </thead>\n",
       "  <tbody>\n",
       "    <tr>\n",
       "      <th>0</th>\n",
       "      <td>1</td>\n",
       "      <td>2</td>\n",
       "      <td>3</td>\n",
       "    </tr>\n",
       "    <tr>\n",
       "      <th>1</th>\n",
       "      <td>4</td>\n",
       "      <td>5</td>\n",
       "      <td>6</td>\n",
       "    </tr>\n",
       "    <tr>\n",
       "      <th>2</th>\n",
       "      <td>7</td>\n",
       "      <td>8</td>\n",
       "      <td>9</td>\n",
       "    </tr>\n",
       "  </tbody>\n",
       "</table>\n",
       "</div>\n",
       "      <button class=\"colab-df-convert\" onclick=\"convertToInteractive('df-8dfc1a5c-82bb-40a8-a3da-12becfe32353')\"\n",
       "              title=\"Convert this dataframe to an interactive table.\"\n",
       "              style=\"display:none;\">\n",
       "        \n",
       "  <svg xmlns=\"http://www.w3.org/2000/svg\" height=\"24px\"viewBox=\"0 0 24 24\"\n",
       "       width=\"24px\">\n",
       "    <path d=\"M0 0h24v24H0V0z\" fill=\"none\"/>\n",
       "    <path d=\"M18.56 5.44l.94 2.06.94-2.06 2.06-.94-2.06-.94-.94-2.06-.94 2.06-2.06.94zm-11 1L8.5 8.5l.94-2.06 2.06-.94-2.06-.94L8.5 2.5l-.94 2.06-2.06.94zm10 10l.94 2.06.94-2.06 2.06-.94-2.06-.94-.94-2.06-.94 2.06-2.06.94z\"/><path d=\"M17.41 7.96l-1.37-1.37c-.4-.4-.92-.59-1.43-.59-.52 0-1.04.2-1.43.59L10.3 9.45l-7.72 7.72c-.78.78-.78 2.05 0 2.83L4 21.41c.39.39.9.59 1.41.59.51 0 1.02-.2 1.41-.59l7.78-7.78 2.81-2.81c.8-.78.8-2.07 0-2.86zM5.41 20L4 18.59l7.72-7.72 1.47 1.35L5.41 20z\"/>\n",
       "  </svg>\n",
       "      </button>\n",
       "      \n",
       "  <style>\n",
       "    .colab-df-container {\n",
       "      display:flex;\n",
       "      flex-wrap:wrap;\n",
       "      gap: 12px;\n",
       "    }\n",
       "\n",
       "    .colab-df-convert {\n",
       "      background-color: #E8F0FE;\n",
       "      border: none;\n",
       "      border-radius: 50%;\n",
       "      cursor: pointer;\n",
       "      display: none;\n",
       "      fill: #1967D2;\n",
       "      height: 32px;\n",
       "      padding: 0 0 0 0;\n",
       "      width: 32px;\n",
       "    }\n",
       "\n",
       "    .colab-df-convert:hover {\n",
       "      background-color: #E2EBFA;\n",
       "      box-shadow: 0px 1px 2px rgba(60, 64, 67, 0.3), 0px 1px 3px 1px rgba(60, 64, 67, 0.15);\n",
       "      fill: #174EA6;\n",
       "    }\n",
       "\n",
       "    [theme=dark] .colab-df-convert {\n",
       "      background-color: #3B4455;\n",
       "      fill: #D2E3FC;\n",
       "    }\n",
       "\n",
       "    [theme=dark] .colab-df-convert:hover {\n",
       "      background-color: #434B5C;\n",
       "      box-shadow: 0px 1px 3px 1px rgba(0, 0, 0, 0.15);\n",
       "      filter: drop-shadow(0px 1px 2px rgba(0, 0, 0, 0.3));\n",
       "      fill: #FFFFFF;\n",
       "    }\n",
       "  </style>\n",
       "\n",
       "      <script>\n",
       "        const buttonEl =\n",
       "          document.querySelector('#df-8dfc1a5c-82bb-40a8-a3da-12becfe32353 button.colab-df-convert');\n",
       "        buttonEl.style.display =\n",
       "          google.colab.kernel.accessAllowed ? 'block' : 'none';\n",
       "\n",
       "        async function convertToInteractive(key) {\n",
       "          const element = document.querySelector('#df-8dfc1a5c-82bb-40a8-a3da-12becfe32353');\n",
       "          const dataTable =\n",
       "            await google.colab.kernel.invokeFunction('convertToInteractive',\n",
       "                                                     [key], {});\n",
       "          if (!dataTable) return;\n",
       "\n",
       "          const docLinkHtml = 'Like what you see? Visit the ' +\n",
       "            '<a target=\"_blank\" href=https://colab.research.google.com/notebooks/data_table.ipynb>data table notebook</a>'\n",
       "            + ' to learn more about interactive tables.';\n",
       "          element.innerHTML = '';\n",
       "          dataTable['output_type'] = 'display_data';\n",
       "          await google.colab.output.renderOutput(dataTable, element);\n",
       "          const docLink = document.createElement('div');\n",
       "          docLink.innerHTML = docLinkHtml;\n",
       "          element.appendChild(docLink);\n",
       "        }\n",
       "      </script>\n",
       "    </div>\n",
       "  </div>\n",
       "  "
      ],
      "text/plain": [
       "   Age1  Age2  Age3\n",
       "0     1     2     3\n",
       "1     4     5     6\n",
       "2     7     8     9"
      ]
     },
     "execution_count": 255,
     "metadata": {},
     "output_type": "execute_result"
    }
   ],
   "source": [
    "df"
   ]
  },
  {
   "cell_type": "code",
   "execution_count": null,
   "id": "3a622ee6",
   "metadata": {
    "id": "3a622ee6"
   },
   "outputs": [],
   "source": []
  },
  {
   "cell_type": "code",
   "execution_count": null,
   "id": "2d59430d",
   "metadata": {
    "id": "2d59430d",
    "outputId": "b1f9d716-0482-4986-bba6-a2e85be0de30"
   },
   "outputs": [
    {
     "data": {
      "text/plain": [
       "(3, 3)"
      ]
     },
     "execution_count": 394,
     "metadata": {},
     "output_type": "execute_result"
    }
   ],
   "source": [
    "df.shape"
   ]
  },
  {
   "cell_type": "code",
   "execution_count": null,
   "id": "23689b96",
   "metadata": {
    "colab": {
     "base_uri": "https://localhost:8080/"
    },
    "executionInfo": {
     "elapsed": 1544,
     "status": "ok",
     "timestamp": 1664652613060,
     "user": {
      "displayName": "Caner Gündüz",
      "userId": "16817770704696690817"
     },
     "user_tz": -180
    },
    "id": "23689b96",
    "outputId": "7c02634f-8077-457d-8e82-f24972d5441e"
   },
   "outputs": [
    {
     "data": {
      "text/plain": [
       "2"
      ]
     },
     "execution_count": 256,
     "metadata": {},
     "output_type": "execute_result"
    }
   ],
   "source": [
    "df.ndim"
   ]
  },
  {
   "cell_type": "code",
   "execution_count": null,
   "id": "3a69eeea",
   "metadata": {
    "colab": {
     "base_uri": "https://localhost:8080/"
    },
    "executionInfo": {
     "elapsed": 4,
     "status": "ok",
     "timestamp": 1664652613678,
     "user": {
      "displayName": "Caner Gündüz",
      "userId": "16817770704696690817"
     },
     "user_tz": -180
    },
    "id": "3a69eeea",
    "outputId": "0d7ad684-7afe-4830-b74e-9181b674a425"
   },
   "outputs": [
    {
     "data": {
      "text/plain": [
       "RangeIndex(start=0, stop=3, step=1)"
      ]
     },
     "execution_count": 257,
     "metadata": {},
     "output_type": "execute_result"
    }
   ],
   "source": [
    "df.index"
   ]
  },
  {
   "cell_type": "code",
   "execution_count": null,
   "id": "a1ecc833",
   "metadata": {
    "id": "a1ecc833"
   },
   "outputs": [],
   "source": [
    "df.index = [\"Hava\",\"Toprak\",\"Su\"]"
   ]
  },
  {
   "cell_type": "code",
   "execution_count": null,
   "id": "31d7ec59",
   "metadata": {
    "colab": {
     "base_uri": "https://localhost:8080/"
    },
    "executionInfo": {
     "elapsed": 263,
     "status": "ok",
     "timestamp": 1664652626374,
     "user": {
      "displayName": "Caner Gündüz",
      "userId": "16817770704696690817"
     },
     "user_tz": -180
    },
    "id": "31d7ec59",
    "outputId": "44af5256-2705-4320-e3a1-a981d56cd28b"
   },
   "outputs": [
    {
     "data": {
      "text/plain": [
       "Index(['Age1', 'Age2', 'Age3'], dtype='object')"
      ]
     },
     "execution_count": 261,
     "metadata": {},
     "output_type": "execute_result"
    }
   ],
   "source": [
    "df.columns"
   ]
  },
  {
   "cell_type": "code",
   "execution_count": null,
   "id": "c0f4e3fe",
   "metadata": {
    "colab": {
     "base_uri": "https://localhost:8080/"
    },
    "executionInfo": {
     "elapsed": 4,
     "status": "ok",
     "timestamp": 1664652618289,
     "user": {
      "displayName": "Caner Gündüz",
      "userId": "16817770704696690817"
     },
     "user_tz": -180
    },
    "id": "c0f4e3fe",
    "outputId": "843bc4e2-7e97-4581-cbb6-195b91743759"
   },
   "outputs": [
    {
     "data": {
      "text/plain": [
       "array([[1, 2, 3],\n",
       "       [4, 5, 6],\n",
       "       [7, 8, 9]])"
      ]
     },
     "execution_count": 259,
     "metadata": {},
     "output_type": "execute_result"
    }
   ],
   "source": [
    "df.values"
   ]
  },
  {
   "cell_type": "code",
   "execution_count": null,
   "id": "1b88c34e",
   "metadata": {
    "id": "1b88c34e"
   },
   "outputs": [],
   "source": [
    "df.index = [\"a\",\"b\",\"c\"]"
   ]
  },
  {
   "cell_type": "code",
   "execution_count": null,
   "id": "faf9c73c",
   "metadata": {
    "id": "faf9c73c",
    "outputId": "566b0ef6-bbf1-4038-d85e-f600ee34bcb1"
   },
   "outputs": [
    {
     "data": {
      "text/html": [
       "<div>\n",
       "<style scoped>\n",
       "    .dataframe tbody tr th:only-of-type {\n",
       "        vertical-align: middle;\n",
       "    }\n",
       "\n",
       "    .dataframe tbody tr th {\n",
       "        vertical-align: top;\n",
       "    }\n",
       "\n",
       "    .dataframe thead th {\n",
       "        text-align: right;\n",
       "    }\n",
       "</style>\n",
       "<table border=\"1\" class=\"dataframe\">\n",
       "  <thead>\n",
       "    <tr style=\"text-align: right;\">\n",
       "      <th></th>\n",
       "      <th>Age1</th>\n",
       "      <th>Age2</th>\n",
       "      <th>Age3</th>\n",
       "    </tr>\n",
       "  </thead>\n",
       "  <tbody>\n",
       "    <tr>\n",
       "      <th>a</th>\n",
       "      <td>1</td>\n",
       "      <td>2</td>\n",
       "      <td>3</td>\n",
       "    </tr>\n",
       "    <tr>\n",
       "      <th>b</th>\n",
       "      <td>4</td>\n",
       "      <td>5</td>\n",
       "      <td>6</td>\n",
       "    </tr>\n",
       "    <tr>\n",
       "      <th>c</th>\n",
       "      <td>7</td>\n",
       "      <td>8</td>\n",
       "      <td>9</td>\n",
       "    </tr>\n",
       "  </tbody>\n",
       "</table>\n",
       "</div>"
      ],
      "text/plain": [
       "   Age1  Age2  Age3\n",
       "a     1     2     3\n",
       "b     4     5     6\n",
       "c     7     8     9"
      ]
     },
     "execution_count": 409,
     "metadata": {},
     "output_type": "execute_result"
    }
   ],
   "source": [
    "df"
   ]
  },
  {
   "cell_type": "code",
   "execution_count": null,
   "id": "d2727092",
   "metadata": {
    "id": "d2727092"
   },
   "outputs": [],
   "source": [
    "import numpy as np"
   ]
  },
  {
   "cell_type": "code",
   "execution_count": null,
   "id": "7e2f696d",
   "metadata": {
    "id": "7e2f696d"
   },
   "outputs": [],
   "source": [
    "import pandas as pd"
   ]
  },
  {
   "cell_type": "code",
   "execution_count": null,
   "id": "04d73108",
   "metadata": {
    "id": "04d73108"
   },
   "outputs": [],
   "source": [
    "import seaborn as sns"
   ]
  },
  {
   "cell_type": "code",
   "execution_count": null,
   "id": "a9e1b4cf",
   "metadata": {
    "id": "a9e1b4cf"
   },
   "outputs": [],
   "source": [
    "import seaborn as sns"
   ]
  },
  {
   "cell_type": "code",
   "execution_count": null,
   "id": "91306245",
   "metadata": {
    "id": "91306245"
   },
   "outputs": [],
   "source": [
    "df = sns.load_dataset(\"car_crashes\")"
   ]
  },
  {
   "cell_type": "code",
   "execution_count": null,
   "id": "a4ab5835",
   "metadata": {
    "colab": {
     "base_uri": "https://localhost:8080/",
     "height": 206
    },
    "executionInfo": {
     "elapsed": 401,
     "status": "ok",
     "timestamp": 1664652695907,
     "user": {
      "displayName": "Caner Gündüz",
      "userId": "16817770704696690817"
     },
     "user_tz": -180
    },
    "id": "a4ab5835",
    "outputId": "674b1ea6-821b-4b87-ad8c-9927359c0ee7"
   },
   "outputs": [
    {
     "data": {
      "text/html": [
       "\n",
       "  <div id=\"df-b7d0cc71-0f2c-4d05-acfb-678fa34dfebc\">\n",
       "    <div class=\"colab-df-container\">\n",
       "      <div>\n",
       "<style scoped>\n",
       "    .dataframe tbody tr th:only-of-type {\n",
       "        vertical-align: middle;\n",
       "    }\n",
       "\n",
       "    .dataframe tbody tr th {\n",
       "        vertical-align: top;\n",
       "    }\n",
       "\n",
       "    .dataframe thead th {\n",
       "        text-align: right;\n",
       "    }\n",
       "</style>\n",
       "<table border=\"1\" class=\"dataframe\">\n",
       "  <thead>\n",
       "    <tr style=\"text-align: right;\">\n",
       "      <th></th>\n",
       "      <th>total</th>\n",
       "      <th>speeding</th>\n",
       "      <th>alcohol</th>\n",
       "      <th>not_distracted</th>\n",
       "      <th>no_previous</th>\n",
       "      <th>ins_premium</th>\n",
       "      <th>ins_losses</th>\n",
       "      <th>abbrev</th>\n",
       "    </tr>\n",
       "  </thead>\n",
       "  <tbody>\n",
       "    <tr>\n",
       "      <th>0</th>\n",
       "      <td>18.8</td>\n",
       "      <td>7.332</td>\n",
       "      <td>5.640</td>\n",
       "      <td>18.048</td>\n",
       "      <td>15.040</td>\n",
       "      <td>784.55</td>\n",
       "      <td>145.08</td>\n",
       "      <td>AL</td>\n",
       "    </tr>\n",
       "    <tr>\n",
       "      <th>1</th>\n",
       "      <td>18.1</td>\n",
       "      <td>7.421</td>\n",
       "      <td>4.525</td>\n",
       "      <td>16.290</td>\n",
       "      <td>17.014</td>\n",
       "      <td>1053.48</td>\n",
       "      <td>133.93</td>\n",
       "      <td>AK</td>\n",
       "    </tr>\n",
       "    <tr>\n",
       "      <th>2</th>\n",
       "      <td>18.6</td>\n",
       "      <td>6.510</td>\n",
       "      <td>5.208</td>\n",
       "      <td>15.624</td>\n",
       "      <td>17.856</td>\n",
       "      <td>899.47</td>\n",
       "      <td>110.35</td>\n",
       "      <td>AZ</td>\n",
       "    </tr>\n",
       "    <tr>\n",
       "      <th>3</th>\n",
       "      <td>22.4</td>\n",
       "      <td>4.032</td>\n",
       "      <td>5.824</td>\n",
       "      <td>21.056</td>\n",
       "      <td>21.280</td>\n",
       "      <td>827.34</td>\n",
       "      <td>142.39</td>\n",
       "      <td>AR</td>\n",
       "    </tr>\n",
       "    <tr>\n",
       "      <th>4</th>\n",
       "      <td>12.0</td>\n",
       "      <td>4.200</td>\n",
       "      <td>3.360</td>\n",
       "      <td>10.920</td>\n",
       "      <td>10.680</td>\n",
       "      <td>878.41</td>\n",
       "      <td>165.63</td>\n",
       "      <td>CA</td>\n",
       "    </tr>\n",
       "  </tbody>\n",
       "</table>\n",
       "</div>\n",
       "      <button class=\"colab-df-convert\" onclick=\"convertToInteractive('df-b7d0cc71-0f2c-4d05-acfb-678fa34dfebc')\"\n",
       "              title=\"Convert this dataframe to an interactive table.\"\n",
       "              style=\"display:none;\">\n",
       "        \n",
       "  <svg xmlns=\"http://www.w3.org/2000/svg\" height=\"24px\"viewBox=\"0 0 24 24\"\n",
       "       width=\"24px\">\n",
       "    <path d=\"M0 0h24v24H0V0z\" fill=\"none\"/>\n",
       "    <path d=\"M18.56 5.44l.94 2.06.94-2.06 2.06-.94-2.06-.94-.94-2.06-.94 2.06-2.06.94zm-11 1L8.5 8.5l.94-2.06 2.06-.94-2.06-.94L8.5 2.5l-.94 2.06-2.06.94zm10 10l.94 2.06.94-2.06 2.06-.94-2.06-.94-.94-2.06-.94 2.06-2.06.94z\"/><path d=\"M17.41 7.96l-1.37-1.37c-.4-.4-.92-.59-1.43-.59-.52 0-1.04.2-1.43.59L10.3 9.45l-7.72 7.72c-.78.78-.78 2.05 0 2.83L4 21.41c.39.39.9.59 1.41.59.51 0 1.02-.2 1.41-.59l7.78-7.78 2.81-2.81c.8-.78.8-2.07 0-2.86zM5.41 20L4 18.59l7.72-7.72 1.47 1.35L5.41 20z\"/>\n",
       "  </svg>\n",
       "      </button>\n",
       "      \n",
       "  <style>\n",
       "    .colab-df-container {\n",
       "      display:flex;\n",
       "      flex-wrap:wrap;\n",
       "      gap: 12px;\n",
       "    }\n",
       "\n",
       "    .colab-df-convert {\n",
       "      background-color: #E8F0FE;\n",
       "      border: none;\n",
       "      border-radius: 50%;\n",
       "      cursor: pointer;\n",
       "      display: none;\n",
       "      fill: #1967D2;\n",
       "      height: 32px;\n",
       "      padding: 0 0 0 0;\n",
       "      width: 32px;\n",
       "    }\n",
       "\n",
       "    .colab-df-convert:hover {\n",
       "      background-color: #E2EBFA;\n",
       "      box-shadow: 0px 1px 2px rgba(60, 64, 67, 0.3), 0px 1px 3px 1px rgba(60, 64, 67, 0.15);\n",
       "      fill: #174EA6;\n",
       "    }\n",
       "\n",
       "    [theme=dark] .colab-df-convert {\n",
       "      background-color: #3B4455;\n",
       "      fill: #D2E3FC;\n",
       "    }\n",
       "\n",
       "    [theme=dark] .colab-df-convert:hover {\n",
       "      background-color: #434B5C;\n",
       "      box-shadow: 0px 1px 3px 1px rgba(0, 0, 0, 0.15);\n",
       "      filter: drop-shadow(0px 1px 2px rgba(0, 0, 0, 0.3));\n",
       "      fill: #FFFFFF;\n",
       "    }\n",
       "  </style>\n",
       "\n",
       "      <script>\n",
       "        const buttonEl =\n",
       "          document.querySelector('#df-b7d0cc71-0f2c-4d05-acfb-678fa34dfebc button.colab-df-convert');\n",
       "        buttonEl.style.display =\n",
       "          google.colab.kernel.accessAllowed ? 'block' : 'none';\n",
       "\n",
       "        async function convertToInteractive(key) {\n",
       "          const element = document.querySelector('#df-b7d0cc71-0f2c-4d05-acfb-678fa34dfebc');\n",
       "          const dataTable =\n",
       "            await google.colab.kernel.invokeFunction('convertToInteractive',\n",
       "                                                     [key], {});\n",
       "          if (!dataTable) return;\n",
       "\n",
       "          const docLinkHtml = 'Like what you see? Visit the ' +\n",
       "            '<a target=\"_blank\" href=https://colab.research.google.com/notebooks/data_table.ipynb>data table notebook</a>'\n",
       "            + ' to learn more about interactive tables.';\n",
       "          element.innerHTML = '';\n",
       "          dataTable['output_type'] = 'display_data';\n",
       "          await google.colab.output.renderOutput(dataTable, element);\n",
       "          const docLink = document.createElement('div');\n",
       "          docLink.innerHTML = docLinkHtml;\n",
       "          element.appendChild(docLink);\n",
       "        }\n",
       "      </script>\n",
       "    </div>\n",
       "  </div>\n",
       "  "
      ],
      "text/plain": [
       "   total  speeding  alcohol  not_distracted  no_previous  ins_premium  \\\n",
       "0   18.8     7.332    5.640          18.048       15.040       784.55   \n",
       "1   18.1     7.421    4.525          16.290       17.014      1053.48   \n",
       "2   18.6     6.510    5.208          15.624       17.856       899.47   \n",
       "3   22.4     4.032    5.824          21.056       21.280       827.34   \n",
       "4   12.0     4.200    3.360          10.920       10.680       878.41   \n",
       "\n",
       "   ins_losses abbrev  \n",
       "0      145.08     AL  \n",
       "1      133.93     AK  \n",
       "2      110.35     AZ  \n",
       "3      142.39     AR  \n",
       "4      165.63     CA  "
      ]
     },
     "execution_count": 267,
     "metadata": {},
     "output_type": "execute_result"
    }
   ],
   "source": [
    "df.head()"
   ]
  },
  {
   "cell_type": "code",
   "execution_count": null,
   "id": "21da9219",
   "metadata": {
    "id": "21da9219",
    "outputId": "f15214d3-1dc6-4067-dc58-126d472629d5"
   },
   "outputs": [
    {
     "data": {
      "text/plain": [
       "(51, 8)"
      ]
     },
     "execution_count": 414,
     "metadata": {},
     "output_type": "execute_result"
    }
   ],
   "source": [
    "df.shape"
   ]
  },
  {
   "cell_type": "code",
   "execution_count": null,
   "id": "3996faeb",
   "metadata": {
    "id": "3996faeb",
    "outputId": "ed5278b3-e5f6-41ce-9857-0964775287ed"
   },
   "outputs": [
    {
     "data": {
      "text/plain": [
       "Index(['total', 'speeding', 'alcohol', 'not_distracted', 'no_previous',\n",
       "       'ins_premium', 'ins_losses', 'abbrev'],\n",
       "      dtype='object')"
      ]
     },
     "execution_count": 419,
     "metadata": {},
     "output_type": "execute_result"
    }
   ],
   "source": [
    "df.columns"
   ]
  },
  {
   "cell_type": "code",
   "execution_count": null,
   "id": "0e4099c2",
   "metadata": {
    "id": "0e4099c2",
    "outputId": "7c42be75-bd06-43c9-aa13-d154967cf400"
   },
   "outputs": [
    {
     "data": {
      "text/plain": [
       "RangeIndex(start=0, stop=51, step=1)"
      ]
     },
     "execution_count": 420,
     "metadata": {},
     "output_type": "execute_result"
    }
   ],
   "source": [
    "df.index"
   ]
  },
  {
   "cell_type": "code",
   "execution_count": null,
   "id": "51038e9d",
   "metadata": {
    "id": "51038e9d"
   },
   "outputs": [],
   "source": [
    "df.values"
   ]
  },
  {
   "cell_type": "code",
   "execution_count": null,
   "id": "ff9464f3",
   "metadata": {
    "id": "ff9464f3",
    "outputId": "6c5470bc-84ac-4c00-f5dd-3c4a0945c593"
   },
   "outputs": [
    {
     "data": {
      "text/html": [
       "<div>\n",
       "<style scoped>\n",
       "    .dataframe tbody tr th:only-of-type {\n",
       "        vertical-align: middle;\n",
       "    }\n",
       "\n",
       "    .dataframe tbody tr th {\n",
       "        vertical-align: top;\n",
       "    }\n",
       "\n",
       "    .dataframe thead th {\n",
       "        text-align: right;\n",
       "    }\n",
       "</style>\n",
       "<table border=\"1\" class=\"dataframe\">\n",
       "  <thead>\n",
       "    <tr style=\"text-align: right;\">\n",
       "      <th></th>\n",
       "      <th>total</th>\n",
       "      <th>speeding</th>\n",
       "      <th>alcohol</th>\n",
       "      <th>not_distracted</th>\n",
       "      <th>no_previous</th>\n",
       "      <th>ins_premium</th>\n",
       "      <th>ins_losses</th>\n",
       "      <th>abbrev</th>\n",
       "    </tr>\n",
       "  </thead>\n",
       "  <tbody>\n",
       "    <tr>\n",
       "      <th>0</th>\n",
       "      <td>18.8</td>\n",
       "      <td>7.332</td>\n",
       "      <td>5.640</td>\n",
       "      <td>18.048</td>\n",
       "      <td>15.040</td>\n",
       "      <td>784.55</td>\n",
       "      <td>145.08</td>\n",
       "      <td>AL</td>\n",
       "    </tr>\n",
       "    <tr>\n",
       "      <th>1</th>\n",
       "      <td>18.1</td>\n",
       "      <td>7.421</td>\n",
       "      <td>4.525</td>\n",
       "      <td>16.290</td>\n",
       "      <td>17.014</td>\n",
       "      <td>1053.48</td>\n",
       "      <td>133.93</td>\n",
       "      <td>AK</td>\n",
       "    </tr>\n",
       "    <tr>\n",
       "      <th>2</th>\n",
       "      <td>18.6</td>\n",
       "      <td>6.510</td>\n",
       "      <td>5.208</td>\n",
       "      <td>15.624</td>\n",
       "      <td>17.856</td>\n",
       "      <td>899.47</td>\n",
       "      <td>110.35</td>\n",
       "      <td>AZ</td>\n",
       "    </tr>\n",
       "    <tr>\n",
       "      <th>3</th>\n",
       "      <td>22.4</td>\n",
       "      <td>4.032</td>\n",
       "      <td>5.824</td>\n",
       "      <td>21.056</td>\n",
       "      <td>21.280</td>\n",
       "      <td>827.34</td>\n",
       "      <td>142.39</td>\n",
       "      <td>AR</td>\n",
       "    </tr>\n",
       "    <tr>\n",
       "      <th>4</th>\n",
       "      <td>12.0</td>\n",
       "      <td>4.200</td>\n",
       "      <td>3.360</td>\n",
       "      <td>10.920</td>\n",
       "      <td>10.680</td>\n",
       "      <td>878.41</td>\n",
       "      <td>165.63</td>\n",
       "      <td>CA</td>\n",
       "    </tr>\n",
       "  </tbody>\n",
       "</table>\n",
       "</div>"
      ],
      "text/plain": [
       "   total  speeding  alcohol  not_distracted  no_previous  ins_premium  \\\n",
       "0   18.8     7.332    5.640          18.048       15.040       784.55   \n",
       "1   18.1     7.421    4.525          16.290       17.014      1053.48   \n",
       "2   18.6     6.510    5.208          15.624       17.856       899.47   \n",
       "3   22.4     4.032    5.824          21.056       21.280       827.34   \n",
       "4   12.0     4.200    3.360          10.920       10.680       878.41   \n",
       "\n",
       "   ins_losses abbrev  \n",
       "0      145.08     AL  \n",
       "1      133.93     AK  \n",
       "2      110.35     AZ  \n",
       "3      142.39     AR  \n",
       "4      165.63     CA  "
      ]
     },
     "execution_count": 423,
     "metadata": {},
     "output_type": "execute_result"
    }
   ],
   "source": [
    "df.head()"
   ]
  },
  {
   "cell_type": "code",
   "execution_count": null,
   "id": "cd927491",
   "metadata": {
    "colab": {
     "base_uri": "https://localhost:8080/",
     "height": 206
    },
    "executionInfo": {
     "elapsed": 281,
     "status": "ok",
     "timestamp": 1664652714860,
     "user": {
      "displayName": "Caner Gündüz",
      "userId": "16817770704696690817"
     },
     "user_tz": -180
    },
    "id": "cd927491",
    "outputId": "d42a4440-8ec8-46e0-f344-93207ac2a174"
   },
   "outputs": [
    {
     "data": {
      "text/html": [
       "\n",
       "  <div id=\"df-c34f1372-0556-4e43-bf3a-97789596e528\">\n",
       "    <div class=\"colab-df-container\">\n",
       "      <div>\n",
       "<style scoped>\n",
       "    .dataframe tbody tr th:only-of-type {\n",
       "        vertical-align: middle;\n",
       "    }\n",
       "\n",
       "    .dataframe tbody tr th {\n",
       "        vertical-align: top;\n",
       "    }\n",
       "\n",
       "    .dataframe thead th {\n",
       "        text-align: right;\n",
       "    }\n",
       "</style>\n",
       "<table border=\"1\" class=\"dataframe\">\n",
       "  <thead>\n",
       "    <tr style=\"text-align: right;\">\n",
       "      <th></th>\n",
       "      <th>alcohol</th>\n",
       "      <th>not_distracted</th>\n",
       "    </tr>\n",
       "  </thead>\n",
       "  <tbody>\n",
       "    <tr>\n",
       "      <th>0</th>\n",
       "      <td>5.640</td>\n",
       "      <td>18.048</td>\n",
       "    </tr>\n",
       "    <tr>\n",
       "      <th>1</th>\n",
       "      <td>4.525</td>\n",
       "      <td>16.290</td>\n",
       "    </tr>\n",
       "    <tr>\n",
       "      <th>2</th>\n",
       "      <td>5.208</td>\n",
       "      <td>15.624</td>\n",
       "    </tr>\n",
       "    <tr>\n",
       "      <th>3</th>\n",
       "      <td>5.824</td>\n",
       "      <td>21.056</td>\n",
       "    </tr>\n",
       "    <tr>\n",
       "      <th>4</th>\n",
       "      <td>3.360</td>\n",
       "      <td>10.920</td>\n",
       "    </tr>\n",
       "  </tbody>\n",
       "</table>\n",
       "</div>\n",
       "      <button class=\"colab-df-convert\" onclick=\"convertToInteractive('df-c34f1372-0556-4e43-bf3a-97789596e528')\"\n",
       "              title=\"Convert this dataframe to an interactive table.\"\n",
       "              style=\"display:none;\">\n",
       "        \n",
       "  <svg xmlns=\"http://www.w3.org/2000/svg\" height=\"24px\"viewBox=\"0 0 24 24\"\n",
       "       width=\"24px\">\n",
       "    <path d=\"M0 0h24v24H0V0z\" fill=\"none\"/>\n",
       "    <path d=\"M18.56 5.44l.94 2.06.94-2.06 2.06-.94-2.06-.94-.94-2.06-.94 2.06-2.06.94zm-11 1L8.5 8.5l.94-2.06 2.06-.94-2.06-.94L8.5 2.5l-.94 2.06-2.06.94zm10 10l.94 2.06.94-2.06 2.06-.94-2.06-.94-.94-2.06-.94 2.06-2.06.94z\"/><path d=\"M17.41 7.96l-1.37-1.37c-.4-.4-.92-.59-1.43-.59-.52 0-1.04.2-1.43.59L10.3 9.45l-7.72 7.72c-.78.78-.78 2.05 0 2.83L4 21.41c.39.39.9.59 1.41.59.51 0 1.02-.2 1.41-.59l7.78-7.78 2.81-2.81c.8-.78.8-2.07 0-2.86zM5.41 20L4 18.59l7.72-7.72 1.47 1.35L5.41 20z\"/>\n",
       "  </svg>\n",
       "      </button>\n",
       "      \n",
       "  <style>\n",
       "    .colab-df-container {\n",
       "      display:flex;\n",
       "      flex-wrap:wrap;\n",
       "      gap: 12px;\n",
       "    }\n",
       "\n",
       "    .colab-df-convert {\n",
       "      background-color: #E8F0FE;\n",
       "      border: none;\n",
       "      border-radius: 50%;\n",
       "      cursor: pointer;\n",
       "      display: none;\n",
       "      fill: #1967D2;\n",
       "      height: 32px;\n",
       "      padding: 0 0 0 0;\n",
       "      width: 32px;\n",
       "    }\n",
       "\n",
       "    .colab-df-convert:hover {\n",
       "      background-color: #E2EBFA;\n",
       "      box-shadow: 0px 1px 2px rgba(60, 64, 67, 0.3), 0px 1px 3px 1px rgba(60, 64, 67, 0.15);\n",
       "      fill: #174EA6;\n",
       "    }\n",
       "\n",
       "    [theme=dark] .colab-df-convert {\n",
       "      background-color: #3B4455;\n",
       "      fill: #D2E3FC;\n",
       "    }\n",
       "\n",
       "    [theme=dark] .colab-df-convert:hover {\n",
       "      background-color: #434B5C;\n",
       "      box-shadow: 0px 1px 3px 1px rgba(0, 0, 0, 0.15);\n",
       "      filter: drop-shadow(0px 1px 2px rgba(0, 0, 0, 0.3));\n",
       "      fill: #FFFFFF;\n",
       "    }\n",
       "  </style>\n",
       "\n",
       "      <script>\n",
       "        const buttonEl =\n",
       "          document.querySelector('#df-c34f1372-0556-4e43-bf3a-97789596e528 button.colab-df-convert');\n",
       "        buttonEl.style.display =\n",
       "          google.colab.kernel.accessAllowed ? 'block' : 'none';\n",
       "\n",
       "        async function convertToInteractive(key) {\n",
       "          const element = document.querySelector('#df-c34f1372-0556-4e43-bf3a-97789596e528');\n",
       "          const dataTable =\n",
       "            await google.colab.kernel.invokeFunction('convertToInteractive',\n",
       "                                                     [key], {});\n",
       "          if (!dataTable) return;\n",
       "\n",
       "          const docLinkHtml = 'Like what you see? Visit the ' +\n",
       "            '<a target=\"_blank\" href=https://colab.research.google.com/notebooks/data_table.ipynb>data table notebook</a>'\n",
       "            + ' to learn more about interactive tables.';\n",
       "          element.innerHTML = '';\n",
       "          dataTable['output_type'] = 'display_data';\n",
       "          await google.colab.output.renderOutput(dataTable, element);\n",
       "          const docLink = document.createElement('div');\n",
       "          docLink.innerHTML = docLinkHtml;\n",
       "          element.appendChild(docLink);\n",
       "        }\n",
       "      </script>\n",
       "    </div>\n",
       "  </div>\n",
       "  "
      ],
      "text/plain": [
       "   alcohol  not_distracted\n",
       "0    5.640          18.048\n",
       "1    4.525          16.290\n",
       "2    5.208          15.624\n",
       "3    5.824          21.056\n",
       "4    3.360          10.920"
      ]
     },
     "execution_count": 268,
     "metadata": {},
     "output_type": "execute_result"
    }
   ],
   "source": [
    "df[[\"alcohol\",\"not_distracted\"]].head()"
   ]
  },
  {
   "cell_type": "code",
   "execution_count": null,
   "id": "9fa9aba5",
   "metadata": {
    "id": "9fa9aba5",
    "outputId": "70ff57a7-487a-40f8-f3ea-cd0cdd1b9c2f"
   },
   "outputs": [
    {
     "data": {
      "text/html": [
       "<div>\n",
       "<style scoped>\n",
       "    .dataframe tbody tr th:only-of-type {\n",
       "        vertical-align: middle;\n",
       "    }\n",
       "\n",
       "    .dataframe tbody tr th {\n",
       "        vertical-align: top;\n",
       "    }\n",
       "\n",
       "    .dataframe thead th {\n",
       "        text-align: right;\n",
       "    }\n",
       "</style>\n",
       "<table border=\"1\" class=\"dataframe\">\n",
       "  <thead>\n",
       "    <tr style=\"text-align: right;\">\n",
       "      <th></th>\n",
       "      <th>total</th>\n",
       "      <th>speeding</th>\n",
       "      <th>alcohol</th>\n",
       "      <th>not_distracted</th>\n",
       "      <th>no_previous</th>\n",
       "      <th>ins_premium</th>\n",
       "      <th>ins_losses</th>\n",
       "      <th>abbrev</th>\n",
       "    </tr>\n",
       "  </thead>\n",
       "  <tbody>\n",
       "    <tr>\n",
       "      <th>0</th>\n",
       "      <td>18.8</td>\n",
       "      <td>7.332</td>\n",
       "      <td>5.640</td>\n",
       "      <td>18.048</td>\n",
       "      <td>15.040</td>\n",
       "      <td>784.55</td>\n",
       "      <td>145.08</td>\n",
       "      <td>AL</td>\n",
       "    </tr>\n",
       "    <tr>\n",
       "      <th>1</th>\n",
       "      <td>18.1</td>\n",
       "      <td>7.421</td>\n",
       "      <td>4.525</td>\n",
       "      <td>16.290</td>\n",
       "      <td>17.014</td>\n",
       "      <td>1053.48</td>\n",
       "      <td>133.93</td>\n",
       "      <td>AK</td>\n",
       "    </tr>\n",
       "    <tr>\n",
       "      <th>2</th>\n",
       "      <td>18.6</td>\n",
       "      <td>6.510</td>\n",
       "      <td>5.208</td>\n",
       "      <td>15.624</td>\n",
       "      <td>17.856</td>\n",
       "      <td>899.47</td>\n",
       "      <td>110.35</td>\n",
       "      <td>AZ</td>\n",
       "    </tr>\n",
       "    <tr>\n",
       "      <th>3</th>\n",
       "      <td>22.4</td>\n",
       "      <td>4.032</td>\n",
       "      <td>5.824</td>\n",
       "      <td>21.056</td>\n",
       "      <td>21.280</td>\n",
       "      <td>827.34</td>\n",
       "      <td>142.39</td>\n",
       "      <td>AR</td>\n",
       "    </tr>\n",
       "    <tr>\n",
       "      <th>4</th>\n",
       "      <td>12.0</td>\n",
       "      <td>4.200</td>\n",
       "      <td>3.360</td>\n",
       "      <td>10.920</td>\n",
       "      <td>10.680</td>\n",
       "      <td>878.41</td>\n",
       "      <td>165.63</td>\n",
       "      <td>CA</td>\n",
       "    </tr>\n",
       "  </tbody>\n",
       "</table>\n",
       "</div>"
      ],
      "text/plain": [
       "   total  speeding  alcohol  not_distracted  no_previous  ins_premium  \\\n",
       "0   18.8     7.332    5.640          18.048       15.040       784.55   \n",
       "1   18.1     7.421    4.525          16.290       17.014      1053.48   \n",
       "2   18.6     6.510    5.208          15.624       17.856       899.47   \n",
       "3   22.4     4.032    5.824          21.056       21.280       827.34   \n",
       "4   12.0     4.200    3.360          10.920       10.680       878.41   \n",
       "\n",
       "   ins_losses abbrev  \n",
       "0      145.08     AL  \n",
       "1      133.93     AK  \n",
       "2      110.35     AZ  \n",
       "3      142.39     AR  \n",
       "4      165.63     CA  "
      ]
     },
     "execution_count": 432,
     "metadata": {},
     "output_type": "execute_result"
    }
   ],
   "source": [
    "df.head()"
   ]
  },
  {
   "cell_type": "code",
   "execution_count": null,
   "id": "d771f962",
   "metadata": {
    "colab": {
     "base_uri": "https://localhost:8080/",
     "height": 143
    },
    "executionInfo": {
     "elapsed": 7,
     "status": "ok",
     "timestamp": 1664652737481,
     "user": {
      "displayName": "Caner Gündüz",
      "userId": "16817770704696690817"
     },
     "user_tz": -180
    },
    "id": "d771f962",
    "outputId": "54d7c886-6281-463b-d3e5-8d27e622bceb"
   },
   "outputs": [
    {
     "data": {
      "text/html": [
       "\n",
       "  <div id=\"df-fa938d90-1d04-454f-9313-db81d287c69f\">\n",
       "    <div class=\"colab-df-container\">\n",
       "      <div>\n",
       "<style scoped>\n",
       "    .dataframe tbody tr th:only-of-type {\n",
       "        vertical-align: middle;\n",
       "    }\n",
       "\n",
       "    .dataframe tbody tr th {\n",
       "        vertical-align: top;\n",
       "    }\n",
       "\n",
       "    .dataframe thead th {\n",
       "        text-align: right;\n",
       "    }\n",
       "</style>\n",
       "<table border=\"1\" class=\"dataframe\">\n",
       "  <thead>\n",
       "    <tr style=\"text-align: right;\">\n",
       "      <th></th>\n",
       "      <th>total</th>\n",
       "      <th>speeding</th>\n",
       "      <th>alcohol</th>\n",
       "      <th>not_distracted</th>\n",
       "      <th>no_previous</th>\n",
       "      <th>ins_premium</th>\n",
       "      <th>ins_losses</th>\n",
       "      <th>abbrev</th>\n",
       "    </tr>\n",
       "  </thead>\n",
       "  <tbody>\n",
       "    <tr>\n",
       "      <th>30</th>\n",
       "      <td>11.2</td>\n",
       "      <td>1.792</td>\n",
       "      <td>3.136</td>\n",
       "      <td>9.632</td>\n",
       "      <td>8.736</td>\n",
       "      <td>1301.52</td>\n",
       "      <td>159.85</td>\n",
       "      <td>NJ</td>\n",
       "    </tr>\n",
       "    <tr>\n",
       "      <th>31</th>\n",
       "      <td>18.4</td>\n",
       "      <td>3.496</td>\n",
       "      <td>4.968</td>\n",
       "      <td>12.328</td>\n",
       "      <td>18.032</td>\n",
       "      <td>869.85</td>\n",
       "      <td>120.75</td>\n",
       "      <td>NM</td>\n",
       "    </tr>\n",
       "    <tr>\n",
       "      <th>32</th>\n",
       "      <td>12.3</td>\n",
       "      <td>3.936</td>\n",
       "      <td>3.567</td>\n",
       "      <td>10.824</td>\n",
       "      <td>9.840</td>\n",
       "      <td>1234.31</td>\n",
       "      <td>150.01</td>\n",
       "      <td>NY</td>\n",
       "    </tr>\n",
       "  </tbody>\n",
       "</table>\n",
       "</div>\n",
       "      <button class=\"colab-df-convert\" onclick=\"convertToInteractive('df-fa938d90-1d04-454f-9313-db81d287c69f')\"\n",
       "              title=\"Convert this dataframe to an interactive table.\"\n",
       "              style=\"display:none;\">\n",
       "        \n",
       "  <svg xmlns=\"http://www.w3.org/2000/svg\" height=\"24px\"viewBox=\"0 0 24 24\"\n",
       "       width=\"24px\">\n",
       "    <path d=\"M0 0h24v24H0V0z\" fill=\"none\"/>\n",
       "    <path d=\"M18.56 5.44l.94 2.06.94-2.06 2.06-.94-2.06-.94-.94-2.06-.94 2.06-2.06.94zm-11 1L8.5 8.5l.94-2.06 2.06-.94-2.06-.94L8.5 2.5l-.94 2.06-2.06.94zm10 10l.94 2.06.94-2.06 2.06-.94-2.06-.94-.94-2.06-.94 2.06-2.06.94z\"/><path d=\"M17.41 7.96l-1.37-1.37c-.4-.4-.92-.59-1.43-.59-.52 0-1.04.2-1.43.59L10.3 9.45l-7.72 7.72c-.78.78-.78 2.05 0 2.83L4 21.41c.39.39.9.59 1.41.59.51 0 1.02-.2 1.41-.59l7.78-7.78 2.81-2.81c.8-.78.8-2.07 0-2.86zM5.41 20L4 18.59l7.72-7.72 1.47 1.35L5.41 20z\"/>\n",
       "  </svg>\n",
       "      </button>\n",
       "      \n",
       "  <style>\n",
       "    .colab-df-container {\n",
       "      display:flex;\n",
       "      flex-wrap:wrap;\n",
       "      gap: 12px;\n",
       "    }\n",
       "\n",
       "    .colab-df-convert {\n",
       "      background-color: #E8F0FE;\n",
       "      border: none;\n",
       "      border-radius: 50%;\n",
       "      cursor: pointer;\n",
       "      display: none;\n",
       "      fill: #1967D2;\n",
       "      height: 32px;\n",
       "      padding: 0 0 0 0;\n",
       "      width: 32px;\n",
       "    }\n",
       "\n",
       "    .colab-df-convert:hover {\n",
       "      background-color: #E2EBFA;\n",
       "      box-shadow: 0px 1px 2px rgba(60, 64, 67, 0.3), 0px 1px 3px 1px rgba(60, 64, 67, 0.15);\n",
       "      fill: #174EA6;\n",
       "    }\n",
       "\n",
       "    [theme=dark] .colab-df-convert {\n",
       "      background-color: #3B4455;\n",
       "      fill: #D2E3FC;\n",
       "    }\n",
       "\n",
       "    [theme=dark] .colab-df-convert:hover {\n",
       "      background-color: #434B5C;\n",
       "      box-shadow: 0px 1px 3px 1px rgba(0, 0, 0, 0.15);\n",
       "      filter: drop-shadow(0px 1px 2px rgba(0, 0, 0, 0.3));\n",
       "      fill: #FFFFFF;\n",
       "    }\n",
       "  </style>\n",
       "\n",
       "      <script>\n",
       "        const buttonEl =\n",
       "          document.querySelector('#df-fa938d90-1d04-454f-9313-db81d287c69f button.colab-df-convert');\n",
       "        buttonEl.style.display =\n",
       "          google.colab.kernel.accessAllowed ? 'block' : 'none';\n",
       "\n",
       "        async function convertToInteractive(key) {\n",
       "          const element = document.querySelector('#df-fa938d90-1d04-454f-9313-db81d287c69f');\n",
       "          const dataTable =\n",
       "            await google.colab.kernel.invokeFunction('convertToInteractive',\n",
       "                                                     [key], {});\n",
       "          if (!dataTable) return;\n",
       "\n",
       "          const docLinkHtml = 'Like what you see? Visit the ' +\n",
       "            '<a target=\"_blank\" href=https://colab.research.google.com/notebooks/data_table.ipynb>data table notebook</a>'\n",
       "            + ' to learn more about interactive tables.';\n",
       "          element.innerHTML = '';\n",
       "          dataTable['output_type'] = 'display_data';\n",
       "          await google.colab.output.renderOutput(dataTable, element);\n",
       "          const docLink = document.createElement('div');\n",
       "          docLink.innerHTML = docLinkHtml;\n",
       "          element.appendChild(docLink);\n",
       "        }\n",
       "      </script>\n",
       "    </div>\n",
       "  </div>\n",
       "  "
      ],
      "text/plain": [
       "    total  speeding  alcohol  not_distracted  no_previous  ins_premium  \\\n",
       "30   11.2     1.792    3.136           9.632        8.736      1301.52   \n",
       "31   18.4     3.496    4.968          12.328       18.032       869.85   \n",
       "32   12.3     3.936    3.567          10.824        9.840      1234.31   \n",
       "\n",
       "    ins_losses abbrev  \n",
       "30      159.85     NJ  \n",
       "31      120.75     NM  \n",
       "32      150.01     NY  "
      ]
     },
     "execution_count": 269,
     "metadata": {},
     "output_type": "execute_result"
    }
   ],
   "source": [
    "df.iloc[30:33]"
   ]
  },
  {
   "cell_type": "code",
   "execution_count": null,
   "id": "48fb98f2",
   "metadata": {
    "id": "48fb98f2",
    "outputId": "b6abc314-08d4-4b51-8fd6-787ee7d1dc04"
   },
   "outputs": [
    {
     "data": {
      "text/html": [
       "<div>\n",
       "<style scoped>\n",
       "    .dataframe tbody tr th:only-of-type {\n",
       "        vertical-align: middle;\n",
       "    }\n",
       "\n",
       "    .dataframe tbody tr th {\n",
       "        vertical-align: top;\n",
       "    }\n",
       "\n",
       "    .dataframe thead th {\n",
       "        text-align: right;\n",
       "    }\n",
       "</style>\n",
       "<table border=\"1\" class=\"dataframe\">\n",
       "  <thead>\n",
       "    <tr style=\"text-align: right;\">\n",
       "      <th></th>\n",
       "      <th>not_distracted</th>\n",
       "      <th>alcohol</th>\n",
       "    </tr>\n",
       "  </thead>\n",
       "  <tbody>\n",
       "    <tr>\n",
       "      <th>0</th>\n",
       "      <td>18.048</td>\n",
       "      <td>5.640</td>\n",
       "    </tr>\n",
       "    <tr>\n",
       "      <th>1</th>\n",
       "      <td>16.290</td>\n",
       "      <td>4.525</td>\n",
       "    </tr>\n",
       "    <tr>\n",
       "      <th>2</th>\n",
       "      <td>15.624</td>\n",
       "      <td>5.208</td>\n",
       "    </tr>\n",
       "  </tbody>\n",
       "</table>\n",
       "</div>"
      ],
      "text/plain": [
       "   not_distracted  alcohol\n",
       "0          18.048    5.640\n",
       "1          16.290    4.525\n",
       "2          15.624    5.208"
      ]
     },
     "execution_count": 437,
     "metadata": {},
     "output_type": "execute_result"
    }
   ],
   "source": [
    "df.iloc[0:3][[\"not_distracted\",\"alcohol\"]] #Tavsiye edilen format !!!!"
   ]
  },
  {
   "cell_type": "code",
   "execution_count": null,
   "id": "01cea98f",
   "metadata": {
    "id": "01cea98f",
    "outputId": "94b81161-5b2c-4902-88b6-519071b15412"
   },
   "outputs": [
    {
     "data": {
      "text/html": [
       "<div>\n",
       "<style scoped>\n",
       "    .dataframe tbody tr th:only-of-type {\n",
       "        vertical-align: middle;\n",
       "    }\n",
       "\n",
       "    .dataframe tbody tr th {\n",
       "        vertical-align: top;\n",
       "    }\n",
       "\n",
       "    .dataframe thead th {\n",
       "        text-align: right;\n",
       "    }\n",
       "</style>\n",
       "<table border=\"1\" class=\"dataframe\">\n",
       "  <thead>\n",
       "    <tr style=\"text-align: right;\">\n",
       "      <th></th>\n",
       "      <th>not_distracted</th>\n",
       "      <th>abbrev</th>\n",
       "    </tr>\n",
       "  </thead>\n",
       "  <tbody>\n",
       "    <tr>\n",
       "      <th>2</th>\n",
       "      <td>15.624</td>\n",
       "      <td>AZ</td>\n",
       "    </tr>\n",
       "    <tr>\n",
       "      <th>3</th>\n",
       "      <td>21.056</td>\n",
       "      <td>AR</td>\n",
       "    </tr>\n",
       "    <tr>\n",
       "      <th>4</th>\n",
       "      <td>10.920</td>\n",
       "      <td>CA</td>\n",
       "    </tr>\n",
       "    <tr>\n",
       "      <th>5</th>\n",
       "      <td>10.744</td>\n",
       "      <td>CO</td>\n",
       "    </tr>\n",
       "    <tr>\n",
       "      <th>6</th>\n",
       "      <td>9.396</td>\n",
       "      <td>CT</td>\n",
       "    </tr>\n",
       "    <tr>\n",
       "      <th>7</th>\n",
       "      <td>14.094</td>\n",
       "      <td>DE</td>\n",
       "    </tr>\n",
       "    <tr>\n",
       "      <th>8</th>\n",
       "      <td>5.900</td>\n",
       "      <td>DC</td>\n",
       "    </tr>\n",
       "    <tr>\n",
       "      <th>9</th>\n",
       "      <td>16.468</td>\n",
       "      <td>FL</td>\n",
       "    </tr>\n",
       "    <tr>\n",
       "      <th>10</th>\n",
       "      <td>14.820</td>\n",
       "      <td>GA</td>\n",
       "    </tr>\n",
       "    <tr>\n",
       "      <th>11</th>\n",
       "      <td>14.350</td>\n",
       "      <td>HI</td>\n",
       "    </tr>\n",
       "  </tbody>\n",
       "</table>\n",
       "</div>"
      ],
      "text/plain": [
       "    not_distracted abbrev\n",
       "2           15.624     AZ\n",
       "3           21.056     AR\n",
       "4           10.920     CA\n",
       "5           10.744     CO\n",
       "6            9.396     CT\n",
       "7           14.094     DE\n",
       "8            5.900     DC\n",
       "9           16.468     FL\n",
       "10          14.820     GA\n",
       "11          14.350     HI"
      ]
     },
     "execution_count": 439,
     "metadata": {},
     "output_type": "execute_result"
    }
   ],
   "source": [
    "df.iloc[2:12][[\"not_distracted\",\"abbrev\"]]"
   ]
  },
  {
   "cell_type": "code",
   "execution_count": null,
   "id": "aa502529",
   "metadata": {
    "id": "aa502529",
    "outputId": "dfaa8b03-297f-4877-d556-7c95db062a1a"
   },
   "outputs": [
    {
     "data": {
      "text/plain": [
       "18.8"
      ]
     },
     "execution_count": 436,
     "metadata": {},
     "output_type": "execute_result"
    }
   ],
   "source": [
    "df.iloc[0,0]"
   ]
  },
  {
   "cell_type": "code",
   "execution_count": null,
   "id": "a8c244d6",
   "metadata": {
    "id": "a8c244d6",
    "outputId": "8faa229e-9044-42b1-dfa7-aabc76a459df"
   },
   "outputs": [
    {
     "data": {
      "text/html": [
       "<div>\n",
       "<style scoped>\n",
       "    .dataframe tbody tr th:only-of-type {\n",
       "        vertical-align: middle;\n",
       "    }\n",
       "\n",
       "    .dataframe tbody tr th {\n",
       "        vertical-align: top;\n",
       "    }\n",
       "\n",
       "    .dataframe thead th {\n",
       "        text-align: right;\n",
       "    }\n",
       "</style>\n",
       "<table border=\"1\" class=\"dataframe\">\n",
       "  <thead>\n",
       "    <tr style=\"text-align: right;\">\n",
       "      <th></th>\n",
       "      <th>total</th>\n",
       "      <th>speeding</th>\n",
       "      <th>alcohol</th>\n",
       "      <th>not_distracted</th>\n",
       "      <th>no_previous</th>\n",
       "      <th>ins_premium</th>\n",
       "      <th>ins_losses</th>\n",
       "      <th>abbrev</th>\n",
       "    </tr>\n",
       "  </thead>\n",
       "  <tbody>\n",
       "    <tr>\n",
       "      <th>0</th>\n",
       "      <td>18.8</td>\n",
       "      <td>7.332</td>\n",
       "      <td>5.640</td>\n",
       "      <td>18.048</td>\n",
       "      <td>15.040</td>\n",
       "      <td>784.55</td>\n",
       "      <td>145.08</td>\n",
       "      <td>AL</td>\n",
       "    </tr>\n",
       "    <tr>\n",
       "      <th>1</th>\n",
       "      <td>18.1</td>\n",
       "      <td>7.421</td>\n",
       "      <td>4.525</td>\n",
       "      <td>16.290</td>\n",
       "      <td>17.014</td>\n",
       "      <td>1053.48</td>\n",
       "      <td>133.93</td>\n",
       "      <td>AK</td>\n",
       "    </tr>\n",
       "    <tr>\n",
       "      <th>2</th>\n",
       "      <td>18.6</td>\n",
       "      <td>6.510</td>\n",
       "      <td>5.208</td>\n",
       "      <td>15.624</td>\n",
       "      <td>17.856</td>\n",
       "      <td>899.47</td>\n",
       "      <td>110.35</td>\n",
       "      <td>AZ</td>\n",
       "    </tr>\n",
       "    <tr>\n",
       "      <th>3</th>\n",
       "      <td>22.4</td>\n",
       "      <td>4.032</td>\n",
       "      <td>5.824</td>\n",
       "      <td>21.056</td>\n",
       "      <td>21.280</td>\n",
       "      <td>827.34</td>\n",
       "      <td>142.39</td>\n",
       "      <td>AR</td>\n",
       "    </tr>\n",
       "  </tbody>\n",
       "</table>\n",
       "</div>"
      ],
      "text/plain": [
       "   total  speeding  alcohol  not_distracted  no_previous  ins_premium  \\\n",
       "0   18.8     7.332    5.640          18.048       15.040       784.55   \n",
       "1   18.1     7.421    4.525          16.290       17.014      1053.48   \n",
       "2   18.6     6.510    5.208          15.624       17.856       899.47   \n",
       "3   22.4     4.032    5.824          21.056       21.280       827.34   \n",
       "\n",
       "   ins_losses abbrev  \n",
       "0      145.08     AL  \n",
       "1      133.93     AK  \n",
       "2      110.35     AZ  \n",
       "3      142.39     AR  "
      ]
     },
     "execution_count": 225,
     "metadata": {},
     "output_type": "execute_result"
    }
   ],
   "source": [
    "df.loc[0:3]"
   ]
  },
  {
   "cell_type": "code",
   "execution_count": null,
   "id": "cef4e43e",
   "metadata": {
    "id": "cef4e43e",
    "outputId": "ed63ed64-9cae-472d-d0f7-cef2eb12560c"
   },
   "outputs": [
    {
     "data": {
      "text/plain": [
       "0    7.332\n",
       "1    7.421\n",
       "2    6.510\n",
       "3    4.032\n",
       "Name: speeding, dtype: float64"
      ]
     },
     "execution_count": 226,
     "metadata": {},
     "output_type": "execute_result"
    }
   ],
   "source": [
    "df.loc[0:3,\"speeding\"]"
   ]
  },
  {
   "cell_type": "code",
   "execution_count": null,
   "id": "1ee11b0a",
   "metadata": {
    "id": "1ee11b0a",
    "outputId": "b49a2ea1-6128-4b4a-fc74-e927c8a360a5"
   },
   "outputs": [
    {
     "data": {
      "text/html": [
       "<div>\n",
       "<style scoped>\n",
       "    .dataframe tbody tr th:only-of-type {\n",
       "        vertical-align: middle;\n",
       "    }\n",
       "\n",
       "    .dataframe tbody tr th {\n",
       "        vertical-align: top;\n",
       "    }\n",
       "\n",
       "    .dataframe thead th {\n",
       "        text-align: right;\n",
       "    }\n",
       "</style>\n",
       "<table border=\"1\" class=\"dataframe\">\n",
       "  <thead>\n",
       "    <tr style=\"text-align: right;\">\n",
       "      <th></th>\n",
       "      <th>speeding</th>\n",
       "      <th>alcohol</th>\n",
       "    </tr>\n",
       "  </thead>\n",
       "  <tbody>\n",
       "    <tr>\n",
       "      <th>0</th>\n",
       "      <td>7.332</td>\n",
       "      <td>5.640</td>\n",
       "    </tr>\n",
       "    <tr>\n",
       "      <th>1</th>\n",
       "      <td>7.421</td>\n",
       "      <td>4.525</td>\n",
       "    </tr>\n",
       "    <tr>\n",
       "      <th>2</th>\n",
       "      <td>6.510</td>\n",
       "      <td>5.208</td>\n",
       "    </tr>\n",
       "    <tr>\n",
       "      <th>3</th>\n",
       "      <td>4.032</td>\n",
       "      <td>5.824</td>\n",
       "    </tr>\n",
       "  </tbody>\n",
       "</table>\n",
       "</div>"
      ],
      "text/plain": [
       "   speeding  alcohol\n",
       "0     7.332    5.640\n",
       "1     7.421    4.525\n",
       "2     6.510    5.208\n",
       "3     4.032    5.824"
      ]
     },
     "execution_count": 227,
     "metadata": {},
     "output_type": "execute_result"
    }
   ],
   "source": [
    "df.loc[0:3,[\"speeding\", \"alcohol\"]]"
   ]
  },
  {
   "cell_type": "code",
   "execution_count": null,
   "id": "d6d99d9e",
   "metadata": {
    "id": "d6d99d9e",
    "outputId": "3f2ca091-b4f3-438d-d2e4-bf13ba974b45"
   },
   "outputs": [
    {
     "data": {
      "text/html": [
       "<div>\n",
       "<style scoped>\n",
       "    .dataframe tbody tr th:only-of-type {\n",
       "        vertical-align: middle;\n",
       "    }\n",
       "\n",
       "    .dataframe tbody tr th {\n",
       "        vertical-align: top;\n",
       "    }\n",
       "\n",
       "    .dataframe thead th {\n",
       "        text-align: right;\n",
       "    }\n",
       "</style>\n",
       "<table border=\"1\" class=\"dataframe\">\n",
       "  <thead>\n",
       "    <tr style=\"text-align: right;\">\n",
       "      <th></th>\n",
       "      <th>total</th>\n",
       "      <th>speeding</th>\n",
       "      <th>alcohol</th>\n",
       "      <th>not_distracted</th>\n",
       "      <th>no_previous</th>\n",
       "      <th>ins_premium</th>\n",
       "      <th>ins_losses</th>\n",
       "      <th>abbrev</th>\n",
       "    </tr>\n",
       "  </thead>\n",
       "  <tbody>\n",
       "    <tr>\n",
       "      <th>0</th>\n",
       "      <td>18.8</td>\n",
       "      <td>7.332</td>\n",
       "      <td>5.640</td>\n",
       "      <td>18.048</td>\n",
       "      <td>15.040</td>\n",
       "      <td>784.55</td>\n",
       "      <td>145.08</td>\n",
       "      <td>AL</td>\n",
       "    </tr>\n",
       "    <tr>\n",
       "      <th>1</th>\n",
       "      <td>18.1</td>\n",
       "      <td>7.421</td>\n",
       "      <td>4.525</td>\n",
       "      <td>16.290</td>\n",
       "      <td>17.014</td>\n",
       "      <td>1053.48</td>\n",
       "      <td>133.93</td>\n",
       "      <td>AK</td>\n",
       "    </tr>\n",
       "    <tr>\n",
       "      <th>2</th>\n",
       "      <td>18.6</td>\n",
       "      <td>6.510</td>\n",
       "      <td>5.208</td>\n",
       "      <td>15.624</td>\n",
       "      <td>17.856</td>\n",
       "      <td>899.47</td>\n",
       "      <td>110.35</td>\n",
       "      <td>AZ</td>\n",
       "    </tr>\n",
       "    <tr>\n",
       "      <th>3</th>\n",
       "      <td>22.4</td>\n",
       "      <td>4.032</td>\n",
       "      <td>5.824</td>\n",
       "      <td>21.056</td>\n",
       "      <td>21.280</td>\n",
       "      <td>827.34</td>\n",
       "      <td>142.39</td>\n",
       "      <td>AR</td>\n",
       "    </tr>\n",
       "    <tr>\n",
       "      <th>4</th>\n",
       "      <td>12.0</td>\n",
       "      <td>4.200</td>\n",
       "      <td>3.360</td>\n",
       "      <td>10.920</td>\n",
       "      <td>10.680</td>\n",
       "      <td>878.41</td>\n",
       "      <td>165.63</td>\n",
       "      <td>CA</td>\n",
       "    </tr>\n",
       "  </tbody>\n",
       "</table>\n",
       "</div>"
      ],
      "text/plain": [
       "   total  speeding  alcohol  not_distracted  no_previous  ins_premium  \\\n",
       "0   18.8     7.332    5.640          18.048       15.040       784.55   \n",
       "1   18.1     7.421    4.525          16.290       17.014      1053.48   \n",
       "2   18.6     6.510    5.208          15.624       17.856       899.47   \n",
       "3   22.4     4.032    5.824          21.056       21.280       827.34   \n",
       "4   12.0     4.200    3.360          10.920       10.680       878.41   \n",
       "\n",
       "   ins_losses abbrev  \n",
       "0      145.08     AL  \n",
       "1      133.93     AK  \n",
       "2      110.35     AZ  \n",
       "3      142.39     AR  \n",
       "4      165.63     CA  "
      ]
     },
     "execution_count": 444,
     "metadata": {},
     "output_type": "execute_result"
    }
   ],
   "source": [
    "df.head()"
   ]
  },
  {
   "cell_type": "code",
   "execution_count": null,
   "id": "3e1a472d",
   "metadata": {
    "id": "3e1a472d"
   },
   "outputs": [],
   "source": [
    "#absa<3"
   ]
  },
  {
   "cell_type": "code",
   "execution_count": null,
   "id": "3180acc5",
   "metadata": {
    "id": "3180acc5"
   },
   "outputs": [],
   "source": [
    "#a[a<3]"
   ]
  },
  {
   "cell_type": "code",
   "execution_count": null,
   "id": "345426af",
   "metadata": {
    "id": "345426af",
    "outputId": "7408f64c-492a-4e8c-dfc5-cdbe00dd29b2"
   },
   "outputs": [
    {
     "data": {
      "text/plain": [
       "0      True\n",
       "1      True\n",
       "2      True\n",
       "3     False\n",
       "4     False\n",
       "5      True\n",
       "6     False\n",
       "7      True\n",
       "8     False\n",
       "9     False\n",
       "10    False\n",
       "11     True\n",
       "12     True\n",
       "13    False\n",
       "14    False\n",
       "15    False\n",
       "16    False\n",
       "17    False\n",
       "18     True\n",
       "19     True\n",
       "20    False\n",
       "21    False\n",
       "22    False\n",
       "23    False\n",
       "24    False\n",
       "25     True\n",
       "26     True\n",
       "27    False\n",
       "28     True\n",
       "29    False\n",
       "30    False\n",
       "31    False\n",
       "32    False\n",
       "33     True\n",
       "34     True\n",
       "35    False\n",
       "36     True\n",
       "37    False\n",
       "38     True\n",
       "39    False\n",
       "40     True\n",
       "41     True\n",
       "42    False\n",
       "43     True\n",
       "44    False\n",
       "45    False\n",
       "46    False\n",
       "47    False\n",
       "48     True\n",
       "49    False\n",
       "50     True\n",
       "Name: speeding, dtype: bool"
      ]
     },
     "execution_count": 441,
     "metadata": {},
     "output_type": "execute_result"
    }
   ],
   "source": [
    "df[\"speeding\"]>5"
   ]
  },
  {
   "cell_type": "code",
   "execution_count": null,
   "id": "8a4765d1",
   "metadata": {
    "id": "8a4765d1",
    "outputId": "cc768705-bff4-458b-e0de-934463352b06"
   },
   "outputs": [
    {
     "data": {
      "text/html": [
       "<div>\n",
       "<style scoped>\n",
       "    .dataframe tbody tr th:only-of-type {\n",
       "        vertical-align: middle;\n",
       "    }\n",
       "\n",
       "    .dataframe tbody tr th {\n",
       "        vertical-align: top;\n",
       "    }\n",
       "\n",
       "    .dataframe thead th {\n",
       "        text-align: right;\n",
       "    }\n",
       "</style>\n",
       "<table border=\"1\" class=\"dataframe\">\n",
       "  <thead>\n",
       "    <tr style=\"text-align: right;\">\n",
       "      <th></th>\n",
       "      <th>total</th>\n",
       "      <th>speeding</th>\n",
       "      <th>alcohol</th>\n",
       "      <th>not_distracted</th>\n",
       "      <th>no_previous</th>\n",
       "      <th>ins_premium</th>\n",
       "      <th>ins_losses</th>\n",
       "      <th>abbrev</th>\n",
       "    </tr>\n",
       "  </thead>\n",
       "  <tbody>\n",
       "    <tr>\n",
       "      <th>0</th>\n",
       "      <td>18.8</td>\n",
       "      <td>7.332</td>\n",
       "      <td>5.640</td>\n",
       "      <td>18.048</td>\n",
       "      <td>15.040</td>\n",
       "      <td>784.55</td>\n",
       "      <td>145.08</td>\n",
       "      <td>AL</td>\n",
       "    </tr>\n",
       "    <tr>\n",
       "      <th>1</th>\n",
       "      <td>18.1</td>\n",
       "      <td>7.421</td>\n",
       "      <td>4.525</td>\n",
       "      <td>16.290</td>\n",
       "      <td>17.014</td>\n",
       "      <td>1053.48</td>\n",
       "      <td>133.93</td>\n",
       "      <td>AK</td>\n",
       "    </tr>\n",
       "    <tr>\n",
       "      <th>2</th>\n",
       "      <td>18.6</td>\n",
       "      <td>6.510</td>\n",
       "      <td>5.208</td>\n",
       "      <td>15.624</td>\n",
       "      <td>17.856</td>\n",
       "      <td>899.47</td>\n",
       "      <td>110.35</td>\n",
       "      <td>AZ</td>\n",
       "    </tr>\n",
       "    <tr>\n",
       "      <th>5</th>\n",
       "      <td>13.6</td>\n",
       "      <td>5.032</td>\n",
       "      <td>3.808</td>\n",
       "      <td>10.744</td>\n",
       "      <td>12.920</td>\n",
       "      <td>835.50</td>\n",
       "      <td>139.91</td>\n",
       "      <td>CO</td>\n",
       "    </tr>\n",
       "    <tr>\n",
       "      <th>7</th>\n",
       "      <td>16.2</td>\n",
       "      <td>6.156</td>\n",
       "      <td>4.860</td>\n",
       "      <td>14.094</td>\n",
       "      <td>16.038</td>\n",
       "      <td>1137.87</td>\n",
       "      <td>151.48</td>\n",
       "      <td>DE</td>\n",
       "    </tr>\n",
       "    <tr>\n",
       "      <th>11</th>\n",
       "      <td>17.5</td>\n",
       "      <td>9.450</td>\n",
       "      <td>7.175</td>\n",
       "      <td>14.350</td>\n",
       "      <td>15.225</td>\n",
       "      <td>861.18</td>\n",
       "      <td>120.92</td>\n",
       "      <td>HI</td>\n",
       "    </tr>\n",
       "    <tr>\n",
       "      <th>12</th>\n",
       "      <td>15.3</td>\n",
       "      <td>5.508</td>\n",
       "      <td>4.437</td>\n",
       "      <td>13.005</td>\n",
       "      <td>14.994</td>\n",
       "      <td>641.96</td>\n",
       "      <td>82.75</td>\n",
       "      <td>ID</td>\n",
       "    </tr>\n",
       "    <tr>\n",
       "      <th>18</th>\n",
       "      <td>20.5</td>\n",
       "      <td>7.175</td>\n",
       "      <td>6.765</td>\n",
       "      <td>14.965</td>\n",
       "      <td>20.090</td>\n",
       "      <td>1281.55</td>\n",
       "      <td>194.78</td>\n",
       "      <td>LA</td>\n",
       "    </tr>\n",
       "    <tr>\n",
       "      <th>19</th>\n",
       "      <td>15.1</td>\n",
       "      <td>5.738</td>\n",
       "      <td>4.530</td>\n",
       "      <td>13.137</td>\n",
       "      <td>12.684</td>\n",
       "      <td>661.88</td>\n",
       "      <td>96.57</td>\n",
       "      <td>ME</td>\n",
       "    </tr>\n",
       "    <tr>\n",
       "      <th>25</th>\n",
       "      <td>16.1</td>\n",
       "      <td>6.923</td>\n",
       "      <td>5.474</td>\n",
       "      <td>14.812</td>\n",
       "      <td>13.524</td>\n",
       "      <td>790.32</td>\n",
       "      <td>144.45</td>\n",
       "      <td>MO</td>\n",
       "    </tr>\n",
       "    <tr>\n",
       "      <th>26</th>\n",
       "      <td>21.4</td>\n",
       "      <td>8.346</td>\n",
       "      <td>9.416</td>\n",
       "      <td>17.976</td>\n",
       "      <td>18.190</td>\n",
       "      <td>816.21</td>\n",
       "      <td>85.15</td>\n",
       "      <td>MT</td>\n",
       "    </tr>\n",
       "    <tr>\n",
       "      <th>28</th>\n",
       "      <td>14.7</td>\n",
       "      <td>5.439</td>\n",
       "      <td>4.704</td>\n",
       "      <td>13.965</td>\n",
       "      <td>14.553</td>\n",
       "      <td>1029.87</td>\n",
       "      <td>138.71</td>\n",
       "      <td>NV</td>\n",
       "    </tr>\n",
       "    <tr>\n",
       "      <th>33</th>\n",
       "      <td>16.8</td>\n",
       "      <td>6.552</td>\n",
       "      <td>5.208</td>\n",
       "      <td>15.792</td>\n",
       "      <td>13.608</td>\n",
       "      <td>708.24</td>\n",
       "      <td>127.82</td>\n",
       "      <td>NC</td>\n",
       "    </tr>\n",
       "    <tr>\n",
       "      <th>34</th>\n",
       "      <td>23.9</td>\n",
       "      <td>5.497</td>\n",
       "      <td>10.038</td>\n",
       "      <td>23.661</td>\n",
       "      <td>20.554</td>\n",
       "      <td>688.75</td>\n",
       "      <td>109.72</td>\n",
       "      <td>ND</td>\n",
       "    </tr>\n",
       "    <tr>\n",
       "      <th>36</th>\n",
       "      <td>19.9</td>\n",
       "      <td>6.368</td>\n",
       "      <td>5.771</td>\n",
       "      <td>18.308</td>\n",
       "      <td>18.706</td>\n",
       "      <td>881.51</td>\n",
       "      <td>178.86</td>\n",
       "      <td>OK</td>\n",
       "    </tr>\n",
       "    <tr>\n",
       "      <th>38</th>\n",
       "      <td>18.2</td>\n",
       "      <td>9.100</td>\n",
       "      <td>5.642</td>\n",
       "      <td>17.472</td>\n",
       "      <td>16.016</td>\n",
       "      <td>905.99</td>\n",
       "      <td>153.86</td>\n",
       "      <td>PA</td>\n",
       "    </tr>\n",
       "    <tr>\n",
       "      <th>40</th>\n",
       "      <td>23.9</td>\n",
       "      <td>9.082</td>\n",
       "      <td>9.799</td>\n",
       "      <td>22.944</td>\n",
       "      <td>19.359</td>\n",
       "      <td>858.97</td>\n",
       "      <td>116.29</td>\n",
       "      <td>SC</td>\n",
       "    </tr>\n",
       "    <tr>\n",
       "      <th>41</th>\n",
       "      <td>19.4</td>\n",
       "      <td>6.014</td>\n",
       "      <td>6.402</td>\n",
       "      <td>19.012</td>\n",
       "      <td>16.684</td>\n",
       "      <td>669.31</td>\n",
       "      <td>96.87</td>\n",
       "      <td>SD</td>\n",
       "    </tr>\n",
       "    <tr>\n",
       "      <th>43</th>\n",
       "      <td>19.4</td>\n",
       "      <td>7.760</td>\n",
       "      <td>7.372</td>\n",
       "      <td>17.654</td>\n",
       "      <td>16.878</td>\n",
       "      <td>1004.75</td>\n",
       "      <td>156.83</td>\n",
       "      <td>TX</td>\n",
       "    </tr>\n",
       "    <tr>\n",
       "      <th>48</th>\n",
       "      <td>23.8</td>\n",
       "      <td>8.092</td>\n",
       "      <td>6.664</td>\n",
       "      <td>23.086</td>\n",
       "      <td>20.706</td>\n",
       "      <td>992.61</td>\n",
       "      <td>152.56</td>\n",
       "      <td>WV</td>\n",
       "    </tr>\n",
       "    <tr>\n",
       "      <th>50</th>\n",
       "      <td>17.4</td>\n",
       "      <td>7.308</td>\n",
       "      <td>5.568</td>\n",
       "      <td>14.094</td>\n",
       "      <td>15.660</td>\n",
       "      <td>791.14</td>\n",
       "      <td>122.04</td>\n",
       "      <td>WY</td>\n",
       "    </tr>\n",
       "  </tbody>\n",
       "</table>\n",
       "</div>"
      ],
      "text/plain": [
       "    total  speeding  alcohol  not_distracted  no_previous  ins_premium  \\\n",
       "0    18.8     7.332    5.640          18.048       15.040       784.55   \n",
       "1    18.1     7.421    4.525          16.290       17.014      1053.48   \n",
       "2    18.6     6.510    5.208          15.624       17.856       899.47   \n",
       "5    13.6     5.032    3.808          10.744       12.920       835.50   \n",
       "7    16.2     6.156    4.860          14.094       16.038      1137.87   \n",
       "11   17.5     9.450    7.175          14.350       15.225       861.18   \n",
       "12   15.3     5.508    4.437          13.005       14.994       641.96   \n",
       "18   20.5     7.175    6.765          14.965       20.090      1281.55   \n",
       "19   15.1     5.738    4.530          13.137       12.684       661.88   \n",
       "25   16.1     6.923    5.474          14.812       13.524       790.32   \n",
       "26   21.4     8.346    9.416          17.976       18.190       816.21   \n",
       "28   14.7     5.439    4.704          13.965       14.553      1029.87   \n",
       "33   16.8     6.552    5.208          15.792       13.608       708.24   \n",
       "34   23.9     5.497   10.038          23.661       20.554       688.75   \n",
       "36   19.9     6.368    5.771          18.308       18.706       881.51   \n",
       "38   18.2     9.100    5.642          17.472       16.016       905.99   \n",
       "40   23.9     9.082    9.799          22.944       19.359       858.97   \n",
       "41   19.4     6.014    6.402          19.012       16.684       669.31   \n",
       "43   19.4     7.760    7.372          17.654       16.878      1004.75   \n",
       "48   23.8     8.092    6.664          23.086       20.706       992.61   \n",
       "50   17.4     7.308    5.568          14.094       15.660       791.14   \n",
       "\n",
       "    ins_losses abbrev  \n",
       "0       145.08     AL  \n",
       "1       133.93     AK  \n",
       "2       110.35     AZ  \n",
       "5       139.91     CO  \n",
       "7       151.48     DE  \n",
       "11      120.92     HI  \n",
       "12       82.75     ID  \n",
       "18      194.78     LA  \n",
       "19       96.57     ME  \n",
       "25      144.45     MO  \n",
       "26       85.15     MT  \n",
       "28      138.71     NV  \n",
       "33      127.82     NC  \n",
       "34      109.72     ND  \n",
       "36      178.86     OK  \n",
       "38      153.86     PA  \n",
       "40      116.29     SC  \n",
       "41       96.87     SD  \n",
       "43      156.83     TX  \n",
       "48      152.56     WV  \n",
       "50      122.04     WY  "
      ]
     },
     "execution_count": 445,
     "metadata": {},
     "output_type": "execute_result"
    }
   ],
   "source": [
    "df[df[\"speeding\"]>5] #Tavsiye edilen format !!!!"
   ]
  },
  {
   "cell_type": "code",
   "execution_count": null,
   "id": "c9d5a7d4",
   "metadata": {
    "id": "c9d5a7d4",
    "outputId": "ea8cbc48-7898-4e94-927c-ee04a68c95f2"
   },
   "outputs": [
    {
     "data": {
      "text/html": [
       "<div>\n",
       "<style scoped>\n",
       "    .dataframe tbody tr th:only-of-type {\n",
       "        vertical-align: middle;\n",
       "    }\n",
       "\n",
       "    .dataframe tbody tr th {\n",
       "        vertical-align: top;\n",
       "    }\n",
       "\n",
       "    .dataframe thead th {\n",
       "        text-align: right;\n",
       "    }\n",
       "</style>\n",
       "<table border=\"1\" class=\"dataframe\">\n",
       "  <thead>\n",
       "    <tr style=\"text-align: right;\">\n",
       "      <th></th>\n",
       "      <th>0</th>\n",
       "      <th>1</th>\n",
       "      <th>2</th>\n",
       "      <th>3</th>\n",
       "      <th>4</th>\n",
       "      <th>5</th>\n",
       "      <th>6</th>\n",
       "      <th>7</th>\n",
       "      <th>8</th>\n",
       "      <th>9</th>\n",
       "      <th>...</th>\n",
       "      <th>41</th>\n",
       "      <th>42</th>\n",
       "      <th>43</th>\n",
       "      <th>44</th>\n",
       "      <th>45</th>\n",
       "      <th>46</th>\n",
       "      <th>47</th>\n",
       "      <th>48</th>\n",
       "      <th>49</th>\n",
       "      <th>50</th>\n",
       "    </tr>\n",
       "  </thead>\n",
       "  <tbody>\n",
       "    <tr>\n",
       "      <th>total</th>\n",
       "      <td>18.8</td>\n",
       "      <td>18.1</td>\n",
       "      <td>18.6</td>\n",
       "      <td>22.4</td>\n",
       "      <td>12.0</td>\n",
       "      <td>13.6</td>\n",
       "      <td>10.8</td>\n",
       "      <td>16.2</td>\n",
       "      <td>5.9</td>\n",
       "      <td>17.9</td>\n",
       "      <td>...</td>\n",
       "      <td>19.4</td>\n",
       "      <td>19.5</td>\n",
       "      <td>19.4</td>\n",
       "      <td>11.3</td>\n",
       "      <td>13.6</td>\n",
       "      <td>12.7</td>\n",
       "      <td>10.6</td>\n",
       "      <td>23.8</td>\n",
       "      <td>13.8</td>\n",
       "      <td>17.4</td>\n",
       "    </tr>\n",
       "    <tr>\n",
       "      <th>speeding</th>\n",
       "      <td>7.332</td>\n",
       "      <td>7.421</td>\n",
       "      <td>6.51</td>\n",
       "      <td>4.032</td>\n",
       "      <td>4.2</td>\n",
       "      <td>5.032</td>\n",
       "      <td>4.968</td>\n",
       "      <td>6.156</td>\n",
       "      <td>2.006</td>\n",
       "      <td>3.759</td>\n",
       "      <td>...</td>\n",
       "      <td>6.014</td>\n",
       "      <td>4.095</td>\n",
       "      <td>7.76</td>\n",
       "      <td>4.859</td>\n",
       "      <td>4.08</td>\n",
       "      <td>2.413</td>\n",
       "      <td>4.452</td>\n",
       "      <td>8.092</td>\n",
       "      <td>4.968</td>\n",
       "      <td>7.308</td>\n",
       "    </tr>\n",
       "    <tr>\n",
       "      <th>alcohol</th>\n",
       "      <td>5.64</td>\n",
       "      <td>4.525</td>\n",
       "      <td>5.208</td>\n",
       "      <td>5.824</td>\n",
       "      <td>3.36</td>\n",
       "      <td>3.808</td>\n",
       "      <td>3.888</td>\n",
       "      <td>4.86</td>\n",
       "      <td>1.593</td>\n",
       "      <td>5.191</td>\n",
       "      <td>...</td>\n",
       "      <td>6.402</td>\n",
       "      <td>5.655</td>\n",
       "      <td>7.372</td>\n",
       "      <td>1.808</td>\n",
       "      <td>4.08</td>\n",
       "      <td>3.429</td>\n",
       "      <td>3.498</td>\n",
       "      <td>6.664</td>\n",
       "      <td>4.554</td>\n",
       "      <td>5.568</td>\n",
       "    </tr>\n",
       "    <tr>\n",
       "      <th>not_distracted</th>\n",
       "      <td>18.048</td>\n",
       "      <td>16.29</td>\n",
       "      <td>15.624</td>\n",
       "      <td>21.056</td>\n",
       "      <td>10.92</td>\n",
       "      <td>10.744</td>\n",
       "      <td>9.396</td>\n",
       "      <td>14.094</td>\n",
       "      <td>5.9</td>\n",
       "      <td>16.468</td>\n",
       "      <td>...</td>\n",
       "      <td>19.012</td>\n",
       "      <td>15.99</td>\n",
       "      <td>17.654</td>\n",
       "      <td>9.944</td>\n",
       "      <td>13.056</td>\n",
       "      <td>11.049</td>\n",
       "      <td>8.692</td>\n",
       "      <td>23.086</td>\n",
       "      <td>5.382</td>\n",
       "      <td>14.094</td>\n",
       "    </tr>\n",
       "    <tr>\n",
       "      <th>no_previous</th>\n",
       "      <td>15.04</td>\n",
       "      <td>17.014</td>\n",
       "      <td>17.856</td>\n",
       "      <td>21.28</td>\n",
       "      <td>10.68</td>\n",
       "      <td>12.92</td>\n",
       "      <td>8.856</td>\n",
       "      <td>16.038</td>\n",
       "      <td>5.9</td>\n",
       "      <td>16.826</td>\n",
       "      <td>...</td>\n",
       "      <td>16.684</td>\n",
       "      <td>15.795</td>\n",
       "      <td>16.878</td>\n",
       "      <td>10.848</td>\n",
       "      <td>12.92</td>\n",
       "      <td>11.176</td>\n",
       "      <td>9.116</td>\n",
       "      <td>20.706</td>\n",
       "      <td>11.592</td>\n",
       "      <td>15.66</td>\n",
       "    </tr>\n",
       "    <tr>\n",
       "      <th>ins_premium</th>\n",
       "      <td>784.55</td>\n",
       "      <td>1053.48</td>\n",
       "      <td>899.47</td>\n",
       "      <td>827.34</td>\n",
       "      <td>878.41</td>\n",
       "      <td>835.5</td>\n",
       "      <td>1068.73</td>\n",
       "      <td>1137.87</td>\n",
       "      <td>1273.89</td>\n",
       "      <td>1160.13</td>\n",
       "      <td>...</td>\n",
       "      <td>669.31</td>\n",
       "      <td>767.91</td>\n",
       "      <td>1004.75</td>\n",
       "      <td>809.38</td>\n",
       "      <td>716.2</td>\n",
       "      <td>768.95</td>\n",
       "      <td>890.03</td>\n",
       "      <td>992.61</td>\n",
       "      <td>670.31</td>\n",
       "      <td>791.14</td>\n",
       "    </tr>\n",
       "    <tr>\n",
       "      <th>ins_losses</th>\n",
       "      <td>145.08</td>\n",
       "      <td>133.93</td>\n",
       "      <td>110.35</td>\n",
       "      <td>142.39</td>\n",
       "      <td>165.63</td>\n",
       "      <td>139.91</td>\n",
       "      <td>167.02</td>\n",
       "      <td>151.48</td>\n",
       "      <td>136.05</td>\n",
       "      <td>144.18</td>\n",
       "      <td>...</td>\n",
       "      <td>96.87</td>\n",
       "      <td>155.57</td>\n",
       "      <td>156.83</td>\n",
       "      <td>109.48</td>\n",
       "      <td>109.61</td>\n",
       "      <td>153.72</td>\n",
       "      <td>111.62</td>\n",
       "      <td>152.56</td>\n",
       "      <td>106.62</td>\n",
       "      <td>122.04</td>\n",
       "    </tr>\n",
       "    <tr>\n",
       "      <th>abbrev</th>\n",
       "      <td>AL</td>\n",
       "      <td>AK</td>\n",
       "      <td>AZ</td>\n",
       "      <td>AR</td>\n",
       "      <td>CA</td>\n",
       "      <td>CO</td>\n",
       "      <td>CT</td>\n",
       "      <td>DE</td>\n",
       "      <td>DC</td>\n",
       "      <td>FL</td>\n",
       "      <td>...</td>\n",
       "      <td>SD</td>\n",
       "      <td>TN</td>\n",
       "      <td>TX</td>\n",
       "      <td>UT</td>\n",
       "      <td>VT</td>\n",
       "      <td>VA</td>\n",
       "      <td>WA</td>\n",
       "      <td>WV</td>\n",
       "      <td>WI</td>\n",
       "      <td>WY</td>\n",
       "    </tr>\n",
       "  </tbody>\n",
       "</table>\n",
       "<p>8 rows × 51 columns</p>\n",
       "</div>"
      ],
      "text/plain": [
       "                    0        1       2       3       4       5        6   \\\n",
       "total             18.8     18.1    18.6    22.4    12.0    13.6     10.8   \n",
       "speeding         7.332    7.421    6.51   4.032     4.2   5.032    4.968   \n",
       "alcohol           5.64    4.525   5.208   5.824    3.36   3.808    3.888   \n",
       "not_distracted  18.048    16.29  15.624  21.056   10.92  10.744    9.396   \n",
       "no_previous      15.04   17.014  17.856   21.28   10.68   12.92    8.856   \n",
       "ins_premium     784.55  1053.48  899.47  827.34  878.41   835.5  1068.73   \n",
       "ins_losses      145.08   133.93  110.35  142.39  165.63  139.91   167.02   \n",
       "abbrev              AL       AK      AZ      AR      CA      CO       CT   \n",
       "\n",
       "                     7        8        9   ...      41      42       43  \\\n",
       "total              16.2      5.9     17.9  ...    19.4    19.5     19.4   \n",
       "speeding          6.156    2.006    3.759  ...   6.014   4.095     7.76   \n",
       "alcohol            4.86    1.593    5.191  ...   6.402   5.655    7.372   \n",
       "not_distracted   14.094      5.9   16.468  ...  19.012   15.99   17.654   \n",
       "no_previous      16.038      5.9   16.826  ...  16.684  15.795   16.878   \n",
       "ins_premium     1137.87  1273.89  1160.13  ...  669.31  767.91  1004.75   \n",
       "ins_losses       151.48   136.05   144.18  ...   96.87  155.57   156.83   \n",
       "abbrev               DE       DC       FL  ...      SD      TN       TX   \n",
       "\n",
       "                    44      45      46      47      48      49      50  \n",
       "total             11.3    13.6    12.7    10.6    23.8    13.8    17.4  \n",
       "speeding         4.859    4.08   2.413   4.452   8.092   4.968   7.308  \n",
       "alcohol          1.808    4.08   3.429   3.498   6.664   4.554   5.568  \n",
       "not_distracted   9.944  13.056  11.049   8.692  23.086   5.382  14.094  \n",
       "no_previous     10.848   12.92  11.176   9.116  20.706  11.592   15.66  \n",
       "ins_premium     809.38   716.2  768.95  890.03  992.61  670.31  791.14  \n",
       "ins_losses      109.48  109.61  153.72  111.62  152.56  106.62  122.04  \n",
       "abbrev              UT      VT      VA      WA      WV      WI      WY  \n",
       "\n",
       "[8 rows x 51 columns]"
      ]
     },
     "execution_count": 446,
     "metadata": {},
     "output_type": "execute_result"
    }
   ],
   "source": [
    "df.T"
   ]
  },
  {
   "cell_type": "code",
   "execution_count": null,
   "id": "93eb4be4",
   "metadata": {
    "colab": {
     "base_uri": "https://localhost:8080/",
     "height": 143
    },
    "executionInfo": {
     "elapsed": 268,
     "status": "ok",
     "timestamp": 1664653270022,
     "user": {
      "displayName": "Caner Gündüz",
      "userId": "16817770704696690817"
     },
     "user_tz": -180
    },
    "id": "93eb4be4",
    "outputId": "f98185bb-6186-447d-e77e-4984cc428034"
   },
   "outputs": [
    {
     "data": {
      "text/html": [
       "\n",
       "  <div id=\"df-782a28a0-a983-4f92-b233-c22fe96dcf0e\">\n",
       "    <div class=\"colab-df-container\">\n",
       "      <div>\n",
       "<style scoped>\n",
       "    .dataframe tbody tr th:only-of-type {\n",
       "        vertical-align: middle;\n",
       "    }\n",
       "\n",
       "    .dataframe tbody tr th {\n",
       "        vertical-align: top;\n",
       "    }\n",
       "\n",
       "    .dataframe thead th {\n",
       "        text-align: right;\n",
       "    }\n",
       "</style>\n",
       "<table border=\"1\" class=\"dataframe\">\n",
       "  <thead>\n",
       "    <tr style=\"text-align: right;\">\n",
       "      <th></th>\n",
       "      <th>total</th>\n",
       "      <th>speeding</th>\n",
       "      <th>alcohol</th>\n",
       "      <th>not_distracted</th>\n",
       "      <th>no_previous</th>\n",
       "      <th>ins_premium</th>\n",
       "      <th>ins_losses</th>\n",
       "      <th>abbrev</th>\n",
       "    </tr>\n",
       "  </thead>\n",
       "  <tbody>\n",
       "    <tr>\n",
       "      <th>18</th>\n",
       "      <td>20.5</td>\n",
       "      <td>7.175</td>\n",
       "      <td>6.765</td>\n",
       "      <td>14.965</td>\n",
       "      <td>20.090</td>\n",
       "      <td>1281.55</td>\n",
       "      <td>194.78</td>\n",
       "      <td>LA</td>\n",
       "    </tr>\n",
       "    <tr>\n",
       "      <th>34</th>\n",
       "      <td>23.9</td>\n",
       "      <td>5.497</td>\n",
       "      <td>10.038</td>\n",
       "      <td>23.661</td>\n",
       "      <td>20.554</td>\n",
       "      <td>688.75</td>\n",
       "      <td>109.72</td>\n",
       "      <td>ND</td>\n",
       "    </tr>\n",
       "    <tr>\n",
       "      <th>48</th>\n",
       "      <td>23.8</td>\n",
       "      <td>8.092</td>\n",
       "      <td>6.664</td>\n",
       "      <td>23.086</td>\n",
       "      <td>20.706</td>\n",
       "      <td>992.61</td>\n",
       "      <td>152.56</td>\n",
       "      <td>WV</td>\n",
       "    </tr>\n",
       "  </tbody>\n",
       "</table>\n",
       "</div>\n",
       "      <button class=\"colab-df-convert\" onclick=\"convertToInteractive('df-782a28a0-a983-4f92-b233-c22fe96dcf0e')\"\n",
       "              title=\"Convert this dataframe to an interactive table.\"\n",
       "              style=\"display:none;\">\n",
       "        \n",
       "  <svg xmlns=\"http://www.w3.org/2000/svg\" height=\"24px\"viewBox=\"0 0 24 24\"\n",
       "       width=\"24px\">\n",
       "    <path d=\"M0 0h24v24H0V0z\" fill=\"none\"/>\n",
       "    <path d=\"M18.56 5.44l.94 2.06.94-2.06 2.06-.94-2.06-.94-.94-2.06-.94 2.06-2.06.94zm-11 1L8.5 8.5l.94-2.06 2.06-.94-2.06-.94L8.5 2.5l-.94 2.06-2.06.94zm10 10l.94 2.06.94-2.06 2.06-.94-2.06-.94-.94-2.06-.94 2.06-2.06.94z\"/><path d=\"M17.41 7.96l-1.37-1.37c-.4-.4-.92-.59-1.43-.59-.52 0-1.04.2-1.43.59L10.3 9.45l-7.72 7.72c-.78.78-.78 2.05 0 2.83L4 21.41c.39.39.9.59 1.41.59.51 0 1.02-.2 1.41-.59l7.78-7.78 2.81-2.81c.8-.78.8-2.07 0-2.86zM5.41 20L4 18.59l7.72-7.72 1.47 1.35L5.41 20z\"/>\n",
       "  </svg>\n",
       "      </button>\n",
       "      \n",
       "  <style>\n",
       "    .colab-df-container {\n",
       "      display:flex;\n",
       "      flex-wrap:wrap;\n",
       "      gap: 12px;\n",
       "    }\n",
       "\n",
       "    .colab-df-convert {\n",
       "      background-color: #E8F0FE;\n",
       "      border: none;\n",
       "      border-radius: 50%;\n",
       "      cursor: pointer;\n",
       "      display: none;\n",
       "      fill: #1967D2;\n",
       "      height: 32px;\n",
       "      padding: 0 0 0 0;\n",
       "      width: 32px;\n",
       "    }\n",
       "\n",
       "    .colab-df-convert:hover {\n",
       "      background-color: #E2EBFA;\n",
       "      box-shadow: 0px 1px 2px rgba(60, 64, 67, 0.3), 0px 1px 3px 1px rgba(60, 64, 67, 0.15);\n",
       "      fill: #174EA6;\n",
       "    }\n",
       "\n",
       "    [theme=dark] .colab-df-convert {\n",
       "      background-color: #3B4455;\n",
       "      fill: #D2E3FC;\n",
       "    }\n",
       "\n",
       "    [theme=dark] .colab-df-convert:hover {\n",
       "      background-color: #434B5C;\n",
       "      box-shadow: 0px 1px 3px 1px rgba(0, 0, 0, 0.15);\n",
       "      filter: drop-shadow(0px 1px 2px rgba(0, 0, 0, 0.3));\n",
       "      fill: #FFFFFF;\n",
       "    }\n",
       "  </style>\n",
       "\n",
       "      <script>\n",
       "        const buttonEl =\n",
       "          document.querySelector('#df-782a28a0-a983-4f92-b233-c22fe96dcf0e button.colab-df-convert');\n",
       "        buttonEl.style.display =\n",
       "          google.colab.kernel.accessAllowed ? 'block' : 'none';\n",
       "\n",
       "        async function convertToInteractive(key) {\n",
       "          const element = document.querySelector('#df-782a28a0-a983-4f92-b233-c22fe96dcf0e');\n",
       "          const dataTable =\n",
       "            await google.colab.kernel.invokeFunction('convertToInteractive',\n",
       "                                                     [key], {});\n",
       "          if (!dataTable) return;\n",
       "\n",
       "          const docLinkHtml = 'Like what you see? Visit the ' +\n",
       "            '<a target=\"_blank\" href=https://colab.research.google.com/notebooks/data_table.ipynb>data table notebook</a>'\n",
       "            + ' to learn more about interactive tables.';\n",
       "          element.innerHTML = '';\n",
       "          dataTable['output_type'] = 'display_data';\n",
       "          await google.colab.output.renderOutput(dataTable, element);\n",
       "          const docLink = document.createElement('div');\n",
       "          docLink.innerHTML = docLinkHtml;\n",
       "          element.appendChild(docLink);\n",
       "        }\n",
       "      </script>\n",
       "    </div>\n",
       "  </div>\n",
       "  "
      ],
      "text/plain": [
       "    total  speeding  alcohol  not_distracted  no_previous  ins_premium  \\\n",
       "18   20.5     7.175    6.765          14.965       20.090      1281.55   \n",
       "34   23.9     5.497   10.038          23.661       20.554       688.75   \n",
       "48   23.8     8.092    6.664          23.086       20.706       992.61   \n",
       "\n",
       "    ins_losses abbrev  \n",
       "18      194.78     LA  \n",
       "34      109.72     ND  \n",
       "48      152.56     WV  "
      ]
     },
     "execution_count": 273,
     "metadata": {},
     "output_type": "execute_result"
    }
   ],
   "source": [
    "df[(df[\"alcohol\"] > 6) & (df[\"no_previous\"] > 20)]"
   ]
  },
  {
   "cell_type": "code",
   "execution_count": null,
   "id": "51412178",
   "metadata": {
    "id": "51412178"
   },
   "outputs": [],
   "source": []
  },
  {
   "cell_type": "markdown",
   "id": "dbfe3252",
   "metadata": {
    "id": "dbfe3252"
   },
   "source": [
    "## SECTION  : EXERCISES"
   ]
  },
  {
   "cell_type": "markdown",
   "id": "75367107",
   "metadata": {
    "id": "75367107"
   },
   "source": [
    "### EXERCISE - 1"
   ]
  },
  {
   "cell_type": "markdown",
   "id": "9bdfb318",
   "metadata": {
    "id": "9bdfb318"
   },
   "source": [
    "* Write a function that takes a list as an argument, assigns the odd and even numbers in the list to separate lists, and returns these lists.\n"
   ]
  },
  {
   "cell_type": "code",
   "execution_count": null,
   "id": "898adf7d",
   "metadata": {
    "colab": {
     "base_uri": "https://localhost:8080/"
    },
    "executionInfo": {
     "elapsed": 290,
     "status": "ok",
     "timestamp": 1664915059856,
     "user": {
      "displayName": "minel tuğçe Dunar",
      "userId": "05695089098120505049"
     },
     "user_tz": -180
    },
    "id": "898adf7d",
    "outputId": "18144050-9df8-4030-d1d2-e1f2960def58",
    "scrolled": true
   },
   "outputs": [
    {
     "data": {
      "text/plain": [
       "[1, 2, 3, 4, 10, 18, 93, 22]"
      ]
     },
     "execution_count": 8,
     "metadata": {},
     "output_type": "execute_result"
    }
   ],
   "source": [
    "l = [1,2,3,4,10,18,93,22]\n",
    "l"
   ]
  },
  {
   "cell_type": "code",
   "execution_count": null,
   "id": "0Gzho0IiIFGU",
   "metadata": {
    "id": "0Gzho0IiIFGU"
   },
   "outputs": [],
   "source": [
    "list1 = [1,2,3,'abc','klm']\n",
    "list2 = [2,2,2,'dd']"
   ]
  },
  {
   "cell_type": "code",
   "execution_count": null,
   "id": "FKJBI-HzINhP",
   "metadata": {
    "id": "FKJBI-HzINhP"
   },
   "outputs": [],
   "source": [
    "total_list = [list1,list2]\n",
    "total_list3 =[]"
   ]
  },
  {
   "cell_type": "code",
   "execution_count": null,
   "id": "5Mr7bK5UIzbA",
   "metadata": {
    "id": "5Mr7bK5UIzbA"
   },
   "outputs": [],
   "source": [
    "[total_list3.append(list1)].append(list2)"
   ]
  },
  {
   "cell_type": "code",
   "execution_count": null,
   "id": "ZkiB_Y-6I2oG",
   "metadata": {
    "id": "ZkiB_Y-6I2oG"
   },
   "outputs": [],
   "source": [
    "total_list2.append(list2)"
   ]
  },
  {
   "cell_type": "code",
   "execution_count": null,
   "id": "NgstwtR6I7GU",
   "metadata": {
    "colab": {
     "base_uri": "https://localhost:8080/"
    },
    "executionInfo": {
     "elapsed": 6,
     "status": "ok",
     "timestamp": 1664654579007,
     "user": {
      "displayName": "Caner Gündüz",
      "userId": "16817770704696690817"
     },
     "user_tz": -180
    },
    "id": "NgstwtR6I7GU",
    "outputId": "868c7fa3-12aa-4315-f9cc-0afc70bfa7c6"
   },
   "outputs": [
    {
     "data": {
      "text/plain": [
       "[[1, 2, 3, 'abc', 'klm']]"
      ]
     },
     "execution_count": 323,
     "metadata": {},
     "output_type": "execute_result"
    }
   ],
   "source": [
    "total_list3"
   ]
  },
  {
   "cell_type": "code",
   "execution_count": null,
   "id": "cx--dywQIRvP",
   "metadata": {
    "colab": {
     "base_uri": "https://localhost:8080/",
     "height": 36
    },
    "executionInfo": {
     "elapsed": 329,
     "status": "ok",
     "timestamp": 1664654351835,
     "user": {
      "displayName": "Caner Gündüz",
      "userId": "16817770704696690817"
     },
     "user_tz": -180
    },
    "id": "cx--dywQIRvP",
    "outputId": "bd690ca7-c70f-4323-de6b-811e9a183b74"
   },
   "outputs": [
    {
     "data": {
      "application/vnd.google.colaboratory.intrinsic+json": {
       "type": "string"
      },
      "text/plain": [
       "'abc'"
      ]
     },
     "execution_count": 305,
     "metadata": {},
     "output_type": "execute_result"
    }
   ],
   "source": [
    "total_list[0][3]"
   ]
  },
  {
   "cell_type": "code",
   "execution_count": null,
   "id": "a81bb9c7",
   "metadata": {
    "colab": {
     "base_uri": "https://localhost:8080/"
    },
    "executionInfo": {
     "elapsed": 281,
     "status": "ok",
     "timestamp": 1664915063848,
     "user": {
      "displayName": "minel tuğçe Dunar",
      "userId": "05695089098120505049"
     },
     "user_tz": -180
    },
    "id": "a81bb9c7",
    "outputId": "0323297c-1299-4be7-bdf6-c3c28a33906b"
   },
   "outputs": [
    {
     "name": "stdout",
     "output_type": "stream",
     "text": [
      "Odd: 1\n",
      "Even Numbers: []\n",
      "Odd Number: [1]\n",
      "Even: 2\n",
      "Even Numbers: [2]\n",
      "Odd Number: [1]\n",
      "Odd: 3\n",
      "Even Numbers: [2]\n",
      "Odd Number: [1, 3]\n",
      "Even: 4\n",
      "Even Numbers: [2, 4]\n",
      "Odd Number: [1, 3]\n",
      "Even: 10\n",
      "Even Numbers: [2, 4, 10]\n",
      "Odd Number: [1, 3]\n",
      "Even: 18\n",
      "Even Numbers: [2, 4, 10, 18]\n",
      "Odd Number: [1, 3]\n",
      "Odd: 93\n",
      "Even Numbers: [2, 4, 10, 18]\n",
      "Odd Number: [1, 3, 93]\n",
      "Even: 22\n",
      "Even Numbers: [2, 4, 10, 18, 22]\n",
      "Odd Number: [1, 3, 93]\n"
     ]
    }
   ],
   "source": [
    "even_list = []\n",
    "odd_list = []\n",
    "\n",
    "for i in l:\n",
    "    if i % 2 == 0:    #mod \n",
    "        print(\"Even:\", i)\n",
    "        even_list.append(i)\n",
    "    else:\n",
    "        print(\"Odd:\", i)\n",
    "        odd_list.append(i)\n",
    "\n",
    "    print(\"Even Numbers:\",even_list)\n",
    "    print(\"Odd Number:\",odd_list)"
   ]
  },
  {
   "cell_type": "code",
   "execution_count": null,
   "id": "pJjxjfqpHgnp",
   "metadata": {
    "colab": {
     "base_uri": "https://localhost:8080/"
    },
    "executionInfo": {
     "elapsed": 255,
     "status": "ok",
     "timestamp": 1664654122170,
     "user": {
      "displayName": "Caner Gündüz",
      "userId": "16817770704696690817"
     },
     "user_tz": -180
    },
    "id": "pJjxjfqpHgnp",
    "outputId": "17ce0482-0ecc-44e7-f20b-6aeb1fb1361e"
   },
   "outputs": [
    {
     "data": {
      "text/plain": [
       "[2, 4, 10, 18, 22]"
      ]
     },
     "execution_count": 295,
     "metadata": {},
     "output_type": "execute_result"
    }
   ],
   "source": [
    "odd_list"
   ]
  },
  {
   "cell_type": "code",
   "execution_count": null,
   "id": "16d26561",
   "metadata": {
    "id": "16d26561",
    "outputId": "befa1076-94e3-42a0-c567-1ecc6a16da5f"
   },
   "outputs": [
    {
     "data": {
      "text/plain": [
       "[2, 4, 10, 18, 22]"
      ]
     },
     "execution_count": 449,
     "metadata": {},
     "output_type": "execute_result"
    }
   ],
   "source": [
    "even_list"
   ]
  },
  {
   "cell_type": "code",
   "execution_count": null,
   "id": "fc2fc3d9",
   "metadata": {
    "id": "fc2fc3d9"
   },
   "outputs": [],
   "source": [
    "w = 2"
   ]
  },
  {
   "cell_type": "code",
   "execution_count": null,
   "id": "ca75f28a",
   "metadata": {
    "id": "ca75f28a",
    "outputId": "206f09f1-c18d-443e-df4a-3ec95a1100b6"
   },
   "outputs": [
    {
     "data": {
      "text/plain": [
       "2"
      ]
     },
     "execution_count": 452,
     "metadata": {},
     "output_type": "execute_result"
    }
   ],
   "source": [
    "w"
   ]
  },
  {
   "cell_type": "code",
   "execution_count": null,
   "id": "a3ef5a65",
   "metadata": {
    "id": "a3ef5a65",
    "outputId": "a9ee4f62-52cc-4605-c834-bd52c4ce66ac"
   },
   "outputs": [
    {
     "data": {
      "text/plain": [
       "True"
      ]
     },
     "execution_count": 453,
     "metadata": {},
     "output_type": "execute_result"
    }
   ],
   "source": [
    "w ==2"
   ]
  },
  {
   "cell_type": "markdown",
   "id": "35fd5f79",
   "metadata": {
    "id": "35fd5f79"
   },
   "source": [
    "### EXERCISE - 2"
   ]
  },
  {
   "cell_type": "markdown",
   "id": "4cf05b0d",
   "metadata": {
    "id": "4cf05b0d"
   },
   "source": [
    "* Read the car_crashes dataset in seaborn. Capitalize the names of the numeric variables. \n",
    "* Read the car_crashes dataset in seaborn. Capitalize the names of variables. \n",
    "\n",
    "\n",
    "* Read the car_crashes dataset in seaborn. Capitalize the names of the numeric variables. And add NUM into the beginning of them in the  dataset by using list comprehension."
   ]
  },
  {
   "cell_type": "code",
   "execution_count": 19,
   "id": "25cf461c",
   "metadata": {
    "id": "25cf461c"
   },
   "outputs": [],
   "source": [
    "import seaborn as sns"
   ]
  },
  {
   "cell_type": "code",
   "execution_count": 20,
   "id": "db4c7548",
   "metadata": {
    "id": "db4c7548",
    "outputId": "9273b448-928c-41b1-c9df-0aa62a41619c"
   },
   "outputs": [
    {
     "data": {
      "text/html": [
       "<div>\n",
       "<style scoped>\n",
       "    .dataframe tbody tr th:only-of-type {\n",
       "        vertical-align: middle;\n",
       "    }\n",
       "\n",
       "    .dataframe tbody tr th {\n",
       "        vertical-align: top;\n",
       "    }\n",
       "\n",
       "    .dataframe thead th {\n",
       "        text-align: right;\n",
       "    }\n",
       "</style>\n",
       "<table border=\"1\" class=\"dataframe\">\n",
       "  <thead>\n",
       "    <tr style=\"text-align: right;\">\n",
       "      <th></th>\n",
       "      <th>total</th>\n",
       "      <th>speeding</th>\n",
       "      <th>alcohol</th>\n",
       "      <th>not_distracted</th>\n",
       "      <th>no_previous</th>\n",
       "      <th>ins_premium</th>\n",
       "      <th>ins_losses</th>\n",
       "      <th>abbrev</th>\n",
       "    </tr>\n",
       "  </thead>\n",
       "  <tbody>\n",
       "    <tr>\n",
       "      <th>0</th>\n",
       "      <td>18.8</td>\n",
       "      <td>7.332</td>\n",
       "      <td>5.640</td>\n",
       "      <td>18.048</td>\n",
       "      <td>15.040</td>\n",
       "      <td>784.55</td>\n",
       "      <td>145.08</td>\n",
       "      <td>AL</td>\n",
       "    </tr>\n",
       "    <tr>\n",
       "      <th>1</th>\n",
       "      <td>18.1</td>\n",
       "      <td>7.421</td>\n",
       "      <td>4.525</td>\n",
       "      <td>16.290</td>\n",
       "      <td>17.014</td>\n",
       "      <td>1053.48</td>\n",
       "      <td>133.93</td>\n",
       "      <td>AK</td>\n",
       "    </tr>\n",
       "    <tr>\n",
       "      <th>2</th>\n",
       "      <td>18.6</td>\n",
       "      <td>6.510</td>\n",
       "      <td>5.208</td>\n",
       "      <td>15.624</td>\n",
       "      <td>17.856</td>\n",
       "      <td>899.47</td>\n",
       "      <td>110.35</td>\n",
       "      <td>AZ</td>\n",
       "    </tr>\n",
       "    <tr>\n",
       "      <th>3</th>\n",
       "      <td>22.4</td>\n",
       "      <td>4.032</td>\n",
       "      <td>5.824</td>\n",
       "      <td>21.056</td>\n",
       "      <td>21.280</td>\n",
       "      <td>827.34</td>\n",
       "      <td>142.39</td>\n",
       "      <td>AR</td>\n",
       "    </tr>\n",
       "    <tr>\n",
       "      <th>4</th>\n",
       "      <td>12.0</td>\n",
       "      <td>4.200</td>\n",
       "      <td>3.360</td>\n",
       "      <td>10.920</td>\n",
       "      <td>10.680</td>\n",
       "      <td>878.41</td>\n",
       "      <td>165.63</td>\n",
       "      <td>CA</td>\n",
       "    </tr>\n",
       "  </tbody>\n",
       "</table>\n",
       "</div>"
      ],
      "text/plain": [
       "   total  speeding  alcohol  not_distracted  no_previous  ins_premium  \\\n",
       "0   18.8     7.332    5.640          18.048       15.040       784.55   \n",
       "1   18.1     7.421    4.525          16.290       17.014      1053.48   \n",
       "2   18.6     6.510    5.208          15.624       17.856       899.47   \n",
       "3   22.4     4.032    5.824          21.056       21.280       827.34   \n",
       "4   12.0     4.200    3.360          10.920       10.680       878.41   \n",
       "\n",
       "   ins_losses abbrev  \n",
       "0      145.08     AL  \n",
       "1      133.93     AK  \n",
       "2      110.35     AZ  \n",
       "3      142.39     AR  \n",
       "4      165.63     CA  "
      ]
     },
     "execution_count": 20,
     "metadata": {},
     "output_type": "execute_result"
    }
   ],
   "source": [
    "df = sns.load_dataset(\"car_crashes\")\n",
    "df.head()"
   ]
  },
  {
   "cell_type": "code",
   "execution_count": 21,
   "id": "9af2e35c",
   "metadata": {
    "id": "9af2e35c",
    "outputId": "ab15f4c7-dc2b-4d09-cc0c-d0a6620f8a08"
   },
   "outputs": [
    {
     "data": {
      "text/plain": [
       "Index(['total', 'speeding', 'alcohol', 'not_distracted', 'no_previous',\n",
       "       'ins_premium', 'ins_losses', 'abbrev'],\n",
       "      dtype='object')"
      ]
     },
     "execution_count": 21,
     "metadata": {},
     "output_type": "execute_result"
    }
   ],
   "source": [
    "df.columns"
   ]
  },
  {
   "cell_type": "code",
   "execution_count": 22,
   "id": "ff0314da",
   "metadata": {
    "id": "ff0314da",
    "outputId": "d7f71a82-1f5b-4b52-90c9-f128167e96f0"
   },
   "outputs": [
    {
     "data": {
      "text/plain": [
       "['TOTAL',\n",
       " 'SPEEDING',\n",
       " 'ALCOHOL',\n",
       " 'NOT_DISTRACTED',\n",
       " 'NO_PREVIOUS',\n",
       " 'INS_PREMIUM',\n",
       " 'INS_LOSSES',\n",
       " 'ABBREV']"
      ]
     },
     "execution_count": 22,
     "metadata": {},
     "output_type": "execute_result"
    }
   ],
   "source": [
    "[u.upper() for u in df.columns]"
   ]
  },
  {
   "cell_type": "code",
   "execution_count": 23,
   "id": "325fa8ed",
   "metadata": {
    "id": "325fa8ed"
   },
   "outputs": [],
   "source": [
    "new_columns = [u.lower() for u in df.columns]"
   ]
  },
  {
   "cell_type": "code",
   "execution_count": 24,
   "id": "c80cd580",
   "metadata": {
    "id": "c80cd580",
    "outputId": "be896d5c-c44a-450e-acbc-703f21009895"
   },
   "outputs": [
    {
     "data": {
      "text/plain": [
       "['total',\n",
       " 'speeding',\n",
       " 'alcohol',\n",
       " 'not_distracted',\n",
       " 'no_previous',\n",
       " 'ins_premium',\n",
       " 'ins_losses',\n",
       " 'abbrev']"
      ]
     },
     "execution_count": 24,
     "metadata": {},
     "output_type": "execute_result"
    }
   ],
   "source": [
    "new_columns"
   ]
  },
  {
   "cell_type": "code",
   "execution_count": 25,
   "id": "f0f3dc93",
   "metadata": {
    "id": "f0f3dc93"
   },
   "outputs": [],
   "source": [
    "new_columns = [u.upper() for u in df.columns]"
   ]
  },
  {
   "cell_type": "code",
   "execution_count": 26,
   "id": "23aa6fe7",
   "metadata": {
    "id": "23aa6fe7"
   },
   "outputs": [],
   "source": [
    "df.columns = new_columns"
   ]
  },
  {
   "cell_type": "code",
   "execution_count": 27,
   "id": "f432f2c4",
   "metadata": {
    "id": "f432f2c4",
    "outputId": "26f1b979-895c-4abe-d467-df4e72ab3b1c"
   },
   "outputs": [
    {
     "data": {
      "text/html": [
       "<div>\n",
       "<style scoped>\n",
       "    .dataframe tbody tr th:only-of-type {\n",
       "        vertical-align: middle;\n",
       "    }\n",
       "\n",
       "    .dataframe tbody tr th {\n",
       "        vertical-align: top;\n",
       "    }\n",
       "\n",
       "    .dataframe thead th {\n",
       "        text-align: right;\n",
       "    }\n",
       "</style>\n",
       "<table border=\"1\" class=\"dataframe\">\n",
       "  <thead>\n",
       "    <tr style=\"text-align: right;\">\n",
       "      <th></th>\n",
       "      <th>TOTAL</th>\n",
       "      <th>SPEEDING</th>\n",
       "      <th>ALCOHOL</th>\n",
       "      <th>NOT_DISTRACTED</th>\n",
       "      <th>NO_PREVIOUS</th>\n",
       "      <th>INS_PREMIUM</th>\n",
       "      <th>INS_LOSSES</th>\n",
       "      <th>ABBREV</th>\n",
       "    </tr>\n",
       "  </thead>\n",
       "  <tbody>\n",
       "    <tr>\n",
       "      <th>0</th>\n",
       "      <td>18.8</td>\n",
       "      <td>7.332</td>\n",
       "      <td>5.640</td>\n",
       "      <td>18.048</td>\n",
       "      <td>15.040</td>\n",
       "      <td>784.55</td>\n",
       "      <td>145.08</td>\n",
       "      <td>AL</td>\n",
       "    </tr>\n",
       "    <tr>\n",
       "      <th>1</th>\n",
       "      <td>18.1</td>\n",
       "      <td>7.421</td>\n",
       "      <td>4.525</td>\n",
       "      <td>16.290</td>\n",
       "      <td>17.014</td>\n",
       "      <td>1053.48</td>\n",
       "      <td>133.93</td>\n",
       "      <td>AK</td>\n",
       "    </tr>\n",
       "    <tr>\n",
       "      <th>2</th>\n",
       "      <td>18.6</td>\n",
       "      <td>6.510</td>\n",
       "      <td>5.208</td>\n",
       "      <td>15.624</td>\n",
       "      <td>17.856</td>\n",
       "      <td>899.47</td>\n",
       "      <td>110.35</td>\n",
       "      <td>AZ</td>\n",
       "    </tr>\n",
       "    <tr>\n",
       "      <th>3</th>\n",
       "      <td>22.4</td>\n",
       "      <td>4.032</td>\n",
       "      <td>5.824</td>\n",
       "      <td>21.056</td>\n",
       "      <td>21.280</td>\n",
       "      <td>827.34</td>\n",
       "      <td>142.39</td>\n",
       "      <td>AR</td>\n",
       "    </tr>\n",
       "    <tr>\n",
       "      <th>4</th>\n",
       "      <td>12.0</td>\n",
       "      <td>4.200</td>\n",
       "      <td>3.360</td>\n",
       "      <td>10.920</td>\n",
       "      <td>10.680</td>\n",
       "      <td>878.41</td>\n",
       "      <td>165.63</td>\n",
       "      <td>CA</td>\n",
       "    </tr>\n",
       "  </tbody>\n",
       "</table>\n",
       "</div>"
      ],
      "text/plain": [
       "   TOTAL  SPEEDING  ALCOHOL  NOT_DISTRACTED  NO_PREVIOUS  INS_PREMIUM  \\\n",
       "0   18.8     7.332    5.640          18.048       15.040       784.55   \n",
       "1   18.1     7.421    4.525          16.290       17.014      1053.48   \n",
       "2   18.6     6.510    5.208          15.624       17.856       899.47   \n",
       "3   22.4     4.032    5.824          21.056       21.280       827.34   \n",
       "4   12.0     4.200    3.360          10.920       10.680       878.41   \n",
       "\n",
       "   INS_LOSSES ABBREV  \n",
       "0      145.08     AL  \n",
       "1      133.93     AK  \n",
       "2      110.35     AZ  \n",
       "3      142.39     AR  \n",
       "4      165.63     CA  "
      ]
     },
     "execution_count": 27,
     "metadata": {},
     "output_type": "execute_result"
    }
   ],
   "source": [
    "df.head()"
   ]
  },
  {
   "cell_type": "markdown",
   "id": "21f6cb76",
   "metadata": {
    "id": "21f6cb76"
   },
   "source": [
    "## SECTION : PYTHON COMPREHENSION"
   ]
  },
  {
   "cell_type": "code",
   "execution_count": 28,
   "id": "fFXDQLivEtgm",
   "metadata": {
    "colab": {
     "base_uri": "https://localhost:8080/",
     "height": 240
    },
    "executionInfo": {
     "elapsed": 12,
     "status": "error",
     "timestamp": 1665561885586,
     "user": {
      "displayName": "minel tuğçe Dunar",
      "userId": "05695089098120505049"
     },
     "user_tz": -180
    },
    "id": "fFXDQLivEtgm",
    "outputId": "8077061a-7982-4ce1-b588-42fb39f80cd5"
   },
   "outputs": [
    {
     "data": {
      "text/plain": [
       "['TOTAL',\n",
       " 'SPEEDING',\n",
       " 'ALCOHOL',\n",
       " 'NOT_DISTRACTED',\n",
       " 'NO_PREVIOUS',\n",
       " 'INS_PREMIUM',\n",
       " 'INS_LOSSES',\n",
       " 'ABBREV']"
      ]
     },
     "execution_count": 28,
     "metadata": {},
     "output_type": "execute_result"
    }
   ],
   "source": [
    "abc=[]\n",
    "for col in df.columns:\n",
    "  abc.append(col.upper())\n",
    "  #print(col.upper())\n",
    "abc"
   ]
  },
  {
   "cell_type": "code",
   "execution_count": 29,
   "id": "G_IMsfP_EnhT",
   "metadata": {
    "executionInfo": {
     "elapsed": 8,
     "status": "aborted",
     "timestamp": 1665561885587,
     "user": {
      "displayName": "minel tuğçe Dunar",
      "userId": "05695089098120505049"
     },
     "user_tz": -180
    },
    "id": "G_IMsfP_EnhT"
   },
   "outputs": [
    {
     "data": {
      "text/plain": [
       "Index(['TOTAL', 'SPEEDING', 'ALCOHOL', 'NOT_DISTRACTED', 'NO_PREVIOUS',\n",
       "       'INS_PREMIUM', 'INS_LOSSES', 'ABBREV'],\n",
       "      dtype='object')"
      ]
     },
     "execution_count": 29,
     "metadata": {},
     "output_type": "execute_result"
    }
   ],
   "source": [
    "df.columns"
   ]
  },
  {
   "cell_type": "code",
   "execution_count": 30,
   "id": "f6f8387f",
   "metadata": {
    "executionInfo": {
     "elapsed": 8,
     "status": "aborted",
     "timestamp": 1665561885588,
     "user": {
      "displayName": "minel tuğçe Dunar",
      "userId": "05695089098120505049"
     },
     "user_tz": -180
    },
    "id": "f6f8387f"
   },
   "outputs": [
    {
     "data": {
      "text/plain": [
       "['TOTAL',\n",
       " 'SPEEDING',\n",
       " 'ALCOHOL',\n",
       " 'NOT_DISTRACTED',\n",
       " 'NO_PREVIOUS',\n",
       " 'INS_PREMIUM',\n",
       " 'INS_LOSSES',\n",
       " 'ABBREV']"
      ]
     },
     "execution_count": 30,
     "metadata": {},
     "output_type": "execute_result"
    }
   ],
   "source": [
    "[col.upper() for col in df.columns]"
   ]
  },
  {
   "cell_type": "code",
   "execution_count": 31,
   "id": "a923c465",
   "metadata": {
    "executionInfo": {
     "elapsed": 8,
     "status": "aborted",
     "timestamp": 1665561885588,
     "user": {
      "displayName": "minel tuğçe Dunar",
      "userId": "05695089098120505049"
     },
     "user_tz": -180
    },
    "id": "a923c465"
   },
   "outputs": [
    {
     "data": {
      "text/plain": [
       "['NUM_TOTAL',\n",
       " 'NUM_SPEEDING',\n",
       " 'NUM_ALCOHOL',\n",
       " 'NUM_NOT_DISTRACTED',\n",
       " 'NUM_NO_PREVIOUS',\n",
       " 'NUM_INS_PREMIUM',\n",
       " 'NUM_INS_LOSSES',\n",
       " 'ABBREV']"
      ]
     },
     "execution_count": 31,
     "metadata": {},
     "output_type": "execute_result"
    }
   ],
   "source": [
    "[\"NUM_\"+ col.upper() if df[col].dtype != \"O\" else col.upper()  for col in df.columns]"
   ]
  }
 ],
 "metadata": {
  "colab": {
   "provenance": []
  },
  "kernelspec": {
   "display_name": "Python 3 (ipykernel)",
   "language": "python",
   "name": "python3"
  },
  "language_info": {
   "codemirror_mode": {
    "name": "ipython",
    "version": 3
   },
   "file_extension": ".py",
   "mimetype": "text/x-python",
   "name": "python",
   "nbconvert_exporter": "python",
   "pygments_lexer": "ipython3",
   "version": "3.9.12"
  }
 },
 "nbformat": 4,
 "nbformat_minor": 5
}
